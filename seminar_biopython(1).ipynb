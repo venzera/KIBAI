{
  "cells": [
    {
      "cell_type": "code",
      "execution_count": 1,
      "metadata": {
        "_kg_hide-input": true,
        "_kg_hide-output": true,
        "execution": {
          "iopub.execute_input": "2023-05-06T19:10:01.124873Z",
          "iopub.status.busy": "2023-05-06T19:10:01.124164Z",
          "iopub.status.idle": "2023-05-06T19:10:02.272245Z",
          "shell.execute_reply": "2023-05-06T19:10:02.271358Z",
          "shell.execute_reply.started": "2021-10-25T11:56:56.482403Z"
        },
        "papermill": {
          "duration": 1.218323,
          "end_time": "2023-05-06T19:10:02.272481",
          "exception": false,
          "start_time": "2023-05-06T19:10:01.054158",
          "status": "completed"
        },
        "tags": [],
        "colab": {
          "base_uri": "https://localhost:8080/"
        },
        "id": "OI1ppChkBazz",
        "outputId": "cbbccb0f-e9e1-4dfa-8a36-bcea80996b4a"
      },
      "outputs": [
        {
          "output_type": "stream",
          "name": "stderr",
          "text": [
            "/usr/local/lib/python3.10/dist-packages/Bio/pairwise2.py:278: BiopythonDeprecationWarning: Bio.pairwise2 has been deprecated, and we intend to remove it in a future release of Biopython. As an alternative, please consider using Bio.Align.PairwiseAligner as a replacement, and contact the Biopython developers if you still need the Bio.pairwise2 module.\n",
            "  warnings.warn(\n"
          ]
        }
      ],
      "source": [
        "import os\n",
        "import numpy as np\n",
        "import pandas as pd\n",
        "from Bio.pairwise2 import format_alignment\n",
        "from Bio.Align import substitution_matrices\n",
        "from Bio import pairwise2\n",
        "from Bio import SeqIO, SearchIO\n",
        "from Bio.Seq import Seq\n",
        "from Bio.SeqRecord import SeqRecord\n",
        "from Bio.Blast import NCBIWWW\n",
        "from Bio.Blast import NCBIXML\n",
        "\n",
        "from Bio.Phylo.TreeConstruction import DistanceTreeConstructor\n",
        "from Bio.Phylo.TreeConstruction import DistanceCalculator\n",
        "from Bio.Phylo.PhyloXML import Phylogeny\n",
        "from Bio import Phylo\n",
        "\n",
        "from pprint import pprint\n",
        "import matplotlib.pyplot as plt\n",
        "import seaborn as sns; sns.set(style='white')\n",
        "blast_id = True"
      ]
    },
    {
      "cell_type": "code",
      "source": [
        "!pip install biopython\n",
        "!pip install jupiter_bokeh"
      ],
      "metadata": {
        "colab": {
          "base_uri": "https://localhost:8080/"
        },
        "id": "T-n-mcb2Bbvg",
        "outputId": "e9ba105d-4793-47ed-a5b0-e7ac58f7f5a3"
      },
      "execution_count": 2,
      "outputs": [
        {
          "output_type": "stream",
          "name": "stdout",
          "text": [
            "Requirement already satisfied: biopython in /usr/local/lib/python3.10/dist-packages (1.84)\n",
            "Requirement already satisfied: numpy in /usr/local/lib/python3.10/dist-packages (from biopython) (1.26.4)\n"
          ]
        }
      ]
    },
    {
      "cell_type": "code",
      "execution_count": 3,
      "metadata": {
        "execution": {
          "iopub.execute_input": "2023-05-06T19:10:02.930098Z",
          "iopub.status.busy": "2023-05-06T19:10:02.929347Z",
          "iopub.status.idle": "2023-05-06T19:10:02.934233Z",
          "shell.execute_reply": "2023-05-06T19:10:02.934814Z",
          "shell.execute_reply.started": "2021-10-22T17:49:58.728857Z"
        },
        "papermill": {
          "duration": 0.085988,
          "end_time": "2023-05-06T19:10:02.934995",
          "exception": false,
          "start_time": "2023-05-06T19:10:02.849007",
          "status": "completed"
        },
        "tags": [],
        "id": "PTCt4kkTBaz3"
      },
      "outputs": [],
      "source": [
        "n = 'ATGACGGATCAGCCGCAAGCGGAATTGGCGTTTACGTACGATGCGCCGTAA'  # nucleotide sequence\n",
        "aa = 'MMMELQHQRLMALAGQLQLESLISAAPALSQQAVDQEWSYMDFLEHLLHE' # protein sequence\n",
        "\n",
        "seq_n = Seq(n)\n",
        "seq_aa = Seq(aa)"
      ]
    },
    {
      "cell_type": "markdown",
      "metadata": {
        "papermill": {
          "duration": 0.059315,
          "end_time": "2023-05-06T19:10:03.056556",
          "exception": false,
          "start_time": "2023-05-06T19:10:02.997241",
          "status": "completed"
        },
        "tags": [],
        "id": "DGCYsI-DBaz3"
      },
      "source": [
        "<div style=\"color:white;display:fill;border-radius:8px;font-size:100%; letter-spacing:1.0px;\"><p style=\"padding: 5px;color:white;text-align:left;\"><b><span style='color:#E888BB'>SIMPLE SEQUENCE OPERATIONS</span></b></p></div>\n",
        "\n",
        "- Since we don't have <code>.alphabet</code> details, you'll have to know the <b>sequence type</b> you are using, so it makes sense to give them names accordingly.\n",
        "- An example operation you could apply on a <b>nucleotide sequence</b> would be the **<span style='color:#F55AA2'>reverse_complement</span>**, which is an operation applied to a <b><span style='color:#F55AA2'>DNA</span></b> based sequence."
      ]
    },
    {
      "cell_type": "code",
      "execution_count": 4,
      "metadata": {
        "execution": {
          "iopub.execute_input": "2023-05-06T19:10:03.179699Z",
          "iopub.status.busy": "2023-05-06T19:10:03.179046Z",
          "iopub.status.idle": "2023-05-06T19:10:03.184303Z",
          "shell.execute_reply": "2023-05-06T19:10:03.184845Z",
          "shell.execute_reply.started": "2021-10-22T17:49:58.743046Z"
        },
        "papermill": {
          "duration": 0.068526,
          "end_time": "2023-05-06T19:10:03.185030",
          "exception": false,
          "start_time": "2023-05-06T19:10:03.116504",
          "status": "completed"
        },
        "tags": [],
        "colab": {
          "base_uri": "https://localhost:8080/"
        },
        "id": "LJAzF83ZBaz4",
        "outputId": "58eae206-5f3c-4818-dcbe-52f61c8fda4a"
      },
      "outputs": [
        {
          "output_type": "stream",
          "name": "stdout",
          "text": [
            "TTACGGCGCATCGTACGTAAACGCCAATTCCGCTTGCGGCTGATCCGTCAT\n",
            "EDLLDELFHKRSWEQHBTQQSLTPTTSILSELQLQCTLTKLYQDQLEKKK\n"
          ]
        }
      ],
      "source": [
        "print(seq_n.reverse_complement()) # possible\n",
        "print(seq_aa.reverse_complement()) # not actually possible"
      ]
    },
    {
      "cell_type": "markdown",
      "metadata": {
        "papermill": {
          "duration": 0.060755,
          "end_time": "2023-05-06T19:10:03.308396",
          "exception": false,
          "start_time": "2023-05-06T19:10:03.247641",
          "status": "completed"
        },
        "tags": [],
        "id": "byHMOmzZBaz4"
      },
      "source": [
        "### <b><span style='color:#E888BB'> 2.2 |</span> Sequence Annotation Objects </b>\n",
        "\n",
        "<div style=\"color:white;display:fill;border-radius:8px;font-size:100%; letter-spacing:1.0px;\"><p style=\"padding: 5px;color:white;text-align:left;\"><b><span style='color:#E888BB'>DEFINIG MORE DETAIL</span></b></p></div>\n",
        "\n",
        "- Sequence files obtained from databases provied the option to for more <b>detailed information</b> storage about the sequence, not just the <b>sequence</b> alone.\n",
        "- In BioPython, we can use <code>SeqRecord</code> objects with our defined <code>Seq</code> object instances & add define additional information about our sequence(s).\n",
        "- Two commonly added detailed information about a sequence:\n",
        "  > - <b><span style='color:#F55AA2'>Annotations</span></b> ( Extra metadata information about the sequence )\n",
        "  > - <b><span style='color:#F55AA2'>Features</span></b> ( Extra information about the sequence content, which is extractable )\n",
        "\n",
        "<div style=\"color:white;display:fill;border-radius:8px;font-size:100%; letter-spacing:1.0px;\"><p style=\"padding: 5px;color:white;text-align:left;\"><b><span style='color:#E888BB'>SEQ RECORD CLASS</span></b></p></div>\n",
        "\n",
        "<b>SeqRecord</b> | [BioPython](https://biopython.org/wiki/SeqRecord)\n",
        "\n",
        "> SeqRecord objects are used in Biopython to hold a sequence (as a Seq object) with identifiers (ID and name), description and optionally annotation and sub-features.\n",
        "\n",
        "- <code>SeqRecord</code> is class we'd use when we want to work with <code>Seq</code> that have more information about the sequence, grouped all in one spot.\n",
        "- If we wanted to do <b>multiple sequence alignment</b>, we have to define each individual sequences in the <code>SeqRecord</code> object, which requires just the <b>id</b> to be defined.\n",
        "\n",
        "<code>SeqRecord</code> objects can store:\n",
        "> - <code>seq</code> - The sequence itself ( <code>Seq()</code> objects )\n",
        "> - <code>id</code> - Sequence identifier\n",
        "> - <code>name</code> - Sequence name\n",
        "> - <code>description</code> - Description of the sequence\n",
        "> - <code>annotations</code> - Global annotations for the whole sequence (<b>dic</b>)\n",
        "> - <code>features</code> - Structured features (<b>lst</b> of <code>SeqFeature</code> objects)\n",
        "> - <code>letter_annotations</code> - Annotations for each letter (position) in the sequence\n",
        "> - <code>dexrefs</code> - References to databases\n",
        "\n",
        "<div style=\"color:white;display:fill;border-radius:8px;font-size:100%; letter-spacing:1.0px;\"><p style=\"padding: 5px;color:white;text-align:left;\"><b><span style='color:#E888BB'>SEQ RECORD ANNOTATIONS & SAVING FILES</span></b></p></div>\n",
        "\n",
        "- As we saw, <code>SeqRecord</code> can hold information about different <b><span style='color:#F55AA2'>annotations</span></b> for the sequence in question.\n",
        "- Let's define some basic annotations for <code>SeqRec</code> below, which we <b>can subsequently save</b> using <code>SeqIO</code> using the <b><span style='color:#F55AA2'>minimalistic</span></b> <b>FASTA</b> or <b><span style='color:#F55AA2'>detailed</span></b> <b>Genbank</b> formats.\n",
        "- We'll look at which <code>annotations</code> data are typically added in <b>Section 3</b>, where we'll load and look at <b>real sequence</b> files."
      ]
    },
    {
      "cell_type": "code",
      "execution_count": 5,
      "metadata": {
        "execution": {
          "iopub.execute_input": "2023-05-06T19:10:03.436398Z",
          "iopub.status.busy": "2023-05-06T19:10:03.435694Z",
          "iopub.status.idle": "2023-05-06T19:10:03.458947Z",
          "shell.execute_reply": "2023-05-06T19:10:03.458323Z",
          "shell.execute_reply.started": "2021-10-22T17:49:58.756717Z"
        },
        "papermill": {
          "duration": 0.08963,
          "end_time": "2023-05-06T19:10:03.459111",
          "exception": false,
          "start_time": "2023-05-06T19:10:03.369481",
          "status": "completed"
        },
        "tags": [],
        "colab": {
          "base_uri": "https://localhost:8080/"
        },
        "id": "7Xd-fhhRBaz4",
        "outputId": "387aa923-559f-47f5-a82c-e6f73d4e0f9d"
      },
      "outputs": [
        {
          "output_type": "execute_result",
          "data": {
            "text/plain": [
              "1"
            ]
          },
          "metadata": {},
          "execution_count": 5
        }
      ],
      "source": [
        "seq_record = SeqRecord(seq_n)\n",
        "\n",
        "seq_record.id = \"ABC12345\"\n",
        "seq_record.description = 'Neucleotide sequence'\n",
        "seq_record.annotations['molecule_type'] = 'DNA'\n",
        "SeqIO.write(seq_record,\"my_seq.fasta\",\"fasta\")\n",
        "SeqIO.write(seq_record,\"my_seq.gb\",\"genbank\")"
      ]
    },
    {
      "cell_type": "code",
      "execution_count": 6,
      "metadata": {
        "execution": {
          "iopub.execute_input": "2023-05-06T19:10:03.591121Z",
          "iopub.status.busy": "2023-05-06T19:10:03.590359Z",
          "iopub.status.idle": "2023-05-06T19:10:03.596193Z",
          "shell.execute_reply": "2023-05-06T19:10:03.595518Z",
          "shell.execute_reply.started": "2021-10-22T17:49:58.793444Z"
        },
        "papermill": {
          "duration": 0.076179,
          "end_time": "2023-05-06T19:10:03.596350",
          "exception": false,
          "start_time": "2023-05-06T19:10:03.520171",
          "status": "completed"
        },
        "tags": [],
        "colab": {
          "base_uri": "https://localhost:8080/"
        },
        "id": "7kWcYileBaz4",
        "outputId": "51ec7e38-3350-4fba-c91f-3201178f3f93"
      },
      "outputs": [
        {
          "output_type": "stream",
          "name": "stdout",
          "text": [
            "FASTA Annotations:\n",
            "{}\n",
            "GenBank Annotations\n",
            "{'molecule_type': 'DNA', 'data_file_division': 'UNK', 'date': '01-JAN-1980', 'accessions': ['ABC12345'], 'keywords': [''], 'source': '', 'organism': '.', 'taxonomy': []}\n"
          ]
        }
      ],
      "source": [
        "# As we can see FASTA doesn't seem to save the annotations data\n",
        "print('FASTA Annotations:')\n",
        "read_seq1 = SeqIO.read('my_seq.fasta','fasta')\n",
        "print(read_seq1.annotations)  # annotations\n",
        "\n",
        "# Whereas Genbank does\n",
        "print('GenBank Annotations')\n",
        "read_seq2 = SeqIO.read('my_seq.gb','genbank')\n",
        "print(read_seq2.annotations)  # annotations"
      ]
    },
    {
      "cell_type": "markdown",
      "metadata": {
        "papermill": {
          "duration": 0.060857,
          "end_time": "2023-05-06T19:10:03.719958",
          "exception": false,
          "start_time": "2023-05-06T19:10:03.659101",
          "status": "completed"
        },
        "tags": [],
        "id": "xHDsZas8Baz4"
      },
      "source": [
        "<div style=\"color:white;display:fill;border-radius:8px;font-size:100%; letter-spacing:1.0px;\"><p style=\"padding: 5px;color:white;text-align:left;\"><b><span style='color:#E888BB'>SEQRECORD FEATURES</span></b></p></div>\n",
        "\n",
        "- <b>Real sequences</b> can be very long & contain useful <b>subset sequences</b> that one might be interested in.\n",
        "- <b><span style='color:#F55AA2'>Feature descriptions</span></b> can be quite useful; if we want to define subsets of the <b>sequence</b> to which a <b>feature</b> is applicable.\n",
        "- More detailed information about the <code>SeqFeature</code> class | [BioPython Documentation](https://biopython.org/docs/1.75/api/Bio.SeqFeature.html)\n",
        "\n",
        "<b>Some</b> <code>SeqFeature</code> object attributes:\n",
        "> - <code>location</code> - Indicator of which region the annotation applies ( <code>FeatureLocation</code> object )\n",
        "> - <code>type</code> - Feature type ( <code>string</code> )\n",
        "> - <code>qualifiers</code> - Additional Info ( <code>dict</code> )\n",
        "\n"
      ]
    },
    {
      "cell_type": "code",
      "execution_count": 7,
      "metadata": {
        "execution": {
          "iopub.execute_input": "2023-05-06T19:10:03.848962Z",
          "iopub.status.busy": "2023-05-06T19:10:03.848174Z",
          "iopub.status.idle": "2023-05-06T19:10:03.851118Z",
          "shell.execute_reply": "2023-05-06T19:10:03.851645Z",
          "shell.execute_reply.started": "2021-10-22T17:49:58.804084Z"
        },
        "papermill": {
          "duration": 0.07052,
          "end_time": "2023-05-06T19:10:03.851865",
          "exception": false,
          "start_time": "2023-05-06T19:10:03.781345",
          "status": "completed"
        },
        "tags": [],
        "colab": {
          "base_uri": "https://localhost:8080/"
        },
        "id": "8TC5l1PIBaz5",
        "outputId": "a3881998-bd23-499c-c43f-3bd6d3fc92d6"
      },
      "outputs": [
        {
          "output_type": "stream",
          "name": "stdout",
          "text": [
            "Feature Location Notation: [>10:(35^40)]\n"
          ]
        }
      ],
      "source": [
        "from Bio import SeqFeature\n",
        "\n",
        "# Define locations\n",
        "s0 = SeqFeature.AfterPosition(10) # exact location\n",
        "s1 = SeqFeature.BetweenPosition(40,left=35,right=40) # fuzzy location (range)\n",
        "location = SeqFeature.FeatureLocation(s0,s1) # define the feature location\n",
        "print(f'Feature Location Notation: {location}')"
      ]
    },
    {
      "cell_type": "code",
      "execution_count": 8,
      "metadata": {
        "execution": {
          "iopub.execute_input": "2023-05-06T19:10:03.978765Z",
          "iopub.status.busy": "2023-05-06T19:10:03.977998Z",
          "iopub.status.idle": "2023-05-06T19:10:03.984686Z",
          "shell.execute_reply": "2023-05-06T19:10:03.984166Z",
          "shell.execute_reply.started": "2021-10-22T17:49:58.822248Z"
        },
        "papermill": {
          "duration": 0.070524,
          "end_time": "2023-05-06T19:10:03.984860",
          "exception": false,
          "start_time": "2023-05-06T19:10:03.914336",
          "status": "completed"
        },
        "tags": [],
        "colab": {
          "base_uri": "https://localhost:8080/"
        },
        "id": "wHamCoTrBaz5",
        "outputId": "719b920f-3aaa-4a6d-8beb-99bce888c73e"
      },
      "outputs": [
        {
          "output_type": "stream",
          "name": "stdout",
          "text": [
            "ACAGC\n"
          ]
        }
      ],
      "source": [
        "# Example for a gene feature\n",
        "\n",
        "unitig = Seq('GTGCGACAGCAAAGTCCAAACCAGCGTCCCCGCC')\n",
        "feature = SeqFeature.SeqFeature(SeqFeature.FeatureLocation(5,10), # location (shorter)\n",
        "                                type='gene' # the specified type of the feature\n",
        "                               )\n",
        "\n",
        "# If we wanted to extract the feature\n",
        "feature_seq = feature.extract(unitig)\n",
        "print(feature_seq)"
      ]
    },
    {
      "cell_type": "markdown",
      "metadata": {
        "papermill": {
          "duration": 0.061363,
          "end_time": "2023-05-06T19:10:04.108224",
          "exception": false,
          "start_time": "2023-05-06T19:10:04.046861",
          "status": "completed"
        },
        "tags": [],
        "id": "BUoutpOfBaz5"
      },
      "source": [
        "We can of course add this feature to the <code>SeqRecord</code> class & save, subsequently recalling the feature again."
      ]
    },
    {
      "cell_type": "code",
      "execution_count": 9,
      "metadata": {
        "execution": {
          "iopub.execute_input": "2023-05-06T19:10:04.237255Z",
          "iopub.status.busy": "2023-05-06T19:10:04.236535Z",
          "iopub.status.idle": "2023-05-06T19:10:04.240037Z",
          "shell.execute_reply": "2023-05-06T19:10:04.239352Z",
          "shell.execute_reply.started": "2021-10-22T17:49:58.839859Z"
        },
        "papermill": {
          "duration": 0.070333,
          "end_time": "2023-05-06T19:10:04.240264",
          "exception": false,
          "start_time": "2023-05-06T19:10:04.169931",
          "status": "completed"
        },
        "tags": [],
        "id": "1VvV3y1NBaz5"
      },
      "outputs": [],
      "source": [
        "seq_record = SeqRecord(unitig)\n",
        "\n",
        "seq_record.id = \"ABC12345\"\n",
        "seq_record.description = 'Neisseria gonorrhoeae unitig'\n",
        "seq_record.annotations['molecule_type'] = 'DNA'\n",
        "seq_record.features = [feature]"
      ]
    },
    {
      "cell_type": "code",
      "execution_count": 10,
      "metadata": {
        "execution": {
          "iopub.execute_input": "2023-05-06T19:10:04.370918Z",
          "iopub.status.busy": "2023-05-06T19:10:04.369866Z",
          "iopub.status.idle": "2023-05-06T19:10:04.381421Z",
          "shell.execute_reply": "2023-05-06T19:10:04.380685Z",
          "shell.execute_reply.started": "2021-10-22T17:49:58.854987Z"
        },
        "papermill": {
          "duration": 0.079438,
          "end_time": "2023-05-06T19:10:04.381573",
          "exception": false,
          "start_time": "2023-05-06T19:10:04.302135",
          "status": "completed"
        },
        "tags": [],
        "colab": {
          "base_uri": "https://localhost:8080/"
        },
        "id": "-hA_ADY0Baz5",
        "outputId": "fa99a0c3-b624-49fc-9f8d-7b5a2dd8e116"
      },
      "outputs": [
        {
          "output_type": "stream",
          "name": "stdout",
          "text": [
            "[SeqFeature(SimpleLocation(ExactPosition(5), ExactPosition(10), strand=1), type='gene')]\n",
            "\n",
            "Extracted Feature:\n",
            "ID: ABC12345\n",
            "Name: ABC12345\n",
            "Description: Neisseria gonorrhoeae unitig\n",
            "Number of features: 1\n",
            "/molecule_type=DNA\n",
            "Seq('ACAGC')\n"
          ]
        }
      ],
      "source": [
        "# We can of course write to gb file & see our stored data\n",
        "SeqIO.write(seq_record,\"my_seq.gb\",\"genbank\")\n",
        "read_seq2 = SeqIO.read('my_seq.gb','genbank')\n",
        "print(read_seq2.features)  # annotations\n",
        "\n",
        "# define one of the features from the list\n",
        "feature = read_seq2.features[0]\n",
        "\n",
        "# Extracted feature\n",
        "feature_seq = feature.extract(read_seq2)\n",
        "print('\\nExtracted Feature:')\n",
        "print(feature_seq)"
      ]
    },
    {
      "cell_type": "code",
      "execution_count": 11,
      "metadata": {
        "execution": {
          "iopub.execute_input": "2023-05-06T19:10:04.783957Z",
          "iopub.status.busy": "2023-05-06T19:10:04.783283Z",
          "iopub.status.idle": "2023-05-06T19:10:04.798187Z",
          "shell.execute_reply": "2023-05-06T19:10:04.797601Z",
          "shell.execute_reply.started": "2021-10-22T17:49:58.87775Z"
        },
        "papermill": {
          "duration": 0.083507,
          "end_time": "2023-05-06T19:10:04.798355",
          "exception": false,
          "start_time": "2023-05-06T19:10:04.714848",
          "status": "completed"
        },
        "tags": [],
        "colab": {
          "base_uri": "https://localhost:8080/"
        },
        "id": "7szOyaIFBaz6",
        "outputId": "c37ebdff-4246-4f81-e654-7c0da99c9dbf"
      },
      "outputs": [
        {
          "output_type": "stream",
          "name": "stdout",
          "text": [
            "FASTA Content:\n",
            "ID: HSBGPG\n",
            "Name: HSBGPG\n",
            "Description: HSBGPG Human gene for bone gla protein (BGP)\n",
            "Number of features: 0\n",
            "Seq('GGCAGATTCCCCCTAGACCCGCCCGCACCATGGTCAGGCATGCCCCTCCTCATC...AAG')\n",
            "\n",
            "Number of Nucleotides: 1231\n",
            "\n",
            "Features & Annotations:\n",
            "[]\n",
            "{}\n"
          ]
        }
      ],
      "source": [
        "''' FASTA formats w/ one sequence '''\n",
        "\n",
        "single_fasta = 'genbank/example.fasta' # nuceotide seq\n",
        "fasta_n = SeqIO.read(single_fasta,'fasta')\n",
        "print(f'FASTA Content:')\n",
        "print(fasta_n)      # Print fasta file information\n",
        "\n",
        "print(f'\\nNumber of Nucleotides: {len(fasta_n)}') # number of nucleotides\n",
        "seq_fasta = fasta_n.seq # Extract Sequence\n",
        "\n",
        "print('\\nFeatures & Annotations:')\n",
        "print(fasta_n.features)     # some files contain just the basic details\n",
        "print(fasta_n.annotations)"
      ]
    },
    {
      "cell_type": "code",
      "execution_count": 12,
      "metadata": {
        "execution": {
          "iopub.execute_input": "2023-05-06T19:10:05.055057Z",
          "iopub.status.busy": "2023-05-06T19:10:05.054365Z",
          "iopub.status.idle": "2023-05-06T19:10:05.067658Z",
          "shell.execute_reply": "2023-05-06T19:10:05.067026Z",
          "shell.execute_reply.started": "2021-10-22T17:49:58.902081Z"
        },
        "papermill": {
          "duration": 0.082529,
          "end_time": "2023-05-06T19:10:05.067821",
          "exception": false,
          "start_time": "2023-05-06T19:10:04.985292",
          "status": "completed"
        },
        "tags": [],
        "colab": {
          "base_uri": "https://localhost:8080/"
        },
        "id": "ee67H8mLBaz6",
        "outputId": "02099ecf-0ca3-4286-da11-a7eec19d6e8e"
      },
      "outputs": [
        {
          "output_type": "stream",
          "name": "stdout",
          "text": [
            "Number of Sequences read: 10\n",
            "\n",
            "First Sequence: \n",
            "ID: gi|45478712|ref|NP_995567.1|\n",
            "Name: gi|45478712|ref|NP_995567.1|\n",
            "Description: gi|45478712|ref|NP_995567.1| putative transposase [Yersinia pestis biovar Microtus str. 91001]\n",
            "Number of features: 0\n",
            "Seq('MVTFETVMEIKILHKQGMSSRAIARELGISRNTVKRYLQAKSEPPKYTPRPAVA...GVA')\n"
          ]
        }
      ],
      "source": [
        "''' FASTA formats w/ multile sequences '''\n",
        "\n",
        "multi_fasta = 'genbank/NC_005816.faa' # protein seq\n",
        "iter_multi_fasta_aa = SeqIO.parse(multi_fasta,'fasta') # returns an interator\n",
        "\n",
        "lst_fasta_aa = []\n",
        "for seq_aa in iter_multi_fasta_aa:\n",
        "    lst_fasta_aa.append(seq_aa)\n",
        "\n",
        "print(f'Number of Sequences read: {len(lst_fasta_aa)}')\n",
        "print(f'\\nFirst Sequence: \\n{lst_fasta_aa[0]}')"
      ]
    },
    {
      "cell_type": "markdown",
      "metadata": {
        "papermill": {
          "duration": 0.062284,
          "end_time": "2023-05-06T19:10:05.193557",
          "exception": false,
          "start_time": "2023-05-06T19:10:05.131273",
          "status": "completed"
        },
        "tags": [],
        "id": "vyfL29d6Baz6"
      },
      "source": [
        "### <b><span style='color:#E888BB'> 3.3 |</span> GENBANK format </b>\n",
        "Snipplet from [Bacterial Genoes Bioinformatics](https://www.futurelearn.com/info/courses/bacterial-genomes-bioinformatics/0/steps/47012)\n",
        "\n",
        "> The Genbank format allows for the storage of information in addition to a DNA/protein sequence. It <b>holds much more information</b> than the FASTA format. Formats similar to Genbank have been developed by ENA (EMBL format) and by DDBJ (DDBJ format).\n",
        "\n",
        "**COMPATIBILITY WITH DATABASES**\n",
        "\n",
        "> Primary databases have developed highly structured data file formats that enable the storage of all of these additional data that accompany the otherwise “naked” DNA sequence encoded in a FASTA file. The strict layout is necessary for the file to be compatible with a range of computer programs. Each of the three primary databases have their own sequence file format layout. However, all of them contain almost the same fields and the same information, making them interchangeable.\n",
        "\n",
        "- Like <b><span style='color:#F55AA2'>FASTA</span></b>, <b><span style='color:#F55AA2'>GenBank</span></b> files can store more than one sequence & are read in exactly the same way as shown above using class <code>SeqIO</code>. (<code>.read</code> & <code>.parse</code>)\n",
        "- However as indicated above, they tend to contain much more in depth information about the sequence, content of the nature storable in the <code>SeqRecord</code> class object.\n",
        "- As we can see below, they can store both <b><span style='color:#F55AA2'>Annotations</span></b> & <b><span style='color:#F55AA2'>Features</span></b> ( both of which we looked at in <b>Section 2.2</b> ), which makes this format very useful."
      ]
    },
    {
      "cell_type": "code",
      "execution_count": 13,
      "metadata": {
        "execution": {
          "iopub.execute_input": "2023-05-06T19:10:05.326258Z",
          "iopub.status.busy": "2023-05-06T19:10:05.325553Z",
          "iopub.status.idle": "2023-05-06T19:10:05.348523Z",
          "shell.execute_reply": "2023-05-06T19:10:05.347661Z",
          "shell.execute_reply.started": "2021-10-22T17:49:58.925544Z"
        },
        "papermill": {
          "duration": 0.092776,
          "end_time": "2023-05-06T19:10:05.348715",
          "exception": false,
          "start_time": "2023-05-06T19:10:05.255939",
          "status": "completed"
        },
        "tags": [],
        "colab": {
          "base_uri": "https://localhost:8080/"
        },
        "id": "TGHAD_VIBaz6",
        "outputId": "d739ef1f-a195-4432-db41-124170f3b0e7"
      },
      "outputs": [
        {
          "output_type": "stream",
          "name": "stdout",
          "text": [
            "Print Seq (preview)\n",
            "TGTAACGAACGGTGCAATAGTGATCCACACCCAACGCCTG\n",
            "\n",
            "Length of Sequence:\n",
            "9609\n",
            "\n",
            "Record ID:\n",
            "NC_005816.1\n",
            "\n",
            "Name:\n",
            "NC_005816\n",
            "\n",
            "Description:\n",
            "Yersinia pestis biovar Microtus str. 91001 plasmid pPCP1, complete sequence\n",
            "\n",
            "Number of Annotations:\n",
            "13\n",
            "\n",
            "Number of Features:\n",
            "41\n"
          ]
        }
      ],
      "source": [
        "file_gb = 'genbank/example.gb'\n",
        "\n",
        "''' Read GenBank format '''\n",
        "# GenBank format are more comprehnsive than fasta.\n",
        "\n",
        "gb = SeqIO.read(file_gb,'genbank')\n",
        "seq_gb = gb.seq # store sequence\n",
        "\n",
        "print('Print Seq (preview)')\n",
        "print(gb.seq[:40])\n",
        "\n",
        "print('\\nLength of Sequence:')\n",
        "print(len(gb.seq))\n",
        "\n",
        "print('\\nRecord ID:')\n",
        "print(gb.id)\n",
        "\n",
        "print('\\nName:')\n",
        "print(gb.name)\n",
        "\n",
        "print('\\nDescription:')\n",
        "print(gb.description)\n",
        "\n",
        "# Annotations\n",
        "print('\\nNumber of Annotations:')\n",
        "print(len(gb.annotations))\n",
        "\n",
        "# Features\n",
        "print('\\nNumber of Features:')\n",
        "print(len(gb.features))"
      ]
    },
    {
      "cell_type": "markdown",
      "metadata": {
        "papermill": {
          "duration": 0.064489,
          "end_time": "2023-05-06T19:10:05.479168",
          "exception": false,
          "start_time": "2023-05-06T19:10:05.414679",
          "status": "completed"
        },
        "tags": [],
        "id": "wFavatoCBaz6"
      },
      "source": [
        "<div style=\"color:white;display:fill;border-radius:8px;font-size:100%; letter-spacing:1.0px;\"><p style=\"padding: 5px;color:white;text-align:left;\"><b><span style='color:#E888BB'>ANNOTATION CONTENT</span></b></p></div>\n",
        "\n",
        "- We can visualise the <b><span style='color:#F55AA2'>annotation</span></b> content (if it is present) using <code>.annotations</code>.\n",
        "- Being a <b>dictionary</b>, we can get see what sort annotations are present by calling <code>.annotations.keys()</code>."
      ]
    },
    {
      "cell_type": "code",
      "execution_count": 14,
      "metadata": {
        "execution": {
          "iopub.execute_input": "2023-05-06T19:10:05.613988Z",
          "iopub.status.busy": "2023-05-06T19:10:05.613059Z",
          "iopub.status.idle": "2023-05-06T19:10:05.616730Z",
          "shell.execute_reply": "2023-05-06T19:10:05.617476Z",
          "shell.execute_reply.started": "2021-10-22T17:49:58.957594Z"
        },
        "papermill": {
          "duration": 0.074286,
          "end_time": "2023-05-06T19:10:05.617764",
          "exception": false,
          "start_time": "2023-05-06T19:10:05.543478",
          "status": "completed"
        },
        "tags": [],
        "colab": {
          "base_uri": "https://localhost:8080/"
        },
        "id": "0sEsBsEKBaz6",
        "outputId": "3562c609-c0a7-49d4-d6c9-3949751cc477"
      },
      "outputs": [
        {
          "output_type": "stream",
          "name": "stdout",
          "text": [
            "Annotations dictionary:\n",
            "\n",
            "{'molecule_type': 'DNA', 'topology': 'circular', 'data_file_division': 'BCT', 'date': '21-JUL-2008', 'accessions': ['NC_005816'], 'sequence_version': 1, 'gi': '45478711', 'keywords': [''], 'source': 'Yersinia pestis biovar Microtus str. 91001', 'organism': 'Yersinia pestis biovar Microtus str. 91001', 'taxonomy': ['Bacteria', 'Proteobacteria', 'Gammaproteobacteria', 'Enterobacteriales', 'Enterobacteriaceae', 'Yersinia'], 'references': [Reference(title='Genetics of metabolic variations between Yersinia pestis biovars and the proposal of a new biovar, microtus', ...), Reference(title='Complete genome sequence of Yersinia pestis strain 91001, an isolate avirulent to humans', ...), Reference(title='Direct Submission', ...), Reference(title='Direct Submission', ...)], 'comment': 'PROVISIONAL REFSEQ: This record has not yet been subject to final\\nNCBI review. The reference sequence was derived from AE017046.\\nCOMPLETENESS: full length.'}\n",
            "\n",
            "Keys:\n",
            "dict_keys(['molecule_type', 'topology', 'data_file_division', 'date', 'accessions', 'sequence_version', 'gi', 'keywords', 'source', 'organism', 'taxonomy', 'references', 'comment'])\n"
          ]
        }
      ],
      "source": [
        "# annotations field; dic that provides a number of properties for the seq\n",
        "print('Annotations dictionary:\\n')\n",
        "print(gb.annotations)\n",
        "\n",
        "print('\\nKeys:')\n",
        "print(gb.annotations.keys())"
      ]
    },
    {
      "cell_type": "code",
      "execution_count": 15,
      "metadata": {
        "execution": {
          "iopub.execute_input": "2023-05-06T19:10:05.753042Z",
          "iopub.status.busy": "2023-05-06T19:10:05.752091Z",
          "iopub.status.idle": "2023-05-06T19:10:05.755562Z",
          "shell.execute_reply": "2023-05-06T19:10:05.756375Z",
          "shell.execute_reply.started": "2021-10-22T17:49:58.967811Z"
        },
        "papermill": {
          "duration": 0.07476,
          "end_time": "2023-05-06T19:10:05.756643",
          "exception": false,
          "start_time": "2023-05-06T19:10:05.681883",
          "status": "completed"
        },
        "tags": [],
        "colab": {
          "base_uri": "https://localhost:8080/"
        },
        "id": "36-gUqwnBaz6",
        "outputId": "a208a334-f441-4158-b3ea-7b3d9099baa3"
      },
      "outputs": [
        {
          "output_type": "stream",
          "name": "stdout",
          "text": [
            "\n",
            "Get specific parts of the annotation:\n",
            "\n",
            "Taxonomy:\n",
            "\n",
            "['Bacteria', 'Proteobacteria', 'Gammaproteobacteria', 'Enterobacteriales', 'Enterobacteriaceae', 'Yersinia']\n",
            "Source:\n",
            "\n",
            "Yersinia pestis biovar Microtus str. 91001\n",
            "Date:\n",
            "\n",
            "21-JUL-2008\n",
            "gi number:\n",
            "\n",
            "45478711\n"
          ]
        }
      ],
      "source": [
        "# Getting specific key values\n",
        "print('\\nGet specific parts of the annotation:\\n')\n",
        "print('Taxonomy:\\n')\n",
        "print(gb.annotations['taxonomy'])\n",
        "\n",
        "print('Source:\\n')\n",
        "print(gb.annotations['source'])\n",
        "\n",
        "print('Date:\\n')\n",
        "print(gb.annotations['date'])\n",
        "\n",
        "print('gi number:\\n')\n",
        "print(gb.annotations['gi'])"
      ]
    },
    {
      "cell_type": "markdown",
      "metadata": {
        "papermill": {
          "duration": 0.063502,
          "end_time": "2023-05-06T19:10:05.883970",
          "exception": false,
          "start_time": "2023-05-06T19:10:05.820468",
          "status": "completed"
        },
        "tags": [],
        "id": "b02ZRtxbBaz6"
      },
      "source": [
        "<div style=\"color:white;display:fill;border-radius:8px;font-size:100%; letter-spacing:1.0px;\"><p style=\"padding: 5px;color:white;text-align:left;\"><b><span style='color:#E888BB'>SHOWING FEATURE CONTENT</span></b></p></div>\n",
        "\n",
        "- If there are any <b><span style='color:#F55AA2'>features</span></b> present in the file, we can get the <b>list</b> by calling <code>.features</code> ( What we defined in <b>Section 2.2</b> as well )\n",
        "- <b>Subsets</b> of the <b>sequence</b> can be extracted <code>.extract()</code> from the The <b>list</b> of <code>SeqFeature</code> objects."
      ]
    },
    {
      "cell_type": "code",
      "execution_count": 16,
      "metadata": {
        "execution": {
          "iopub.execute_input": "2023-05-06T19:10:06.018338Z",
          "iopub.status.busy": "2023-05-06T19:10:06.017176Z",
          "iopub.status.idle": "2023-05-06T19:10:06.021809Z",
          "shell.execute_reply": "2023-05-06T19:10:06.021162Z",
          "shell.execute_reply.started": "2021-10-22T17:49:58.983833Z"
        },
        "papermill": {
          "duration": 0.074301,
          "end_time": "2023-05-06T19:10:06.021957",
          "exception": false,
          "start_time": "2023-05-06T19:10:05.947656",
          "status": "completed"
        },
        "tags": [],
        "colab": {
          "base_uri": "https://localhost:8080/"
        },
        "id": "9j48YjWkBaz6",
        "outputId": "74639a08-5f03-4700-ed81-e444910d4b64"
      },
      "outputs": [
        {
          "output_type": "execute_result",
          "data": {
            "text/plain": [
              "[SeqFeature(SimpleLocation(ExactPosition(0), ExactPosition(9609), strand=1), type='source', qualifiers=...),\n",
              " SeqFeature(SimpleLocation(ExactPosition(0), ExactPosition(1954), strand=1), type='repeat_region'),\n",
              " SeqFeature(SimpleLocation(ExactPosition(86), ExactPosition(1109), strand=1), type='gene', qualifiers=...),\n",
              " SeqFeature(SimpleLocation(ExactPosition(86), ExactPosition(1109), strand=1), type='CDS', qualifiers=...),\n",
              " SeqFeature(SimpleLocation(ExactPosition(86), ExactPosition(959), strand=1), type='misc_feature', qualifiers=...)]"
            ]
          },
          "metadata": {},
          "execution_count": 16
        }
      ],
      "source": [
        "gb.features[:5] # show only a few features (total=41)"
      ]
    },
    {
      "cell_type": "markdown",
      "metadata": {
        "papermill": {
          "duration": 0.06435,
          "end_time": "2023-05-06T19:10:06.150894",
          "exception": false,
          "start_time": "2023-05-06T19:10:06.086544",
          "status": "completed"
        },
        "tags": [],
        "id": "0pgyxAAABaz7"
      },
      "source": [
        "<div style=\"color:white;display:fill;border-radius:8px;font-size:100%; letter-spacing:1.0px;\"><p style=\"padding: 5px;color:white;text-align:left;\"><b><span style='color:#E888BB'>EXPLORING THE GENE FEATURE TYPE</span></b></p></div>\n",
        "\n",
        "\n",
        "- One of the features <code>.type</code> that is used in <code>.features</code> is <b><span style='color:#F55AA2'>\"gene\"</span></b>.\n",
        "- We can for example, cycling through all features & get all the annotated <b>genes</b> in the whole sequence.\n",
        "- Exploring these genes, we can get their <b><span style='color:#F55AA2'>locus tag</span></b> (from <b>qualifiers</b>), <b><span style='color:#F55AA2'>database reference</span></b> (from <b>qualifiers</b>),  <b><span style='color:#F55AA2'>strand</span></b> & <b><span style='color:#F55AA2'>location</span></b>.\n",
        "- We can apply an operation called <b>translate</b> (<b>Section 4.3</b>) to try to <b>find the proteins</b> that the gene feature encode"
      ]
    },
    {
      "cell_type": "code",
      "execution_count": 17,
      "metadata": {
        "execution": {
          "iopub.execute_input": "2023-05-06T19:10:06.286862Z",
          "iopub.status.busy": "2023-05-06T19:10:06.286070Z",
          "iopub.status.idle": "2023-05-06T19:10:06.291761Z",
          "shell.execute_reply": "2023-05-06T19:10:06.291193Z",
          "shell.execute_reply.started": "2021-10-22T17:49:58.996373Z"
        },
        "papermill": {
          "duration": 0.07594,
          "end_time": "2023-05-06T19:10:06.291922",
          "exception": false,
          "start_time": "2023-05-06T19:10:06.215982",
          "status": "completed"
        },
        "tags": [],
        "colab": {
          "base_uri": "https://localhost:8080/"
        },
        "id": "QbMKlYwvBaz7",
        "outputId": "6f698dc1-96e2-4e68-cb47-7d791ae931f1"
      },
      "outputs": [
        {
          "output_type": "stream",
          "name": "stdout",
          "text": [
            "Number of gene features: 10\n"
          ]
        },
        {
          "output_type": "execute_result",
          "data": {
            "text/plain": [
              "[SeqFeature(SimpleLocation(ExactPosition(86), ExactPosition(1109), strand=1), type='gene', qualifiers=...),\n",
              " SeqFeature(SimpleLocation(ExactPosition(1105), ExactPosition(1888), strand=1), type='gene', qualifiers=...),\n",
              " SeqFeature(SimpleLocation(ExactPosition(2924), ExactPosition(3119), strand=1), type='gene', qualifiers=...),\n",
              " SeqFeature(SimpleLocation(ExactPosition(3485), ExactPosition(3857), strand=1), type='gene', qualifiers=...),\n",
              " SeqFeature(SimpleLocation(ExactPosition(4342), ExactPosition(4780), strand=1), type='gene', qualifiers=...),\n",
              " SeqFeature(SimpleLocation(ExactPosition(4814), ExactPosition(5888), strand=-1), type='gene', qualifiers=...),\n",
              " SeqFeature(SimpleLocation(ExactPosition(6004), ExactPosition(6421), strand=1), type='gene', qualifiers=...),\n",
              " SeqFeature(SimpleLocation(ExactPosition(6663), ExactPosition(7602), strand=1), type='gene', qualifiers=...),\n",
              " SeqFeature(SimpleLocation(ExactPosition(7788), ExactPosition(8088), strand=-1), type='gene', qualifiers=...),\n",
              " SeqFeature(SimpleLocation(ExactPosition(8087), ExactPosition(8360), strand=-1), type='gene', qualifiers=...)]"
            ]
          },
          "metadata": {},
          "execution_count": 17
        }
      ],
      "source": [
        "gene_features = []\n",
        "for i in range(len(gb.features)):\n",
        "    if(gb.features[i].type == 'gene'):\n",
        "        gene_features.append(gb.features[i])\n",
        "\n",
        "print(f'Number of gene features: {len(gene_features)}')\n",
        "gene_features"
      ]
    },
    {
      "cell_type": "code",
      "execution_count": 18,
      "metadata": {
        "execution": {
          "iopub.execute_input": "2023-05-06T19:10:06.430233Z",
          "iopub.status.busy": "2023-05-06T19:10:06.429522Z",
          "iopub.status.idle": "2023-05-06T19:10:06.434030Z",
          "shell.execute_reply": "2023-05-06T19:10:06.433446Z",
          "shell.execute_reply.started": "2021-10-22T17:49:59.011667Z"
        },
        "papermill": {
          "duration": 0.075089,
          "end_time": "2023-05-06T19:10:06.434204",
          "exception": false,
          "start_time": "2023-05-06T19:10:06.359115",
          "status": "completed"
        },
        "tags": [],
        "colab": {
          "base_uri": "https://localhost:8080/"
        },
        "id": "16Y_t16XBaz7",
        "outputId": "9fb49a44-f24c-41dd-836d-867498a19951"
      },
      "outputs": [
        {
          "output_type": "execute_result",
          "data": {
            "text/plain": [
              "{'locus_tag': ['YP_pPCP01'], 'db_xref': ['GeneID:2767718']}"
            ]
          },
          "metadata": {},
          "execution_count": 18
        }
      ],
      "source": [
        "# Gene Qualifiers\n",
        "gene_features[0].qualifiers"
      ]
    },
    {
      "cell_type": "code",
      "execution_count": 19,
      "metadata": {
        "execution": {
          "iopub.execute_input": "2023-05-06T19:10:06.570034Z",
          "iopub.status.busy": "2023-05-06T19:10:06.569334Z",
          "iopub.status.idle": "2023-05-06T19:10:06.572803Z",
          "shell.execute_reply": "2023-05-06T19:10:06.572146Z",
          "shell.execute_reply.started": "2021-10-22T17:49:59.03209Z"
        },
        "papermill": {
          "duration": 0.073401,
          "end_time": "2023-05-06T19:10:06.572956",
          "exception": false,
          "start_time": "2023-05-06T19:10:06.499555",
          "status": "completed"
        },
        "tags": [],
        "colab": {
          "base_uri": "https://localhost:8080/"
        },
        "id": "rcw6QpWXBaz7",
        "outputId": "73188ed5-6180-45c9-bace-449d54dd2f36"
      },
      "outputs": [
        {
          "output_type": "stream",
          "name": "stdout",
          "text": [
            "locus tag: ['YP_pPCP01'], database ref: ['GeneID:2767718'], strand: 1, location: [86:1109](+)\n",
            "locus tag: ['YP_pPCP02'], database ref: ['GeneID:2767716'], strand: 1, location: [1105:1888](+)\n",
            "locus tag: ['YP_pPCP03'], database ref: ['GeneID:2767717'], strand: 1, location: [2924:3119](+)\n",
            "locus tag: ['YP_pPCP04'], database ref: ['GeneID:2767720'], strand: 1, location: [3485:3857](+)\n",
            "locus tag: ['YP_pPCP05'], database ref: ['GeneID:2767712'], strand: 1, location: [4342:4780](+)\n",
            "locus tag: ['YP_pPCP06'], database ref: ['GeneID:2767721'], strand: -1, location: [4814:5888](-)\n",
            "locus tag: ['YP_pPCP07'], database ref: ['GeneID:2767719'], strand: 1, location: [6004:6421](+)\n",
            "locus tag: ['YP_pPCP08'], database ref: ['GeneID:2767715'], strand: 1, location: [6663:7602](+)\n",
            "locus tag: ['YP_pPCP09'], database ref: ['GeneID:2767713'], strand: -1, location: [7788:8088](-)\n",
            "locus tag: ['YP_pPCP10'], database ref: ['GeneID:2767714'], strand: -1, location: [8087:8360](-)\n"
          ]
        },
        {
          "output_type": "stream",
          "name": "stderr",
          "text": [
            "/usr/local/lib/python3.10/dist-packages/Bio/SeqFeature.py:231: BiopythonDeprecationWarning: Please use .location.strand rather than .strand\n",
            "  warnings.warn(\n"
          ]
        }
      ],
      "source": [
        "for feat in gene_features:\n",
        "    print(f\"locus tag: {feat.qualifiers['locus_tag']}, database ref: {feat.qualifiers['db_xref']}, strand: {feat.strand}, location: {feat.location}\")"
      ]
    },
    {
      "cell_type": "code",
      "execution_count": 20,
      "metadata": {
        "execution": {
          "iopub.execute_input": "2023-05-06T19:10:06.713190Z",
          "iopub.status.busy": "2023-05-06T19:10:06.712453Z",
          "iopub.status.idle": "2023-05-06T19:10:06.717026Z",
          "shell.execute_reply": "2023-05-06T19:10:06.716432Z",
          "shell.execute_reply.started": "2021-10-22T17:49:59.04644Z"
        },
        "papermill": {
          "duration": 0.078094,
          "end_time": "2023-05-06T19:10:06.717177",
          "exception": false,
          "start_time": "2023-05-06T19:10:06.639083",
          "status": "completed"
        },
        "tags": [],
        "colab": {
          "base_uri": "https://localhost:8080/"
        },
        "id": "Z2llvEr6Baz7",
        "outputId": "4149c6c8-e438-4a31-e5f7-08b406104be3"
      },
      "outputs": [
        {
          "output_type": "execute_result",
          "data": {
            "text/plain": [
              "[Seq('MVTFETVMEIKILHKQGMSSRAIARELGISRNTVKRYLQAKSEPPKYTPRPAVA...GVA'),\n",
              " Seq('MMMELQHQRLMALAGQLQLESLISAAPALSQQAVDQEWSYMDFLEHLLHEEKLA...NPE'),\n",
              " Seq('MNKQQQTALNMARFIRSQSLILLEKLDALDADEQAAMCERLHELAEELQNSIQA...TGT'),\n",
              " Seq('MSKKRRPQKRPRRRRFFHRLRPPDEHHKNRRSSQRWRNPTGLKDTRRFPPEAPS...PTR'),\n",
              " Seq('MGGGMISKLFCLALIFLSSSGLAEKNTYTAKDILQNLELNTFGNSLSHGIYGKQ...YYH'),\n",
              " Seq('MSDTMVVNGSGGVPAFLFSGSTLSSYRPNFEANSITIALPHYVDLPGRSNFKLM...LLK'),\n",
              " Seq('MKFHFCDLNHSYKNQEGKIRSRKTAPGNIRKKQKGDNVSKTKSGRHRLSKTDKR...DLP'),\n",
              " Seq('MKKSSIVATIITILSGSANAASSQLIPNISPDSFTVAASTGMLSGKSHEMLYDA...YRF'),\n",
              " Seq('MRTLDEVIASRSPESQTRIKEMADEMILEVGLQMMREELQLSQKQVAEAMGISQ...FHV'),\n",
              " Seq('MADLKKLQVYGPELPRPYADTVKGSRYKNMKELRVQFSGRPIRAFYAFDPIRRA...ESK')]"
            ]
          },
          "metadata": {},
          "execution_count": 20
        }
      ],
      "source": [
        "protein_feat = []\n",
        "for feat in gene_features:\n",
        "    protein_feat.append(feat.extract(gb.seq).translate(table='Bacterial',cds=True))\n",
        "\n",
        "protein_feat # list of protein sequences"
      ]
    },
    {
      "cell_type": "markdown",
      "metadata": {
        "papermill": {
          "duration": 0.065266,
          "end_time": "2023-05-06T19:10:06.849250",
          "exception": false,
          "start_time": "2023-05-06T19:10:06.783984",
          "status": "completed"
        },
        "tags": [],
        "id": "fxSTngDIBaz7"
      },
      "source": [
        "<div style=\"color:white;display:fill;border-radius:8px;font-size:100%; letter-spacing:1.0px;\"><p style=\"padding: 5px;color:white;text-align:left;\"><b><span style='color:#E888BB'>EXPLORING CDS FEATURE TYPE</span></b></p></div>\n",
        "\n",
        "\n",
        "- Another <code>.type</code> that is used in <code>.features</code> is <b><span style='color:#F55AA2'>\"CDS\"</span></b> (<b>Coding Sequence</b>)\n",
        "- <b>CDS</b> <code>qualifiers</code> contain quite a bit more content, including the <b>translation</b> sequence, so we can compare our translation of the <b>gene</b> feature, since both types are reffering to the same parts of the sequence."
      ]
    },
    {
      "cell_type": "code",
      "execution_count": 21,
      "metadata": {
        "execution": {
          "iopub.execute_input": "2023-05-06T19:10:06.988008Z",
          "iopub.status.busy": "2023-05-06T19:10:06.987262Z",
          "iopub.status.idle": "2023-05-06T19:10:06.992209Z",
          "shell.execute_reply": "2023-05-06T19:10:06.991567Z",
          "shell.execute_reply.started": "2021-10-22T17:49:59.062941Z"
        },
        "papermill": {
          "duration": 0.077069,
          "end_time": "2023-05-06T19:10:06.992358",
          "exception": false,
          "start_time": "2023-05-06T19:10:06.915289",
          "status": "completed"
        },
        "tags": [],
        "colab": {
          "base_uri": "https://localhost:8080/"
        },
        "id": "OPUC0k_wBaz7",
        "outputId": "21dfeeb5-c63e-4c18-d7a2-d1034f0a7f68"
      },
      "outputs": [
        {
          "output_type": "stream",
          "name": "stdout",
          "text": [
            "Number of CDS features: 10\n"
          ]
        },
        {
          "output_type": "execute_result",
          "data": {
            "text/plain": [
              "[SeqFeature(SimpleLocation(ExactPosition(86), ExactPosition(1109), strand=1), type='CDS', qualifiers=...),\n",
              " SeqFeature(SimpleLocation(ExactPosition(1105), ExactPosition(1888), strand=1), type='CDS', qualifiers=...),\n",
              " SeqFeature(SimpleLocation(ExactPosition(2924), ExactPosition(3119), strand=1), type='CDS', qualifiers=...),\n",
              " SeqFeature(SimpleLocation(ExactPosition(3485), ExactPosition(3857), strand=1), type='CDS', qualifiers=...),\n",
              " SeqFeature(SimpleLocation(ExactPosition(4342), ExactPosition(4780), strand=1), type='CDS', qualifiers=...),\n",
              " SeqFeature(SimpleLocation(ExactPosition(4814), ExactPosition(5888), strand=-1), type='CDS', qualifiers=...),\n",
              " SeqFeature(SimpleLocation(ExactPosition(6004), ExactPosition(6421), strand=1), type='CDS', qualifiers=...),\n",
              " SeqFeature(SimpleLocation(ExactPosition(6663), ExactPosition(7602), strand=1), type='CDS', qualifiers=...),\n",
              " SeqFeature(SimpleLocation(ExactPosition(7788), ExactPosition(8088), strand=-1), type='CDS', qualifiers=...),\n",
              " SeqFeature(SimpleLocation(ExactPosition(8087), ExactPosition(8360), strand=-1), type='CDS', qualifiers=...)]"
            ]
          },
          "metadata": {},
          "execution_count": 21
        }
      ],
      "source": [
        "CDS_features = []\n",
        "for i in range(len(gb.features)):\n",
        "    if(gb.features[i].type == 'CDS'):\n",
        "        CDS_features.append(gb.features[i])\n",
        "\n",
        "print(f\"Number of CDS features: {len(CDS_features)}\")\n",
        "CDS_features"
      ]
    },
    {
      "cell_type": "code",
      "execution_count": 22,
      "metadata": {
        "execution": {
          "iopub.execute_input": "2023-05-06T19:10:07.132528Z",
          "iopub.status.busy": "2023-05-06T19:10:07.131429Z",
          "iopub.status.idle": "2023-05-06T19:10:07.138105Z",
          "shell.execute_reply": "2023-05-06T19:10:07.137493Z",
          "shell.execute_reply.started": "2021-10-22T17:49:59.078642Z"
        },
        "papermill": {
          "duration": 0.07927,
          "end_time": "2023-05-06T19:10:07.138273",
          "exception": false,
          "start_time": "2023-05-06T19:10:07.059003",
          "status": "completed"
        },
        "tags": [],
        "colab": {
          "base_uri": "https://localhost:8080/"
        },
        "id": "T-Nk1yBUBaz7",
        "outputId": "ce3ce9f2-db7b-4c8b-8686-10daa02bde8f"
      },
      "outputs": [
        {
          "output_type": "stream",
          "name": "stdout",
          "text": [
            "CDS Qualifier Keys: dict_keys(['locus_tag', 'note', 'codon_start', 'transl_table', 'product', 'protein_id', 'db_xref', 'translation'])\n",
            "\n",
            "Showing First CDS Feature\n",
            "{'codon_start': ['1'],\n",
            " 'db_xref': ['GI:45478712', 'GeneID:2767718'],\n",
            " 'locus_tag': ['YP_pPCP01'],\n",
            " 'note': ['similar to corresponding CDS from previously sequenced pPCP plasmid '\n",
            "          'of Yersinia pestis KIM (AF053945) and CO92 (AL109969), also many '\n",
            "          'transposase entries for insertion sequence IS100 of Yersinia '\n",
            "          'pestis. Contains IS21-like element transposase, HTH domain '\n",
            "          '(Interpro|IPR007101)'],\n",
            " 'product': ['putative transposase'],\n",
            " 'protein_id': ['NP_995567.1'],\n",
            " 'transl_table': ['11'],\n",
            " 'translation': ['MVTFETVMEIKILHKQGMSSRAIARELGISRNTVKRYLQAKSEPPKYTPRPAVASLLDEYRDYIRQRIADAHPYKIPATVIAREIRDQGYRGGMTILRAFIRSLSVPQEQEPAVRFETEPGRQMQVDWGTMRNGRSPLHVFVAVLGYSRMLYIEFTDNMRYDTLETCHRNAFRFFGGVPREVLYDNMKTVVLQRDAYQTGQHRFHPSLWQFGKEMGFSPRLCRPFRAQTKGKVERMVQYTRNSFYIPLMTRLRPMGITVDVETANRHGLRWLHDVANQRKHETIQARPCDRWLEEQQSMLALPPEKKEYDVHLDENLVNFDKHPLHHPLSIYDSFCRGVA']}\n"
          ]
        }
      ],
      "source": [
        "print(f'CDS Qualifier Keys: {CDS_features[0].qualifiers.keys()}\\n')\n",
        "\n",
        "print('Showing First CDS Feature')\n",
        "pprint(CDS_features[0].qualifiers) # ordered dictionary"
      ]
    },
    {
      "cell_type": "code",
      "execution_count": 23,
      "metadata": {
        "execution": {
          "iopub.execute_input": "2023-05-06T19:10:07.277942Z",
          "iopub.status.busy": "2023-05-06T19:10:07.277031Z",
          "iopub.status.idle": "2023-05-06T19:10:07.280184Z",
          "shell.execute_reply": "2023-05-06T19:10:07.280669Z",
          "shell.execute_reply.started": "2021-10-22T17:49:59.093512Z"
        },
        "papermill": {
          "duration": 0.07574,
          "end_time": "2023-05-06T19:10:07.280861",
          "exception": false,
          "start_time": "2023-05-06T19:10:07.205121",
          "status": "completed"
        },
        "tags": [],
        "colab": {
          "base_uri": "https://localhost:8080/"
        },
        "id": "GzVvtUwGBaz7",
        "outputId": "97a9939b-d6c4-4ee2-e914-e4462ab2e996"
      },
      "outputs": [
        {
          "output_type": "stream",
          "name": "stdout",
          "text": [
            "locus_tag : ['YP_pPCP01']\n",
            "note : ['similar to corresponding CDS from previously sequenced pPCP plasmid of Yersinia pestis KIM (AF053945) and CO92 (AL109969), also many transposase entries for insertion sequence IS100 of Yersinia pestis. Contains IS21-like element transposase, HTH domain (Interpro|IPR007101)']\n",
            "codon_start : ['1']\n",
            "transl_table : ['11']\n",
            "product : ['putative transposase']\n",
            "protein_id : ['NP_995567.1']\n",
            "db_xref : ['GI:45478712', 'GeneID:2767718']\n",
            "translation : ['MVTFETVMEIKILHKQGMSSRAIARELGISRNTVKRYLQAKSEPPKYTPRPAVASLLDEYRDYIRQRIADAHPYKIPATVIAREIRDQGYRGGMTILRAFIRSLSVPQEQEPAVRFETEPGRQMQVDWGTMRNGRSPLHVFVAVLGYSRMLYIEFTDNMRYDTLETCHRNAFRFFGGVPREVLYDNMKTVVLQRDAYQTGQHRFHPSLWQFGKEMGFSPRLCRPFRAQTKGKVERMVQYTRNSFYIPLMTRLRPMGITVDVETANRHGLRWLHDVANQRKHETIQARPCDRWLEEQQSMLALPPEKKEYDVHLDENLVNFDKHPLHHPLSIYDSFCRGVA']\n"
          ]
        }
      ],
      "source": [
        "for key, value in CDS_features[0].qualifiers.items():\n",
        "    print(f'{key} : {value}')"
      ]
    },
    {
      "cell_type": "code",
      "execution_count": 24,
      "metadata": {
        "execution": {
          "iopub.execute_input": "2023-05-06T19:10:07.423801Z",
          "iopub.status.busy": "2023-05-06T19:10:07.422738Z",
          "iopub.status.idle": "2023-05-06T19:10:07.427648Z",
          "shell.execute_reply": "2023-05-06T19:10:07.426982Z",
          "shell.execute_reply.started": "2021-10-22T17:49:59.105306Z"
        },
        "papermill": {
          "duration": 0.07933,
          "end_time": "2023-05-06T19:10:07.427868",
          "exception": false,
          "start_time": "2023-05-06T19:10:07.348538",
          "status": "completed"
        },
        "tags": [],
        "colab": {
          "base_uri": "https://localhost:8080/"
        },
        "id": "x0RVTUb7Baz7",
        "outputId": "26732c44-deb7-4547-d0e0-1a398be8df65"
      },
      "outputs": [
        {
          "output_type": "execute_result",
          "data": {
            "text/plain": [
              "True"
            ]
          },
          "metadata": {},
          "execution_count": 24
        }
      ],
      "source": [
        "# Should be identical\n",
        "Seq(CDS_features[0].qualifiers['translation'][0]) == protein_feat[0]"
      ]
    },
    {
      "cell_type": "code",
      "execution_count": 25,
      "metadata": {
        "execution": {
          "iopub.execute_input": "2023-05-06T19:10:07.704921Z",
          "iopub.status.busy": "2023-05-06T19:10:07.704211Z",
          "iopub.status.idle": "2023-05-06T19:10:07.707911Z",
          "shell.execute_reply": "2023-05-06T19:10:07.707246Z",
          "shell.execute_reply.started": "2021-10-22T17:49:59.118576Z"
        },
        "papermill": {
          "duration": 0.077399,
          "end_time": "2023-05-06T19:10:07.708062",
          "exception": false,
          "start_time": "2023-05-06T19:10:07.630663",
          "status": "completed"
        },
        "tags": [],
        "colab": {
          "base_uri": "https://localhost:8080/"
        },
        "id": "OfAbcSP6Baz8",
        "outputId": "7292f38b-e899-471f-8e77-77cca86cf1aa"
      },
      "outputs": [
        {
          "output_type": "stream",
          "name": "stdout",
          "text": [
            "373\n",
            "GC\n",
            "True\n",
            "75\n",
            "MEVRNAKSGHERWKY\n"
          ]
        }
      ],
      "source": [
        "''' Basic Operations '''\n",
        "\n",
        "print(seq_fasta.count('G'))   # Counter for Guanine Nucleotide Count\n",
        "print(seq_fasta[1:3])         # Show specific Subset of a Sequence\n",
        "print('ATA' in seq_fasta)     # Is string subset part of sequence\n",
        "print(seq_fasta.find('ATA'))  # Find Substring index\n",
        "\n",
        "# Instantiate a sequence w/ Seq()\n",
        "seq1 = Seq('MEVRNAKS')\n",
        "seq2 = Seq('GHERWKY')\n",
        "\n",
        "print(seq1 + seq2)"
      ]
    },
    {
      "cell_type": "code",
      "execution_count": 26,
      "metadata": {
        "execution": {
          "iopub.execute_input": "2023-05-06T19:10:07.986945Z",
          "iopub.status.busy": "2023-05-06T19:10:07.986223Z",
          "iopub.status.idle": "2023-05-06T19:10:07.989649Z",
          "shell.execute_reply": "2023-05-06T19:10:07.989030Z",
          "shell.execute_reply.started": "2021-10-22T17:49:59.13072Z"
        },
        "papermill": {
          "duration": 0.076749,
          "end_time": "2023-05-06T19:10:07.989812",
          "exception": false,
          "start_time": "2023-05-06T19:10:07.913063",
          "status": "completed"
        },
        "tags": [],
        "colab": {
          "base_uri": "https://localhost:8080/"
        },
        "id": "vc0O0MpSBaz8",
        "outputId": "0e6d37fc-766f-47e7-aee1-b126aade8cde"
      },
      "outputs": [
        {
          "output_type": "stream",
          "name": "stdout",
          "text": [
            "DNA Sequence: GGCAGATTCCCCCTAGACCCGCCCGCACCATGGTCAGGCATGCCCCTCCTCATCGCTGGGCACAGCCCAGAGGGTATAAACAGTGCTGGAGGCTGGCGGG\n",
            "Reverse Complement: CTTCTGGAGTTTATTTGGGAGCAGCTGGGATGATGGGGACCCCACATCCATAGGGCTGGGAGGTCAGGGCAAGGGCAAGGGGAAGAGGAAAGAAGGGTGC\n",
            "Transcription: UGUAACGAACGGUGCAAUAGUGAUCCACACCCAACGCCUGAAAUCAGAUCCAGGGGGUAAUCUGCUCUCCUGAUUCAGGAGAGUUUAUGGUCACUUUUGA\n"
          ]
        }
      ],
      "source": [
        "''' Transcription & Reverse Complement '''\n",
        "\n",
        "print(f'DNA Sequence: {seq_fasta[:100]}')\n",
        "print(f'Reverse Complement: {seq_fasta.reverse_complement()[:100]}')\n",
        "print(f'Transcription: {seq_gb.transcribe()[:100]}')"
      ]
    },
    {
      "cell_type": "markdown",
      "metadata": {
        "papermill": {
          "duration": 0.069946,
          "end_time": "2023-05-06T19:10:08.128172",
          "exception": false,
          "start_time": "2023-05-06T19:10:08.058226",
          "status": "completed"
        },
        "tags": [],
        "id": "GE8jgX7MBaz8"
      },
      "source": [
        "### <b><span style='color:#E888BB'> 4.3 |</span> Translation </b>\n",
        "\n",
        "<div style=\"color:white;display:fill;border-radius:8px;font-size:100%; letter-spacing:1.0px;\"><p style=\"padding: 5px;color:white;text-align:left;\"><b><span style='color:#E888BB'>TRANSLATION & CODON TABLE</span></b></p></div>\n",
        "\n",
        "\n",
        "#### **TRANSLATION**\n",
        "\n",
        "Snipplet from [genome.gov](https://www.genome.gov/genetics-glossary/Translation)\n",
        "\n",
        "> Translation is the process of translating the sequence of a <b><span style='color:#F55AA2'>messenger RNA</span></b> (mRNA) molecule to a <b><span style='color:#F55AA2'>sequence of amino acids</span></b> during protein synthesis. The <b><span style='color:#F55AA2'>genetic code</span></b> describes the relationship between the sequence of base pairs in a gene and the corresponding amino acid sequence that it encodes. In the cell cytoplasm, the ribosome reads the sequence of the mRNA in groups of three bases to assemble the protein.\n",
        "\n",
        "- Translation accepts a DNA sequence and converts it into a <b><span style='color:#F55AA2'>proteins</span></b> in the reading frame you specify.\n",
        "\n",
        "#### **CODON TABLES**\n",
        "\n",
        "A <b><span style='color:#F55AA2'>codon</span></b> is a sequence of <b><span style='color:#F55AA2'>three DNA/RNA nucleotides</span></b> that corresponds with a <b><span style='color:#F55AA2'>specific amino acid</span></b> or <b><span style='color:#F55AA2'>stop signal/codon(*)</span></b> during protein synthesis\n",
        "\n",
        "Snipplet from [Khan Academy](https://www.khanacademy.org/science/ap-biology/gene-expression-and-regulation/translation/a/the-genetic-code-discovery-and-properties)\n",
        "\n",
        "> The full set of relationships between <b><span style='color:#F55AA2'>codons</span></b> and amino acids (or stop signals) is called the <b><span style='color:#F55AA2'>genetic code</span></b>. The genetic code is often summarized in a table.\n",
        "\n",
        "There are a number of <b><span style='color:#F55AA2'>codon tables</span></b>, a few mentioned below:\n",
        "> - Standard  (SGC)\n",
        "> - Vertebrate Mitochondrial\n",
        "> - Bacterial"
      ]
    },
    {
      "cell_type": "code",
      "execution_count": 27,
      "metadata": {
        "execution": {
          "iopub.execute_input": "2023-05-06T19:10:08.270621Z",
          "iopub.status.busy": "2023-05-06T19:10:08.269979Z",
          "iopub.status.idle": "2023-05-06T19:10:08.273859Z",
          "shell.execute_reply": "2023-05-06T19:10:08.273201Z",
          "shell.execute_reply.started": "2021-10-22T17:49:59.143645Z"
        },
        "papermill": {
          "duration": 0.076976,
          "end_time": "2023-05-06T19:10:08.274012",
          "exception": false,
          "start_time": "2023-05-06T19:10:08.197036",
          "status": "completed"
        },
        "tags": [],
        "colab": {
          "base_uri": "https://localhost:8080/"
        },
        "id": "OZ5t8OhNBaz8",
        "outputId": "02c62dcd-d7ed-483c-d5d9-72896d4070ec"
      },
      "outputs": [
        {
          "output_type": "stream",
          "name": "stdout",
          "text": [
            "Table 1 Standard, SGC0\n",
            "\n",
            "  |  T      |  C      |  A      |  G      |\n",
            "--+---------+---------+---------+---------+--\n",
            "T | TTT F   | TCT S   | TAT Y   | TGT C   | T\n",
            "T | TTC F   | TCC S   | TAC Y   | TGC C   | C\n",
            "T | TTA L   | TCA S   | TAA Stop| TGA Stop| A\n",
            "T | TTG L(s)| TCG S   | TAG Stop| TGG W   | G\n",
            "--+---------+---------+---------+---------+--\n",
            "C | CTT L   | CCT P   | CAT H   | CGT R   | T\n",
            "C | CTC L   | CCC P   | CAC H   | CGC R   | C\n",
            "C | CTA L   | CCA P   | CAA Q   | CGA R   | A\n",
            "C | CTG L(s)| CCG P   | CAG Q   | CGG R   | G\n",
            "--+---------+---------+---------+---------+--\n",
            "A | ATT I   | ACT T   | AAT N   | AGT S   | T\n",
            "A | ATC I   | ACC T   | AAC N   | AGC S   | C\n",
            "A | ATA I   | ACA T   | AAA K   | AGA R   | A\n",
            "A | ATG M(s)| ACG T   | AAG K   | AGG R   | G\n",
            "--+---------+---------+---------+---------+--\n",
            "G | GTT V   | GCT A   | GAT D   | GGT G   | T\n",
            "G | GTC V   | GCC A   | GAC D   | GGC G   | C\n",
            "G | GTA V   | GCA A   | GAA E   | GGA G   | A\n",
            "G | GTG V   | GCG A   | GAG E   | GGG G   | G\n",
            "--+---------+---------+---------+---------+--\n"
          ]
        }
      ],
      "source": [
        "from Bio.Data import CodonTable\n",
        "\n",
        "# Let's take a look at one type of table (SGC)\n",
        "table = CodonTable.unambiguous_dna_by_name['Standard']\n",
        "print(table)"
      ]
    },
    {
      "cell_type": "code",
      "execution_count": 28,
      "metadata": {
        "execution": {
          "iopub.execute_input": "2023-05-06T19:10:08.417330Z",
          "iopub.status.busy": "2023-05-06T19:10:08.416612Z",
          "iopub.status.idle": "2023-05-06T19:10:08.421013Z",
          "shell.execute_reply": "2023-05-06T19:10:08.420432Z",
          "shell.execute_reply.started": "2021-10-22T17:49:59.158248Z"
        },
        "papermill": {
          "duration": 0.078226,
          "end_time": "2023-05-06T19:10:08.421168",
          "exception": false,
          "start_time": "2023-05-06T19:10:08.342942",
          "status": "completed"
        },
        "tags": [],
        "colab": {
          "base_uri": "https://localhost:8080/",
          "height": 36
        },
        "id": "TDfmfBPHBaz8",
        "outputId": "c6dcc18d-e141-4923-8d6a-5fb909a28399"
      },
      "outputs": [
        {
          "output_type": "execute_result",
          "data": {
            "text/plain": [
              "'M'"
            ],
            "application/vnd.google.colaboratory.intrinsic+json": {
              "type": "string"
            }
          },
          "metadata": {},
          "execution_count": 28
        }
      ],
      "source": [
        "# Getting a specific conversion\n",
        "table.forward_table[\"ATG\"]"
      ]
    },
    {
      "cell_type": "code",
      "execution_count": 29,
      "metadata": {
        "execution": {
          "iopub.execute_input": "2023-05-06T19:10:08.569297Z",
          "iopub.status.busy": "2023-05-06T19:10:08.568451Z",
          "iopub.status.idle": "2023-05-06T19:10:08.575341Z",
          "shell.execute_reply": "2023-05-06T19:10:08.574666Z",
          "shell.execute_reply.started": "2021-10-22T17:49:59.171844Z"
        },
        "papermill": {
          "duration": 0.084104,
          "end_time": "2023-05-06T19:10:08.575548",
          "exception": false,
          "start_time": "2023-05-06T19:10:08.491444",
          "status": "completed"
        },
        "tags": [],
        "colab": {
          "base_uri": "https://localhost:8080/"
        },
        "id": "HO4ZG6XQBaz8",
        "outputId": "d7c540d9-6270-4371-e0d8-ef26f7248684"
      },
      "outputs": [
        {
          "output_type": "stream",
          "name": "stdout",
          "text": [
            "translation RNA: MRLT\n",
            "translation DNA: CNERCNSDPHPTPEIRSRG*SALLIQESLWSLLRQLWKLKSCTSRE*VAGRLPENWGSPAIPLNVICRQNLSRQNIRRDLLLLHSWMNTGIIFVNASPML\n",
            "translation DNA (alternative): CNERCNSDPHPTPEI*S*G*SALLIQESLWSLL*QLWKLKSCTS*EWVAGRLPENWGSPAMPLNVIC*QNLSRQNMRRDLLLLHSWMNTGIMFVNASPML\n"
          ]
        }
      ],
      "source": [
        "''' Translation for both DNA & RNA '''\n",
        "#  translate codon into an aminoacid\n",
        "\n",
        "rna_seq = Seq('AUGCGUUUAACU')\n",
        "print(f'translation RNA: {rna_seq.translate()}')\n",
        "\n",
        "# Translate DNA sequence using two different tables (SGC & Vertebrate Mitochondrial)\n",
        "print(f'translation DNA: {seq_gb.translate()[:100]}')\n",
        "print(f'translation DNA (alternative): {seq_gb.translate(table=\"Vertebrate Mitochondrial\")[:100]}')"
      ]
    },
    {
      "cell_type": "markdown",
      "metadata": {
        "papermill": {
          "duration": 0.068951,
          "end_time": "2023-05-06T19:10:08.715028",
          "exception": false,
          "start_time": "2023-05-06T19:10:08.646077",
          "status": "completed"
        },
        "tags": [],
        "id": "5Aqn9xXLBaz8"
      },
      "source": [
        "<div style=\"color:white;display:fill;border-radius:8px;font-size:100%; letter-spacing:1.0px;\"><p style=\"padding: 5px;color:white;text-align:left;\"><b><span style='color:#E888BB'>PROTEIN IDENTIFICATION</span></b></p></div>\n",
        "\n",
        "\n",
        "- We can of course load something more realistic, an entire <b>genome</b> sequence as well & apply translation as we try to understand what proteins are encoded in the genome.\n",
        "- Let's obtain the largest <b>amino acid</b> chain in the sequence data."
      ]
    },
    {
      "cell_type": "code",
      "execution_count": 30,
      "metadata": {
        "execution": {
          "iopub.execute_input": "2023-05-06T19:10:08.862334Z",
          "iopub.status.busy": "2023-05-06T19:10:08.861567Z",
          "iopub.status.idle": "2023-05-06T19:10:08.917631Z",
          "shell.execute_reply": "2023-05-06T19:10:08.918185Z",
          "shell.execute_reply.started": "2021-10-22T17:49:59.191497Z"
        },
        "papermill": {
          "duration": 0.13403,
          "end_time": "2023-05-06T19:10:08.918392",
          "exception": false,
          "start_time": "2023-05-06T19:10:08.784362",
          "status": "completed"
        },
        "tags": [],
        "colab": {
          "base_uri": "https://localhost:8080/",
          "height": 282
        },
        "id": "_HDTxtLpBaz8",
        "outputId": "7880ae4e-99d3-4868-b811-3d5eaef043be"
      },
      "outputs": [
        {
          "output_type": "stream",
          "name": "stdout",
          "text": [
            "Translation length: 9967\n"
          ]
        },
        {
          "output_type": "stream",
          "name": "stderr",
          "text": [
            "/usr/local/lib/python3.10/dist-packages/Bio/Seq.py:2879: BiopythonWarning: Partial codon, len(sequence) not a multiple of three. Explicitly trim the sequence or add trailing N before translation. This may become an error in future.\n",
            "  warnings.warn(\n"
          ]
        },
        {
          "output_type": "display_data",
          "data": {
            "text/plain": [
              "                                       protein_chains  length\n",
              "48  CTIVFKRVCGVSAARLTPCGTGTSTDVVYRAFDIYNDKVAGFAKFL...    2701\n",
              "61  ASAQRSQITLHINELMDLFMRIFTIGTVTLKQGEIKDATPSDFVRA...     290\n",
              "68  TNMKIILFLALITLATCELYHYQECVRGTTVLLKEPCSSGTYEGNS...     123\n",
              "62  AQADEYELMYSFVSEETGTLIVNSVLLFLAFVVFLLVTLAILTALR...      83\n",
              "67  QQMFHLVDFQVTIAEILLIIMRTFKVSIWNLDYIINLIIKNLSKSL...      63"
            ],
            "text/html": [
              "\n",
              "  <div id=\"df-9eccc95a-d4f8-4659-a854-ca6fbb9d7f59\" class=\"colab-df-container\">\n",
              "    <div>\n",
              "<style scoped>\n",
              "    .dataframe tbody tr th:only-of-type {\n",
              "        vertical-align: middle;\n",
              "    }\n",
              "\n",
              "    .dataframe tbody tr th {\n",
              "        vertical-align: top;\n",
              "    }\n",
              "\n",
              "    .dataframe thead th {\n",
              "        text-align: right;\n",
              "    }\n",
              "</style>\n",
              "<table border=\"1\" class=\"dataframe\">\n",
              "  <thead>\n",
              "    <tr style=\"text-align: right;\">\n",
              "      <th></th>\n",
              "      <th>protein_chains</th>\n",
              "      <th>length</th>\n",
              "    </tr>\n",
              "  </thead>\n",
              "  <tbody>\n",
              "    <tr>\n",
              "      <th>48</th>\n",
              "      <td>CTIVFKRVCGVSAARLTPCGTGTSTDVVYRAFDIYNDKVAGFAKFL...</td>\n",
              "      <td>2701</td>\n",
              "    </tr>\n",
              "    <tr>\n",
              "      <th>61</th>\n",
              "      <td>ASAQRSQITLHINELMDLFMRIFTIGTVTLKQGEIKDATPSDFVRA...</td>\n",
              "      <td>290</td>\n",
              "    </tr>\n",
              "    <tr>\n",
              "      <th>68</th>\n",
              "      <td>TNMKIILFLALITLATCELYHYQECVRGTTVLLKEPCSSGTYEGNS...</td>\n",
              "      <td>123</td>\n",
              "    </tr>\n",
              "    <tr>\n",
              "      <th>62</th>\n",
              "      <td>AQADEYELMYSFVSEETGTLIVNSVLLFLAFVVFLLVTLAILTALR...</td>\n",
              "      <td>83</td>\n",
              "    </tr>\n",
              "    <tr>\n",
              "      <th>67</th>\n",
              "      <td>QQMFHLVDFQVTIAEILLIIMRTFKVSIWNLDYIINLIIKNLSKSL...</td>\n",
              "      <td>63</td>\n",
              "    </tr>\n",
              "  </tbody>\n",
              "</table>\n",
              "</div>\n",
              "    <div class=\"colab-df-buttons\">\n",
              "\n",
              "  <div class=\"colab-df-container\">\n",
              "    <button class=\"colab-df-convert\" onclick=\"convertToInteractive('df-9eccc95a-d4f8-4659-a854-ca6fbb9d7f59')\"\n",
              "            title=\"Convert this dataframe to an interactive table.\"\n",
              "            style=\"display:none;\">\n",
              "\n",
              "  <svg xmlns=\"http://www.w3.org/2000/svg\" height=\"24px\" viewBox=\"0 -960 960 960\">\n",
              "    <path d=\"M120-120v-720h720v720H120Zm60-500h600v-160H180v160Zm220 220h160v-160H400v160Zm0 220h160v-160H400v160ZM180-400h160v-160H180v160Zm440 0h160v-160H620v160ZM180-180h160v-160H180v160Zm440 0h160v-160H620v160Z\"/>\n",
              "  </svg>\n",
              "    </button>\n",
              "\n",
              "  <style>\n",
              "    .colab-df-container {\n",
              "      display:flex;\n",
              "      gap: 12px;\n",
              "    }\n",
              "\n",
              "    .colab-df-convert {\n",
              "      background-color: #E8F0FE;\n",
              "      border: none;\n",
              "      border-radius: 50%;\n",
              "      cursor: pointer;\n",
              "      display: none;\n",
              "      fill: #1967D2;\n",
              "      height: 32px;\n",
              "      padding: 0 0 0 0;\n",
              "      width: 32px;\n",
              "    }\n",
              "\n",
              "    .colab-df-convert:hover {\n",
              "      background-color: #E2EBFA;\n",
              "      box-shadow: 0px 1px 2px rgba(60, 64, 67, 0.3), 0px 1px 3px 1px rgba(60, 64, 67, 0.15);\n",
              "      fill: #174EA6;\n",
              "    }\n",
              "\n",
              "    .colab-df-buttons div {\n",
              "      margin-bottom: 4px;\n",
              "    }\n",
              "\n",
              "    [theme=dark] .colab-df-convert {\n",
              "      background-color: #3B4455;\n",
              "      fill: #D2E3FC;\n",
              "    }\n",
              "\n",
              "    [theme=dark] .colab-df-convert:hover {\n",
              "      background-color: #434B5C;\n",
              "      box-shadow: 0px 1px 3px 1px rgba(0, 0, 0, 0.15);\n",
              "      filter: drop-shadow(0px 1px 2px rgba(0, 0, 0, 0.3));\n",
              "      fill: #FFFFFF;\n",
              "    }\n",
              "  </style>\n",
              "\n",
              "    <script>\n",
              "      const buttonEl =\n",
              "        document.querySelector('#df-9eccc95a-d4f8-4659-a854-ca6fbb9d7f59 button.colab-df-convert');\n",
              "      buttonEl.style.display =\n",
              "        google.colab.kernel.accessAllowed ? 'block' : 'none';\n",
              "\n",
              "      async function convertToInteractive(key) {\n",
              "        const element = document.querySelector('#df-9eccc95a-d4f8-4659-a854-ca6fbb9d7f59');\n",
              "        const dataTable =\n",
              "          await google.colab.kernel.invokeFunction('convertToInteractive',\n",
              "                                                    [key], {});\n",
              "        if (!dataTable) return;\n",
              "\n",
              "        const docLinkHtml = 'Like what you see? Visit the ' +\n",
              "          '<a target=\"_blank\" href=https://colab.research.google.com/notebooks/data_table.ipynb>data table notebook</a>'\n",
              "          + ' to learn more about interactive tables.';\n",
              "        element.innerHTML = '';\n",
              "        dataTable['output_type'] = 'display_data';\n",
              "        await google.colab.output.renderOutput(dataTable, element);\n",
              "        const docLink = document.createElement('div');\n",
              "        docLink.innerHTML = docLinkHtml;\n",
              "        element.appendChild(docLink);\n",
              "      }\n",
              "    </script>\n",
              "  </div>\n",
              "\n",
              "\n",
              "<div id=\"df-9a1e6593-5fc4-4d0e-b4a4-d428939e545a\">\n",
              "  <button class=\"colab-df-quickchart\" onclick=\"quickchart('df-9a1e6593-5fc4-4d0e-b4a4-d428939e545a')\"\n",
              "            title=\"Suggest charts\"\n",
              "            style=\"display:none;\">\n",
              "\n",
              "<svg xmlns=\"http://www.w3.org/2000/svg\" height=\"24px\"viewBox=\"0 0 24 24\"\n",
              "     width=\"24px\">\n",
              "    <g>\n",
              "        <path d=\"M19 3H5c-1.1 0-2 .9-2 2v14c0 1.1.9 2 2 2h14c1.1 0 2-.9 2-2V5c0-1.1-.9-2-2-2zM9 17H7v-7h2v7zm4 0h-2V7h2v10zm4 0h-2v-4h2v4z\"/>\n",
              "    </g>\n",
              "</svg>\n",
              "  </button>\n",
              "\n",
              "<style>\n",
              "  .colab-df-quickchart {\n",
              "      --bg-color: #E8F0FE;\n",
              "      --fill-color: #1967D2;\n",
              "      --hover-bg-color: #E2EBFA;\n",
              "      --hover-fill-color: #174EA6;\n",
              "      --disabled-fill-color: #AAA;\n",
              "      --disabled-bg-color: #DDD;\n",
              "  }\n",
              "\n",
              "  [theme=dark] .colab-df-quickchart {\n",
              "      --bg-color: #3B4455;\n",
              "      --fill-color: #D2E3FC;\n",
              "      --hover-bg-color: #434B5C;\n",
              "      --hover-fill-color: #FFFFFF;\n",
              "      --disabled-bg-color: #3B4455;\n",
              "      --disabled-fill-color: #666;\n",
              "  }\n",
              "\n",
              "  .colab-df-quickchart {\n",
              "    background-color: var(--bg-color);\n",
              "    border: none;\n",
              "    border-radius: 50%;\n",
              "    cursor: pointer;\n",
              "    display: none;\n",
              "    fill: var(--fill-color);\n",
              "    height: 32px;\n",
              "    padding: 0;\n",
              "    width: 32px;\n",
              "  }\n",
              "\n",
              "  .colab-df-quickchart:hover {\n",
              "    background-color: var(--hover-bg-color);\n",
              "    box-shadow: 0 1px 2px rgba(60, 64, 67, 0.3), 0 1px 3px 1px rgba(60, 64, 67, 0.15);\n",
              "    fill: var(--button-hover-fill-color);\n",
              "  }\n",
              "\n",
              "  .colab-df-quickchart-complete:disabled,\n",
              "  .colab-df-quickchart-complete:disabled:hover {\n",
              "    background-color: var(--disabled-bg-color);\n",
              "    fill: var(--disabled-fill-color);\n",
              "    box-shadow: none;\n",
              "  }\n",
              "\n",
              "  .colab-df-spinner {\n",
              "    border: 2px solid var(--fill-color);\n",
              "    border-color: transparent;\n",
              "    border-bottom-color: var(--fill-color);\n",
              "    animation:\n",
              "      spin 1s steps(1) infinite;\n",
              "  }\n",
              "\n",
              "  @keyframes spin {\n",
              "    0% {\n",
              "      border-color: transparent;\n",
              "      border-bottom-color: var(--fill-color);\n",
              "      border-left-color: var(--fill-color);\n",
              "    }\n",
              "    20% {\n",
              "      border-color: transparent;\n",
              "      border-left-color: var(--fill-color);\n",
              "      border-top-color: var(--fill-color);\n",
              "    }\n",
              "    30% {\n",
              "      border-color: transparent;\n",
              "      border-left-color: var(--fill-color);\n",
              "      border-top-color: var(--fill-color);\n",
              "      border-right-color: var(--fill-color);\n",
              "    }\n",
              "    40% {\n",
              "      border-color: transparent;\n",
              "      border-right-color: var(--fill-color);\n",
              "      border-top-color: var(--fill-color);\n",
              "    }\n",
              "    60% {\n",
              "      border-color: transparent;\n",
              "      border-right-color: var(--fill-color);\n",
              "    }\n",
              "    80% {\n",
              "      border-color: transparent;\n",
              "      border-right-color: var(--fill-color);\n",
              "      border-bottom-color: var(--fill-color);\n",
              "    }\n",
              "    90% {\n",
              "      border-color: transparent;\n",
              "      border-bottom-color: var(--fill-color);\n",
              "    }\n",
              "  }\n",
              "</style>\n",
              "\n",
              "  <script>\n",
              "    async function quickchart(key) {\n",
              "      const quickchartButtonEl =\n",
              "        document.querySelector('#' + key + ' button');\n",
              "      quickchartButtonEl.disabled = true;  // To prevent multiple clicks.\n",
              "      quickchartButtonEl.classList.add('colab-df-spinner');\n",
              "      try {\n",
              "        const charts = await google.colab.kernel.invokeFunction(\n",
              "            'suggestCharts', [key], {});\n",
              "      } catch (error) {\n",
              "        console.error('Error during call to suggestCharts:', error);\n",
              "      }\n",
              "      quickchartButtonEl.classList.remove('colab-df-spinner');\n",
              "      quickchartButtonEl.classList.add('colab-df-quickchart-complete');\n",
              "    }\n",
              "    (() => {\n",
              "      let quickchartButtonEl =\n",
              "        document.querySelector('#df-9a1e6593-5fc4-4d0e-b4a4-d428939e545a button');\n",
              "      quickchartButtonEl.style.display =\n",
              "        google.colab.kernel.accessAllowed ? 'block' : 'none';\n",
              "    })();\n",
              "  </script>\n",
              "</div>\n",
              "    </div>\n",
              "  </div>\n"
            ],
            "application/vnd.google.colaboratory.intrinsic+json": {
              "type": "dataframe",
              "summary": "{\n  \"name\": \"    file\",\n  \"rows\": 5,\n  \"fields\": [\n    {\n      \"column\": \"protein_chains\",\n      \"properties\": {\n        \"dtype\": \"string\",\n        \"num_unique_values\": 5,\n        \"samples\": [\n          \"ASAQRSQITLHINELMDLFMRIFTIGTVTLKQGEIKDATPSDFVRATATIPIQASLPFGWLIVGVALLAVFQSASKIITLKKRWQLALSKGVHFVCNLLLLFVTVYSHLLLVAAGLEAPFLYLYALVYFLQSINFVRIIMRLWLCWKCRSKNPLLYDANYFLCWHTNCYDYCIPYNSVTSSIVITSGDGTTSPISEHDYQIGGYTEKWESGVKDCVVLHSYFTSDYYQLYSTQLSTDTGVEHVTFFIYNKIVDEPEEHVQIHTIDGSSGVVNPVMEPIYDEPTTTTSVPL\",\n          \"QQMFHLVDFQVTIAEILLIIMRTFKVSIWNLDYIINLIIKNLSKSLTENKYSQLDEEQPMEID\",\n          \"TNMKIILFLALITLATCELYHYQECVRGTTVLLKEPCSSGTYEGNSPFHPLADNKFALTCFSTQFAFACPDGVKHVYQLRARSVSPKLFIRQEEVQELYSPIFLIVAAIVFITLCFTLKRKTE\"\n        ],\n        \"semantic_type\": \"\",\n        \"description\": \"\"\n      }\n    },\n    {\n      \"column\": \"length\",\n      \"properties\": {\n        \"dtype\": \"number\",\n        \"std\": 1148,\n        \"min\": 63,\n        \"max\": 2701,\n        \"num_unique_values\": 5,\n        \"samples\": [\n          290,\n          63,\n          123\n        ],\n        \"semantic_type\": \"\",\n        \"description\": \"\"\n      }\n    }\n  ]\n}"
            }
          },
          "metadata": {}
        }
      ],
      "source": [
        "# Load our sequence & apply translate\n",
        "virus_fna = 'MN908947.fna'\n",
        "virus_SeqRec = SeqIO.read(virus_fna,'fasta')\n",
        "virus_Seq = virus_SeqRec.seq\n",
        "\n",
        "translation = virus_SeqRec.translate()\n",
        "print(f'Translation length: {len(translation)}')\n",
        "\n",
        "# functional proteins are chains above 20 amino acids.\n",
        "\n",
        "# Get Proteins only\n",
        "proteins = []\n",
        "for i in translation.seq.split('*'):\n",
        "    if(len(i) > 19):\n",
        "        proteins.append(str(i))\n",
        "\n",
        "df = pd.DataFrame({'protein_chains':proteins})\n",
        "df['length'] = df['protein_chains'].apply(len)\n",
        "df = df.sort_values(by = ['length'],ascending=False) [:10]\n",
        "display(df.head())\n",
        "\n",
        "# select one protein\n",
        "one_large_protein=df.nlargest(1,'length')\n",
        "single_prot = one_large_protein.iloc[0,0]\n",
        "\n",
        "# write to file which we'll recall later\n",
        "with open(\"protein.fasta\",\"w\") as file:\n",
        "    file.write(\">large protein\\n\" + single_prot)"
      ]
    },
    {
      "cell_type": "code",
      "execution_count": 31,
      "metadata": {
        "execution": {
          "iopub.execute_input": "2023-05-06T19:10:09.488529Z",
          "iopub.status.busy": "2023-05-06T19:10:09.487546Z",
          "iopub.status.idle": "2023-05-06T19:10:09.496618Z",
          "shell.execute_reply": "2023-05-06T19:10:09.495980Z",
          "shell.execute_reply.started": "2021-10-22T17:49:59.271307Z"
        },
        "papermill": {
          "duration": 0.0827,
          "end_time": "2023-05-06T19:10:09.496792",
          "exception": false,
          "start_time": "2023-05-06T19:10:09.414092",
          "status": "completed"
        },
        "tags": [],
        "colab": {
          "base_uri": "https://localhost:8080/"
        },
        "id": "BsL4G3fxBaz8",
        "outputId": "6c7da1f0-2d68-4b97-9347-bd99bf5389ce"
      },
      "outputs": [
        {
          "output_type": "stream",
          "name": "stdout",
          "text": [
            "# alternative optimal alignments: 7\n",
            "ATG-GCAGA-TAGA\n",
            "||  | ||| ||| \n",
            "AT-AG-AGAATAG-\n",
            "  Score=9\n",
            "\n",
            "ATGGCAGA-TAGA\n",
            "||.| ||| ||| \n",
            "ATAG-AGAATAG-\n",
            "  Score=9\n",
            "\n",
            "AT-GGCAGA-TAGA\n",
            "|| |  ||| ||| \n",
            "ATAG--AGAATAG-\n",
            "  Score=9\n",
            "\n",
            "ATG-GCAG-ATAGA\n",
            "||  | || |||| \n",
            "AT-AG-AGAATAG-\n",
            "  Score=9\n",
            "\n",
            "ATGGCAG-ATAGA\n",
            "||.| || |||| \n",
            "ATAG-AGAATAG-\n",
            "  Score=9\n",
            "\n",
            "AT-GGCAG-ATAGA\n",
            "|| |  || |||| \n",
            "ATAG--AGAATAG-\n",
            "  Score=9\n",
            "\n",
            "AT-G-GCAGATAGA\n",
            "|| | | | |||| \n",
            "ATAGAG-A-ATAG-\n",
            "  Score=9\n",
            "\n"
          ]
        }
      ],
      "source": [
        "''' Global Alignment of two DNA sequences'''\n",
        "\n",
        "# String based sequences\n",
        "seq1 = 'ATGGCAGATAGA'\n",
        "seq2 = 'ATAGAGAATAG'\n",
        "\n",
        "# define an instance of Seq\n",
        "cseq1 = Seq(seq1)\n",
        "cseq2 = Seq(seq2)\n",
        "\n",
        "# - Global Alignment Problem\n",
        "# - (match score = 1, missmatch = 0), gap penalties = 0\n",
        "GDNA = pairwise2.align.globalxx(cseq1,cseq2)\n",
        "print (f'# alternative optimal alignments: {len(GDNA)}')\n",
        "\n",
        "# print all the alignments\n",
        "for i in GDNA:\n",
        "    print(format_alignment(*i))"
      ]
    },
    {
      "cell_type": "code",
      "execution_count": 32,
      "metadata": {
        "execution": {
          "iopub.execute_input": "2023-05-06T19:10:09.781807Z",
          "iopub.status.busy": "2023-05-06T19:10:09.781082Z",
          "iopub.status.idle": "2023-05-06T19:10:09.788119Z",
          "shell.execute_reply": "2023-05-06T19:10:09.788575Z",
          "shell.execute_reply.started": "2021-10-22T17:49:59.284427Z"
        },
        "papermill": {
          "duration": 0.081901,
          "end_time": "2023-05-06T19:10:09.788795",
          "exception": false,
          "start_time": "2023-05-06T19:10:09.706894",
          "status": "completed"
        },
        "tags": [],
        "colab": {
          "base_uri": "https://localhost:8080/"
        },
        "id": "1kC-bM9kBaz-",
        "outputId": "8e716c69-6a6d-49df-9227-e73d3ff03a1e"
      },
      "outputs": [
        {
          "output_type": "stream",
          "name": "stdout",
          "text": [
            "-EVSAW\n",
            " ||.| \n",
            "KEVLA-\n",
            "  Score=3\n",
            "\n"
          ]
        }
      ],
      "source": [
        "''' Global Alignment of two protein sequences '''\n",
        "# - Global Alignment Problem of Protein Sequences\n",
        "# - Using a substitute matrix BLOSUM64, opening gap penalty -4, extension penalty -1\n",
        "\n",
        "pseq1 = \"EVSAW\"\n",
        "pseq2 = \"KEVLA\"\n",
        "\n",
        "sm = substitution_matrices.load('BLOSUM62')  # load BLOSUM62 Substitution Matrix\n",
        "lPRT = pairwise2.align.globalds(pseq1,pseq2,sm,-4,-1)\n",
        "for i in lPRT:\n",
        "    print(format_alignment(*i))"
      ]
    },
    {
      "cell_type": "code",
      "execution_count": 33,
      "metadata": {
        "execution": {
          "iopub.execute_input": "2023-05-06T19:10:10.084425Z",
          "iopub.status.busy": "2023-05-06T19:10:10.083711Z",
          "iopub.status.idle": "2023-05-06T19:10:10.089817Z",
          "shell.execute_reply": "2023-05-06T19:10:10.090392Z",
          "shell.execute_reply.started": "2021-10-22T17:49:59.295223Z"
        },
        "papermill": {
          "duration": 0.081763,
          "end_time": "2023-05-06T19:10:10.090571",
          "exception": false,
          "start_time": "2023-05-06T19:10:10.008808",
          "status": "completed"
        },
        "tags": [],
        "colab": {
          "base_uri": "https://localhost:8080/"
        },
        "id": "nMFDKXteBaz-",
        "outputId": "bc08b868-874f-411a-b0c3-09fa2299021d"
      },
      "outputs": [
        {
          "output_type": "stream",
          "name": "stdout",
          "text": [
            "1 ATGGCAGA-TAG\n",
            "  ||.| ||| |||\n",
            "1 ATAG-AGAATAG\n",
            "  Score=19\n",
            "\n",
            "1 ATGGCAG-ATAG\n",
            "  ||.| || ||||\n",
            "1 ATAG-AGAATAG\n",
            "  Score=19\n",
            "\n"
          ]
        }
      ],
      "source": [
        "''' Local Alignment of two DNA sequences '''\n",
        "# Local Alignment Problem of DNA Sequences\n",
        "# Match score = 3, mismatch score = -2, constant gap penalty g=-3 x2\n",
        "\n",
        "lDNA = pairwise2.align.localms(seq1,seq2, 3,-2,-3,-3)\n",
        "for i in lDNA:\n",
        "    print(format_alignment(*i))"
      ]
    },
    {
      "cell_type": "code",
      "execution_count": 34,
      "metadata": {
        "execution": {
          "iopub.execute_input": "2023-05-06T19:10:10.378952Z",
          "iopub.status.busy": "2023-05-06T19:10:10.378254Z",
          "iopub.status.idle": "2023-05-06T19:10:10.384108Z",
          "shell.execute_reply": "2023-05-06T19:10:10.384687Z",
          "shell.execute_reply.started": "2021-10-22T17:49:59.312778Z"
        },
        "papermill": {
          "duration": 0.081265,
          "end_time": "2023-05-06T19:10:10.384900",
          "exception": false,
          "start_time": "2023-05-06T19:10:10.303635",
          "status": "completed"
        },
        "tags": [],
        "colab": {
          "base_uri": "https://localhost:8080/"
        },
        "id": "N-oOnNUABaz-",
        "outputId": "73a1ad2a-1d27-44ae-80a3-dc4681acae7e"
      },
      "outputs": [
        {
          "output_type": "stream",
          "name": "stdout",
          "text": [
            "1 EVSA\n",
            "  ||.|\n",
            "2 EVLA\n",
            "  Score=11\n",
            "\n"
          ]
        }
      ],
      "source": [
        "''' Local Alignment of Protein Sequences '''\n",
        "# - Local Alignment Problem of Protein Sequences\n",
        "# - Using a substitute matrix BLOSUM64, opening gap penalty -4, extension penalty -1\n",
        "\n",
        "pPROT = pairwise2.align.localds(pseq1,pseq2,sm,-4,-1)\n",
        "for i in pPROT:\n",
        "    print(format_alignment(*i))"
      ]
    },
    {
      "cell_type": "code",
      "execution_count": 35,
      "metadata": {
        "_kg_hide-input": true,
        "execution": {
          "iopub.execute_input": "2023-05-06T19:10:10.674390Z",
          "iopub.status.busy": "2023-05-06T19:10:10.673692Z",
          "iopub.status.idle": "2023-05-06T19:10:10.682339Z",
          "shell.execute_reply": "2023-05-06T19:10:10.682933Z",
          "shell.execute_reply.started": "2021-10-22T17:49:59.322988Z"
        },
        "papermill": {
          "duration": 0.083301,
          "end_time": "2023-05-06T19:10:10.683125",
          "exception": false,
          "start_time": "2023-05-06T19:10:10.599824",
          "status": "completed"
        },
        "tags": [],
        "id": "hdXydXBEBaz-"
      },
      "outputs": [],
      "source": [
        "# class to used define feature matrix & target variavle\n",
        "class data:\n",
        "\n",
        "    def __init__(self):\n",
        "        self.df = pd.read_csv('metadata.csv', index_col=0)\n",
        "        self.features = self.df.columns\n",
        "        self.targets = ['azm_sr','cip_sr','cro_sr','cfx_sr','tet_sr','pen_sr']\n",
        "\n",
        "    def get_case(self,phenotype=None):\n",
        "\n",
        "        _metadata = self.df\n",
        "        _metadata = _metadata.dropna(subset=[phenotype])\n",
        "        _metadata = _metadata[phenotype] # choose target variable\n",
        "\n",
        "        prefix = ''\n",
        "        suffix = '_gwas_filtered_unitigs.Rtab'\n",
        "\n",
        "        # store all file pathways\n",
        "        self.lst_files = []\n",
        "        for dirname, _, filenames in os.walk(''):\n",
        "            for filename in filenames:\n",
        "                self.lst_files.append(os.path.join(dirname, filename))\n",
        "\n",
        "        # unitig feature matrix for phenotype\n",
        "        tdf = pd.read_csv(prefix + phenotype + suffix, sep=\" \", index_col=0, low_memory=False)\n",
        "        tdf = tdf.T # align column data w/ metadata df (pattern_id = sample_idd)\n",
        "        tdf = tdf[tdf.index.isin(_metadata.index)] # keep only common rows, ie. that have resistence measure\n",
        "        self.train = tdf\n",
        "        self.target = _metadata[_metadata.index.isin(tdf.index)]"
      ]
    },
    {
      "cell_type": "code",
      "execution_count": 36,
      "metadata": {
        "execution": {
          "iopub.execute_input": "2023-05-06T19:10:10.829045Z",
          "iopub.status.busy": "2023-05-06T19:10:10.828312Z",
          "iopub.status.idle": "2023-05-06T19:10:11.848871Z",
          "shell.execute_reply": "2023-05-06T19:10:11.848306Z",
          "shell.execute_reply.started": "2021-10-22T17:49:59.344854Z"
        },
        "papermill": {
          "duration": 1.09449,
          "end_time": "2023-05-06T19:10:11.849041",
          "exception": false,
          "start_time": "2023-05-06T19:10:10.754551",
          "status": "completed"
        },
        "tags": [],
        "colab": {
          "base_uri": "https://localhost:8080/"
        },
        "id": "ObSfFxkWBaz-",
        "outputId": "ea04ba6e-5b25-4ec7-aa8a-0bdc124c6506"
      },
      "outputs": [
        {
          "output_type": "stream",
          "name": "stdout",
          "text": [
            "AZM unitigs:\n",
            "['CTTAACATATTTGCCTTTGATTTTTGAAGAAGCTGCCACGCCGGCAG', 'TACCGTAACCGGCAATGCGGATATTACGGTC', 'CAGACGGCATTTTTTTTGCGTTTTTCGGGAGG']\n",
            "\n",
            "CFX unitigs:\n",
            "['ACCGGTCAGGGCGACGGGTTTGCGCCCTTTGAT', 'TGATACGGCGTGTAGGCGGTGTACCAGCCCGGG', 'CCGCACGGGGGAAATCCTCGCCTTGGCCAATACGCCCGCCTACGATCCCAACAG']\n"
          ]
        }
      ],
      "source": [
        "gono = data()\n",
        "\n",
        "# list of nucleotides\n",
        "gono.get_case('azm_sr')\n",
        "azm_unitigs = gono.train.columns.tolist() # list of unitigs\n",
        "\n",
        "print('AZM unitigs:')\n",
        "print(azm_unitigs[:3])\n",
        "\n",
        "# List of nucleotides\n",
        "gono.get_case('cfx_sr')\n",
        "cfx_unitigs = gono.train.columns.tolist() # list of unitigs\n",
        "\n",
        "print('\\nCFX unitigs:')\n",
        "print(cfx_unitigs[:3])"
      ]
    },
    {
      "cell_type": "code",
      "execution_count": 37,
      "metadata": {
        "execution": {
          "iopub.execute_input": "2023-05-06T19:10:12.011527Z",
          "iopub.status.busy": "2023-05-06T19:10:12.006155Z",
          "iopub.status.idle": "2023-05-06T19:10:17.371453Z",
          "shell.execute_reply": "2023-05-06T19:10:17.370657Z",
          "shell.execute_reply.started": "2021-10-22T17:50:00.467655Z"
        },
        "papermill": {
          "duration": 5.450369,
          "end_time": "2023-05-06T19:10:17.371626",
          "exception": false,
          "start_time": "2023-05-06T19:10:11.921257",
          "status": "completed"
        },
        "tags": [],
        "colab": {
          "base_uri": "https://localhost:8080/"
        },
        "id": "4f1z7RPSBaz-",
        "outputId": "78a9ce82-ad9f-4e26-9e1d-afbc873fdcb1"
      },
      "outputs": [
        {
          "output_type": "stream",
          "name": "stdout",
          "text": [
            "Finding Best Alignment Score:\n",
            "For Sequence: TGGTAATGCCGGGTGAGAACGTAACCATTACTGTAGAACTGATTGCG\n",
            "\n",
            "0 ACCGGTCAGGGCGACGGGTTTGCGCCCTTTGAT 23.0\n",
            "1 TGATACGGCGTGTAGGCGGTGTACCAGCCCGGG 24.0\n",
            "2 CCGCACGGGGGAAATCCTCGCCTTGGCCAATACGCCCGCCTACGATCCCAACAG 28.0\n",
            "8 GCTTGTCGATGTGCCGGTTGATGTTTTGAGAAACAAACTCGAACAGAAA 30.0\n",
            "9 GACAAATTCTTGGCGGACGATGACGGCAACAGTACCGAGCGCGGCACCCAATGCCAGCGCG 33.0\n",
            "63 ACTGCAGGTTTGTTGAGAAGCTGGCGCAGATGGCAAAAAATCGAACAGGCAACCATGTCTTTCGGTTAT 34.0\n",
            "76 TCGATCAGAGGATTCAGACCTTGGCCTATGAAGAGTTGAACAAGGCGGTCGAATACCATCAGGCAAAAGCC 35.0\n",
            "128 CGGTTACGCCTCTGTTCGCTGTCTGCCTGACCGGGTTTGTTGGGCTCATAGGCAGGCGTATTGACCAATGCGAGGATTTCCCCAGTACGGGCATCCAACACCACCACCGTTCCGGCTTTTGCCTGATGG 41.0\n",
            "210 GTTTATCCTACTTTGGATGTGCGCGGCATTATGCAAAAATCTTCCAACGTCGGTACCAGTAAACTTTCTGCCATGTTTACGCCTAAAGAAATGTACGATTTCTATCACGATTTAGGTGTGGGCGT 42.0\n"
          ]
        }
      ],
      "source": [
        "# Select one unitig in lst1 and find the best alignment in lst2\n",
        "def get_bestalign(lst1,ids,lst2):\n",
        "\n",
        "    # remove cases if columns exist in string\n",
        "\n",
        "    lst2_upd = []\n",
        "    for unitig in lst2:\n",
        "        if(',' not in unitig):\n",
        "            lst2_upd.append(unitig)\n",
        "\n",
        "    # main unitig used for comparison\n",
        "    n1 = lst1[ids]\n",
        "    print('Finding Best Alignment Score:')\n",
        "    print(f'For Sequence: {n1}\\n')\n",
        "\n",
        "    # Cycle through all unitigs in updated list\n",
        "\n",
        "    max_score = 0\n",
        "    best_ali = None\n",
        "    ii=-1\n",
        "    for unitig in lst2_upd:\n",
        "\n",
        "        ii+=1;\n",
        "        ALI = pairwise2.align.localxx(n1,unitig)\n",
        "        lscore = ALI[0].score\n",
        "        if(lscore > max_score):\n",
        "            print(ii,unitig,lscore)\n",
        "            max_score = lscore\n",
        "            best_ali = ALI\n",
        "\n",
        "    return best_ali\n",
        "\n",
        "best_lalign = get_bestalign(azm_unitigs,10,cfx_unitigs)"
      ]
    },
    {
      "cell_type": "code",
      "execution_count": 38,
      "metadata": {
        "execution": {
          "iopub.execute_input": "2023-05-06T19:10:17.530133Z",
          "iopub.status.busy": "2023-05-06T19:10:17.529209Z",
          "iopub.status.idle": "2023-05-06T19:10:17.532981Z",
          "shell.execute_reply": "2023-05-06T19:10:17.533599Z",
          "shell.execute_reply.started": "2021-10-22T17:50:07.312331Z"
        },
        "papermill": {
          "duration": 0.084109,
          "end_time": "2023-05-06T19:10:17.533811",
          "exception": false,
          "start_time": "2023-05-06T19:10:17.449702",
          "status": "completed"
        },
        "tags": [],
        "colab": {
          "base_uri": "https://localhost:8080/"
        },
        "id": "-eXotqYnBaz-",
        "outputId": "4e9f48e4-f38b-491c-df69-02df491d547f"
      },
      "outputs": [
        {
          "output_type": "stream",
          "name": "stdout",
          "text": [
            "3 GTA--ATGCC------GG--GTG------A----G-AA----C-------GT----A--A-----C---C----AT-T--ACTG--TA--GAA-----C--T---------GATT--G-------CG\n",
            "  ||   || ||      ||  |||      |    | ||    |       ||    |  |     |   |    || |  || |  ||  |||     |  |         ||||  |       ||\n",
            "1 GT-TTAT-CCTACTTTGGATGTGCGCGGCATTATGCAAAAATCTTCCAACGTCGGTACCAGTAAACTTTCTGCCATGTTTAC-GCCTAAAGAAATGTACGATTTCTATCACGATTTAGGTGTGGGCG\n",
            "  Score=42\n",
            "\n"
          ]
        }
      ],
      "source": [
        "print(format_alignment(*best_lalign[0]))"
      ]
    },
    {
      "cell_type": "code",
      "execution_count": 39,
      "metadata": {
        "execution": {
          "iopub.execute_input": "2023-05-06T19:10:17.852048Z",
          "iopub.status.busy": "2023-05-06T19:10:17.851213Z",
          "iopub.status.idle": "2023-05-06T19:10:17.854485Z",
          "shell.execute_reply": "2023-05-06T19:10:17.853968Z",
          "shell.execute_reply.started": "2021-10-22T17:50:07.319323Z"
        },
        "papermill": {
          "duration": 0.088075,
          "end_time": "2023-05-06T19:10:17.854664",
          "exception": false,
          "start_time": "2023-05-06T19:10:17.766589",
          "status": "completed"
        },
        "tags": [],
        "id": "09emnIYyBaz-"
      },
      "outputs": [],
      "source": [
        "from Bio.SeqRecord import SeqRecord\n",
        "\n",
        "# String format of alignment\n",
        "aa1 = \"MHQAIFIYQIGYPLKSGYIQSIRSPEYDNW\"\n",
        "aa2 = \"MH--IFIYQIGYALKSGYIQSIRSPEY-NW\"\n",
        "aa3 = \"MHQAIFI-QIGYALKSGY-QSIRSPEYDNW\"\n",
        "\n",
        "# Sequence Class instances\n",
        "seq_aa1 = Seq(aa1)\n",
        "seq_aa2 = Seq(aa2)\n",
        "seq_aa3 = Seq(aa3)\n",
        "\n",
        "# Create a sequence record w/ a defined ID\n",
        "seqr1 = SeqRecord(seq_aa1,id=\"seq1\")\n",
        "seqr2 = SeqRecord(seq_aa2,id=\"seq2\")\n",
        "seqr3 = SeqRecord(seq_aa3,id=\"seq3\")"
      ]
    },
    {
      "cell_type": "code",
      "execution_count": 40,
      "metadata": {
        "execution": {
          "iopub.execute_input": "2023-05-06T19:10:18.164450Z",
          "iopub.status.busy": "2023-05-06T19:10:18.163447Z",
          "iopub.status.idle": "2023-05-06T19:10:18.166801Z",
          "shell.execute_reply": "2023-05-06T19:10:18.166024Z",
          "shell.execute_reply.started": "2021-10-22T17:50:07.331722Z"
        },
        "papermill": {
          "duration": 0.08439,
          "end_time": "2023-05-06T19:10:18.166982",
          "exception": false,
          "start_time": "2023-05-06T19:10:18.082592",
          "status": "completed"
        },
        "tags": [],
        "id": "RGlo83GMBaz-"
      },
      "outputs": [],
      "source": [
        "from Bio.Align import MultipleSeqAlignment as MSA\n",
        "\n",
        "# Multiple Sequence Alignment\n",
        "alin = MSA([seqr1, seqr2, seqr3])\n",
        "sub_alin = alin[0:2,:]"
      ]
    },
    {
      "cell_type": "code",
      "execution_count": 41,
      "metadata": {
        "execution": {
          "iopub.execute_input": "2023-05-06T19:10:18.325101Z",
          "iopub.status.busy": "2023-05-06T19:10:18.324377Z",
          "iopub.status.idle": "2023-05-06T19:10:18.327914Z",
          "shell.execute_reply": "2023-05-06T19:10:18.328558Z",
          "shell.execute_reply.started": "2021-10-22T17:50:07.345051Z"
        },
        "papermill": {
          "duration": 0.085847,
          "end_time": "2023-05-06T19:10:18.328784",
          "exception": false,
          "start_time": "2023-05-06T19:10:18.242937",
          "status": "completed"
        },
        "tags": [],
        "colab": {
          "base_uri": "https://localhost:8080/"
        },
        "id": "38Vo9I8ZBaz-",
        "outputId": "0fdf09fa-8fa0-49d1-8f4e-8ce1fa7789e2"
      },
      "outputs": [
        {
          "output_type": "stream",
          "name": "stdout",
          "text": [
            "ID: seq2\n",
            "Name: <unknown name>\n",
            "Description: <unknown description>\n",
            "Number of features: 0\n",
            "Seq('MH--IFIYQIGYALKSGYIQSIRSPEY-NW')\n",
            "Q-Q\n",
            "Alignment with 3 rows and 4 columns\n",
            "AIFI seq1\n",
            "-IFI seq2\n",
            "AIFI seq3\n",
            "MHQ\n",
            "Alignment with 2 rows and 7 columns\n",
            "FIYQIGY seq2\n",
            "FI-QIGY seq3\n"
          ]
        }
      ],
      "source": [
        "print(alin[1]) # Get the 2nd sequence in the alignment\n",
        "print(alin[:,2]) # Get the 3rd column in the alignment\n",
        "print(alin[:,3:7])  # Get multiple columns in alignment\n",
        "print(alin[0].seq[:3]) # first 3 columns of seq1\n",
        "print(alin[1:3,5:12]) # sequences 2 and 3; 4th to 10th column"
      ]
    },
    {
      "cell_type": "code",
      "execution_count": 42,
      "metadata": {
        "execution": {
          "iopub.execute_input": "2023-05-06T19:10:18.949245Z",
          "iopub.status.busy": "2023-05-06T19:10:18.948511Z",
          "iopub.status.idle": "2023-05-06T19:10:18.959266Z",
          "shell.execute_reply": "2023-05-06T19:10:18.958573Z",
          "shell.execute_reply.started": "2021-10-22T17:50:07.371414Z"
        },
        "papermill": {
          "duration": 0.091416,
          "end_time": "2023-05-06T19:10:18.959424",
          "exception": false,
          "start_time": "2023-05-06T19:10:18.868008",
          "status": "completed"
        },
        "tags": [],
        "id": "eTEr-WgaBaz-"
      },
      "outputs": [],
      "source": [
        "from Bio import AlignIO\n",
        "alin2 = AlignIO.read(\"genbank/PF05371_seed.aln\", \"clustal\")"
      ]
    },
    {
      "cell_type": "code",
      "execution_count": 43,
      "metadata": {
        "execution": {
          "iopub.execute_input": "2023-05-06T19:10:19.266213Z",
          "iopub.status.busy": "2023-05-06T19:10:19.265438Z",
          "iopub.status.idle": "2023-05-06T19:10:19.270214Z",
          "shell.execute_reply": "2023-05-06T19:10:19.269637Z",
          "shell.execute_reply.started": "2021-10-22T17:50:07.391529Z"
        },
        "papermill": {
          "duration": 0.085789,
          "end_time": "2023-05-06T19:10:19.270375",
          "exception": false,
          "start_time": "2023-05-06T19:10:19.184586",
          "status": "completed"
        },
        "tags": [],
        "colab": {
          "base_uri": "https://localhost:8080/"
        },
        "id": "kM2FDalXBaz-",
        "outputId": "078cb6f8-8ec6-4251-e90d-0f81397d0afa"
      },
      "outputs": [
        {
          "output_type": "stream",
          "name": "stdout",
          "text": [
            "Size (length): 52\n",
            "Sequence: AEPNAATNYATEAMDSLKTQAIDLISQTWPVVTTVVVAGLVIRLFKKFSSKA, ID: COATB_BPIKE/30-81\n",
            "Sequence: AEPNAATNYATEAMDSLKTQAIDLISQTWPVVTTVVVAGLVIKLFKKFVSRA, ID: Q9T0Q8_BPIKE/1-52\n",
            "Sequence: DGTSTATSYATEAMNSLKTQATDLIDQTWPVVTSVAVAGLAIRLFKKFSSKA, ID: COATB_BPI22/32-83\n",
            "Sequence: AEGDDP---AKAAFNSLQASATEYIGYAWAMVVVIVGATIGIKLFKKFTSKA, ID: COATB_BPM13/24-72\n",
            "Sequence: AEGDDP---AKAAFDSLQASATEYIGYAWAMVVVIVGATIGIKLFKKFASKA, ID: COATB_BPZJ2/1-49\n",
            "Sequence: AEGDDP---AKAAFDSLQASATEYIGYAWAMVVVIVGATIGIKLFKKFTSKA, ID: Q9T0Q9_BPFD/1-49\n",
            "Sequence: FAADDATSQAKAAFDSLTAQATEMSGYAWALVVLVVGATVGIKLFKKFVSRA, ID: COATB_BPIF1/22-73\n"
          ]
        }
      ],
      "source": [
        "# Get the length of the alignment (column size)\n",
        "print(\"Size (length):\", alin2.get_alignment_length())\n",
        "\n",
        "# Print the SeqRecord data\n",
        "for record in alin2:\n",
        "    print(f'Sequence: {record.seq}, ID: {record.id}')"
      ]
    },
    {
      "cell_type": "code",
      "source": [
        "seqn1 = SeqRecord('ACCGGTCAGGGCGACGGGTTTGCGCCCTTTGAT',id=\"seq1_n\")\n",
        "seqn2 = SeqRecord('ACCGGTCATTTCGACGGGTTTGCGGCCTTTGCT',id=\"seq2_n\")\n",
        "seqn3 = SeqRecord('CCAGGTCAGCTCGACGGGTTGGCGGCCTTTGCT',id=\"seq3_n\")"
      ],
      "metadata": {
        "colab": {
          "base_uri": "https://localhost:8080/"
        },
        "id": "G0BEelSxK83j",
        "outputId": "2614b653-bcdb-4309-c96e-e9d01d3f0da3"
      },
      "execution_count": 53,
      "outputs": [
        {
          "output_type": "stream",
          "name": "stderr",
          "text": [
            "/usr/local/lib/python3.10/dist-packages/Bio/SeqRecord.py:228: BiopythonDeprecationWarning: Using a string as the sequence is deprecated and will raise a TypeError in future. It has been converted to a Seq object.\n",
            "  warnings.warn(\n"
          ]
        }
      ]
    },
    {
      "cell_type": "code",
      "source": [
        "align_n = MSA([seqn1, seqn2, seqn3])\n",
        "print(align_n)"
      ],
      "metadata": {
        "colab": {
          "base_uri": "https://localhost:8080/"
        },
        "id": "OTbvaGmTLQQZ",
        "outputId": "033efe5a-1094-41f4-f761-9e56cda91834"
      },
      "execution_count": 54,
      "outputs": [
        {
          "output_type": "stream",
          "name": "stdout",
          "text": [
            "Alignment with 3 rows and 33 columns\n",
            "ACCGGTCAGGGCGACGGGTTTGCGCCCTTTGAT seq1_n\n",
            "ACCGGTCATTTCGACGGGTTTGCGGCCTTTGCT seq2_n\n",
            "CCAGGTCAGCTCGACGGGTTGGCGGCCTTTGCT seq3_n\n"
          ]
        }
      ]
    },
    {
      "cell_type": "code",
      "execution_count": 44,
      "metadata": {
        "execution": {
          "iopub.execute_input": "2023-05-06T19:10:19.428888Z",
          "iopub.status.busy": "2023-05-06T19:10:19.428199Z",
          "iopub.status.idle": "2023-05-06T19:10:19.432194Z",
          "shell.execute_reply": "2023-05-06T19:10:19.431557Z",
          "shell.execute_reply.started": "2021-10-22T17:50:07.40457Z"
        },
        "papermill": {
          "duration": 0.084288,
          "end_time": "2023-05-06T19:10:19.432336",
          "exception": false,
          "start_time": "2023-05-06T19:10:19.348048",
          "status": "completed"
        },
        "tags": [],
        "colab": {
          "base_uri": "https://localhost:8080/"
        },
        "id": "71e67SMgBaz-",
        "outputId": "4bcfc492-482d-4780-9ec3-081bbcece2f2"
      },
      "outputs": [
        {
          "output_type": "execute_result",
          "data": {
            "text/plain": [
              "1"
            ]
          },
          "metadata": {},
          "execution_count": 44
        }
      ],
      "source": [
        "# adjust alignment content & write if need be\n",
        "sub_alin2 = alin2[0:4,:]\n",
        "AlignIO.write(alin2, \"sub_alin2.fasta\", \"fasta\")"
      ]
    },
    {
      "cell_type": "code",
      "execution_count": 45,
      "metadata": {
        "execution": {
          "iopub.execute_input": "2023-05-06T19:10:19.741724Z",
          "iopub.status.busy": "2023-05-06T19:10:19.741013Z",
          "iopub.status.idle": "2023-05-06T19:10:19.747390Z",
          "shell.execute_reply": "2023-05-06T19:10:19.746862Z",
          "shell.execute_reply.started": "2021-10-22T17:50:07.418833Z"
        },
        "papermill": {
          "duration": 0.087231,
          "end_time": "2023-05-06T19:10:19.747550",
          "exception": false,
          "start_time": "2023-05-06T19:10:19.660319",
          "status": "completed"
        },
        "tags": [],
        "colab": {
          "base_uri": "https://localhost:8080/"
        },
        "id": "vw56EFuVBaz-",
        "outputId": "f9d8e430-d052-42e5-fb25-5c614c643ffd"
      },
      "outputs": [
        {
          "output_type": "execute_result",
          "data": {
            "text/plain": [
              "1"
            ]
          },
          "metadata": {},
          "execution_count": 45
        }
      ],
      "source": [
        "# Write the read clustal formal\n",
        "AlignIO.write(alin2, \"example_alin.fasta\", \"fasta\")\n",
        "\n",
        "# Or directly convert it\n",
        "AlignIO.convert(\"genbank/PF05371_seed.aln\", \"clustal\", \"example_alin.fasta\", \"fasta\")"
      ]
    },
    {
      "cell_type": "code",
      "execution_count": 60,
      "metadata": {
        "_kg_hide-input": false,
        "execution": {
          "iopub.execute_input": "2023-05-06T19:10:20.062607Z",
          "iopub.status.busy": "2023-05-06T19:10:20.061856Z",
          "iopub.status.idle": "2023-05-06T19:10:21.197529Z",
          "shell.execute_reply": "2023-05-06T19:10:21.196864Z",
          "shell.execute_reply.started": "2021-10-22T17:50:07.432198Z"
        },
        "papermill": {
          "duration": 1.220602,
          "end_time": "2023-05-06T19:10:21.197693",
          "exception": false,
          "start_time": "2023-05-06T19:10:19.977091",
          "status": "completed"
        },
        "tags": [],
        "colab": {
          "base_uri": "https://localhost:8080/",
          "height": 17
        },
        "id": "3niIaW77Baz_",
        "outputId": "e742437a-44c3-4068-c99c-b157674ba6bf"
      },
      "outputs": [
        {
          "output_type": "display_data",
          "data": {
            "text/html": [
              "<script type=\"esms-options\">{\"shimMode\": true}</script><style>*[data-root-id],\n",
              "*[data-root-id] > * {\n",
              "  box-sizing: border-box;\n",
              "  font-family: var(--jp-ui-font-family);\n",
              "  font-size: var(--jp-ui-font-size1);\n",
              "  color: var(--vscode-editor-foreground, var(--jp-ui-font-color1));\n",
              "}\n",
              "\n",
              "/* Override VSCode background color */\n",
              ".cell-output-ipywidget-background:has(\n",
              "    > .cell-output-ipywidget-background > .lm-Widget > *[data-root-id]\n",
              "  ),\n",
              ".cell-output-ipywidget-background:has(> .lm-Widget > *[data-root-id]) {\n",
              "  background-color: transparent !important;\n",
              "}\n",
              "</style>"
            ]
          },
          "metadata": {}
        },
        {
          "output_type": "display_data",
          "data": {
            "application/javascript": [
              "(function(root) {\n",
              "  function now() {\n",
              "    return new Date();\n",
              "  }\n",
              "\n",
              "  const force = true;\n",
              "  const py_version = '3.6.1'.replace('rc', '-rc.').replace('.dev', '-dev.');\n",
              "  const reloading = false;\n",
              "  const Bokeh = root.Bokeh;\n",
              "\n",
              "  // Set a timeout for this load but only if we are not already initializing\n",
              "  if (typeof (root._bokeh_timeout) === \"undefined\" || (force || !root._bokeh_is_initializing)) {\n",
              "    root._bokeh_timeout = Date.now() + 5000;\n",
              "    root._bokeh_failed_load = false;\n",
              "  }\n",
              "\n",
              "  function run_callbacks() {\n",
              "    try {\n",
              "      root._bokeh_onload_callbacks.forEach(function(callback) {\n",
              "        if (callback != null)\n",
              "          callback();\n",
              "      });\n",
              "    } finally {\n",
              "      delete root._bokeh_onload_callbacks;\n",
              "    }\n",
              "    console.debug(\"Bokeh: all callbacks have finished\");\n",
              "  }\n",
              "\n",
              "  function load_libs(css_urls, js_urls, js_modules, js_exports, callback) {\n",
              "    if (css_urls == null) css_urls = [];\n",
              "    if (js_urls == null) js_urls = [];\n",
              "    if (js_modules == null) js_modules = [];\n",
              "    if (js_exports == null) js_exports = {};\n",
              "\n",
              "    root._bokeh_onload_callbacks.push(callback);\n",
              "\n",
              "    if (root._bokeh_is_loading > 0) {\n",
              "      // Don't load bokeh if it is still initializing\n",
              "      console.debug(\"Bokeh: BokehJS is being loaded, scheduling callback at\", now());\n",
              "      return null;\n",
              "    } else if (js_urls.length === 0 && js_modules.length === 0 && Object.keys(js_exports).length === 0) {\n",
              "      // There is nothing to load\n",
              "      run_callbacks();\n",
              "      return null;\n",
              "    }\n",
              "\n",
              "    function on_load() {\n",
              "      root._bokeh_is_loading--;\n",
              "      if (root._bokeh_is_loading === 0) {\n",
              "        console.debug(\"Bokeh: all BokehJS libraries/stylesheets loaded\");\n",
              "        run_callbacks()\n",
              "      }\n",
              "    }\n",
              "    window._bokeh_on_load = on_load\n",
              "\n",
              "    function on_error(e) {\n",
              "      const src_el = e.srcElement\n",
              "      console.error(\"failed to load \" + (src_el.href || src_el.src));\n",
              "    }\n",
              "\n",
              "    const skip = [];\n",
              "    if (window.requirejs) {\n",
              "      window.requirejs.config({'packages': {}, 'paths': {}, 'shim': {}});\n",
              "      root._bokeh_is_loading = css_urls.length + 0;\n",
              "    } else {\n",
              "      root._bokeh_is_loading = css_urls.length + js_urls.length + js_modules.length + Object.keys(js_exports).length;\n",
              "    }\n",
              "\n",
              "    const existing_stylesheets = []\n",
              "    const links = document.getElementsByTagName('link')\n",
              "    for (let i = 0; i < links.length; i++) {\n",
              "      const link = links[i]\n",
              "      if (link.href != null) {\n",
              "        existing_stylesheets.push(link.href)\n",
              "      }\n",
              "    }\n",
              "    for (let i = 0; i < css_urls.length; i++) {\n",
              "      const url = css_urls[i];\n",
              "      const escaped = encodeURI(url)\n",
              "      if (existing_stylesheets.indexOf(escaped) !== -1) {\n",
              "        on_load()\n",
              "        continue;\n",
              "      }\n",
              "      const element = document.createElement(\"link\");\n",
              "      element.onload = on_load;\n",
              "      element.onerror = on_error;\n",
              "      element.rel = \"stylesheet\";\n",
              "      element.type = \"text/css\";\n",
              "      element.href = url;\n",
              "      console.debug(\"Bokeh: injecting link tag for BokehJS stylesheet: \", url);\n",
              "      document.body.appendChild(element);\n",
              "    }    var existing_scripts = []\n",
              "    const scripts = document.getElementsByTagName('script')\n",
              "    for (let i = 0; i < scripts.length; i++) {\n",
              "      var script = scripts[i]\n",
              "      if (script.src != null) {\n",
              "        existing_scripts.push(script.src)\n",
              "      }\n",
              "    }\n",
              "    for (let i = 0; i < js_urls.length; i++) {\n",
              "      const url = js_urls[i];\n",
              "      const escaped = encodeURI(url)\n",
              "      if (skip.indexOf(escaped) !== -1 || existing_scripts.indexOf(escaped) !== -1) {\n",
              "        if (!window.requirejs) {\n",
              "          on_load();\n",
              "        }\n",
              "        continue;\n",
              "      }\n",
              "      const element = document.createElement('script');\n",
              "      element.onload = on_load;\n",
              "      element.onerror = on_error;\n",
              "      element.async = false;\n",
              "      element.src = url;\n",
              "      console.debug(\"Bokeh: injecting script tag for BokehJS library: \", url);\n",
              "      document.head.appendChild(element);\n",
              "    }\n",
              "    for (let i = 0; i < js_modules.length; i++) {\n",
              "      const url = js_modules[i];\n",
              "      const escaped = encodeURI(url)\n",
              "      if (skip.indexOf(escaped) !== -1 || existing_scripts.indexOf(escaped) !== -1) {\n",
              "        if (!window.requirejs) {\n",
              "          on_load();\n",
              "        }\n",
              "        continue;\n",
              "      }\n",
              "      var element = document.createElement('script');\n",
              "      element.onload = on_load;\n",
              "      element.onerror = on_error;\n",
              "      element.async = false;\n",
              "      element.src = url;\n",
              "      element.type = \"module\";\n",
              "      console.debug(\"Bokeh: injecting script tag for BokehJS library: \", url);\n",
              "      document.head.appendChild(element);\n",
              "    }\n",
              "    for (const name in js_exports) {\n",
              "      const url = js_exports[name];\n",
              "      const escaped = encodeURI(url)\n",
              "      if (skip.indexOf(escaped) >= 0 || root[name] != null) {\n",
              "        if (!window.requirejs) {\n",
              "          on_load();\n",
              "        }\n",
              "        continue;\n",
              "      }\n",
              "      var element = document.createElement('script');\n",
              "      element.onerror = on_error;\n",
              "      element.async = false;\n",
              "      element.type = \"module\";\n",
              "      console.debug(\"Bokeh: injecting script tag for BokehJS library: \", url);\n",
              "      element.textContent = `\n",
              "      import ${name} from \"${url}\"\n",
              "      window.${name} = ${name}\n",
              "      window._bokeh_on_load()\n",
              "      `\n",
              "      document.head.appendChild(element);\n",
              "    }\n",
              "    if (!js_urls.length && !js_modules.length) {\n",
              "      on_load()\n",
              "    }\n",
              "  };\n",
              "\n",
              "  function inject_raw_css(css) {\n",
              "    const element = document.createElement(\"style\");\n",
              "    element.appendChild(document.createTextNode(css));\n",
              "    document.body.appendChild(element);\n",
              "  }\n",
              "\n",
              "  const js_urls = [\"https://cdn.holoviz.org/panel/1.5.4/dist/bundled/reactiveesm/es-module-shims@^1.10.0/dist/es-module-shims.min.js\", \"https://cdn.bokeh.org/bokeh/release/bokeh-3.6.1.min.js\", \"https://cdn.bokeh.org/bokeh/release/bokeh-gl-3.6.1.min.js\", \"https://cdn.bokeh.org/bokeh/release/bokeh-widgets-3.6.1.min.js\", \"https://cdn.bokeh.org/bokeh/release/bokeh-tables-3.6.1.min.js\", \"https://cdn.holoviz.org/panel/1.5.4/dist/panel.min.js\"];\n",
              "  const js_modules = [];\n",
              "  const js_exports = {};\n",
              "  const css_urls = [];\n",
              "  const inline_js = [    function(Bokeh) {\n",
              "      Bokeh.set_log_level(\"info\");\n",
              "    },\n",
              "function(Bokeh) {} // ensure no trailing comma for IE\n",
              "  ];\n",
              "\n",
              "  function run_inline_js() {\n",
              "    if ((root.Bokeh !== undefined) || (force === true)) {\n",
              "      for (let i = 0; i < inline_js.length; i++) {\n",
              "        try {\n",
              "          inline_js[i].call(root, root.Bokeh);\n",
              "        } catch(e) {\n",
              "          if (!reloading) {\n",
              "            throw e;\n",
              "          }\n",
              "        }\n",
              "      }\n",
              "      // Cache old bokeh versions\n",
              "      if (Bokeh != undefined && !reloading) {\n",
              "        var NewBokeh = root.Bokeh;\n",
              "        if (Bokeh.versions === undefined) {\n",
              "          Bokeh.versions = new Map();\n",
              "        }\n",
              "        if (NewBokeh.version !== Bokeh.version) {\n",
              "          Bokeh.versions.set(NewBokeh.version, NewBokeh)\n",
              "        }\n",
              "        root.Bokeh = Bokeh;\n",
              "      }\n",
              "    } else if (Date.now() < root._bokeh_timeout) {\n",
              "      setTimeout(run_inline_js, 100);\n",
              "    } else if (!root._bokeh_failed_load) {\n",
              "      console.log(\"Bokeh: BokehJS failed to load within specified timeout.\");\n",
              "      root._bokeh_failed_load = true;\n",
              "    }\n",
              "    root._bokeh_is_initializing = false\n",
              "  }\n",
              "\n",
              "  function load_or_wait() {\n",
              "    // Implement a backoff loop that tries to ensure we do not load multiple\n",
              "    // versions of Bokeh and its dependencies at the same time.\n",
              "    // In recent versions we use the root._bokeh_is_initializing flag\n",
              "    // to determine whether there is an ongoing attempt to initialize\n",
              "    // bokeh, however for backward compatibility we also try to ensure\n",
              "    // that we do not start loading a newer (Panel>=1.0 and Bokeh>3) version\n",
              "    // before older versions are fully initialized.\n",
              "    if (root._bokeh_is_initializing && Date.now() > root._bokeh_timeout) {\n",
              "      // If the timeout and bokeh was not successfully loaded we reset\n",
              "      // everything and try loading again\n",
              "      root._bokeh_timeout = Date.now() + 5000;\n",
              "      root._bokeh_is_initializing = false;\n",
              "      root._bokeh_onload_callbacks = undefined;\n",
              "      root._bokeh_is_loading = 0\n",
              "      console.log(\"Bokeh: BokehJS was loaded multiple times but one version failed to initialize.\");\n",
              "      load_or_wait();\n",
              "    } else if (root._bokeh_is_initializing || (typeof root._bokeh_is_initializing === \"undefined\" && root._bokeh_onload_callbacks !== undefined)) {\n",
              "      setTimeout(load_or_wait, 100);\n",
              "    } else {\n",
              "      root._bokeh_is_initializing = true\n",
              "      root._bokeh_onload_callbacks = []\n",
              "      const bokeh_loaded = root.Bokeh != null && (root.Bokeh.version === py_version || (root.Bokeh.versions !== undefined && root.Bokeh.versions.has(py_version)));\n",
              "      if (!reloading && !bokeh_loaded) {\n",
              "        if (root.Bokeh) {\n",
              "          root.Bokeh = undefined;\n",
              "        }\n",
              "        console.debug(\"Bokeh: BokehJS not loaded, scheduling load and callback at\", now());\n",
              "      }\n",
              "      load_libs(css_urls, js_urls, js_modules, js_exports, function() {\n",
              "        console.debug(\"Bokeh: BokehJS plotting callback run at\", now());\n",
              "        run_inline_js();\n",
              "      });\n",
              "    }\n",
              "  }\n",
              "  // Give older versions of the autoload script a head-start to ensure\n",
              "  // they initialize before we start loading newer version.\n",
              "  setTimeout(load_or_wait, 100)\n",
              "}(window));"
            ],
            "application/vnd.holoviews_load.v0+json": "(function(root) {\n  function now() {\n    return new Date();\n  }\n\n  const force = true;\n  const py_version = '3.6.1'.replace('rc', '-rc.').replace('.dev', '-dev.');\n  const reloading = false;\n  const Bokeh = root.Bokeh;\n\n  // Set a timeout for this load but only if we are not already initializing\n  if (typeof (root._bokeh_timeout) === \"undefined\" || (force || !root._bokeh_is_initializing)) {\n    root._bokeh_timeout = Date.now() + 5000;\n    root._bokeh_failed_load = false;\n  }\n\n  function run_callbacks() {\n    try {\n      root._bokeh_onload_callbacks.forEach(function(callback) {\n        if (callback != null)\n          callback();\n      });\n    } finally {\n      delete root._bokeh_onload_callbacks;\n    }\n    console.debug(\"Bokeh: all callbacks have finished\");\n  }\n\n  function load_libs(css_urls, js_urls, js_modules, js_exports, callback) {\n    if (css_urls == null) css_urls = [];\n    if (js_urls == null) js_urls = [];\n    if (js_modules == null) js_modules = [];\n    if (js_exports == null) js_exports = {};\n\n    root._bokeh_onload_callbacks.push(callback);\n\n    if (root._bokeh_is_loading > 0) {\n      // Don't load bokeh if it is still initializing\n      console.debug(\"Bokeh: BokehJS is being loaded, scheduling callback at\", now());\n      return null;\n    } else if (js_urls.length === 0 && js_modules.length === 0 && Object.keys(js_exports).length === 0) {\n      // There is nothing to load\n      run_callbacks();\n      return null;\n    }\n\n    function on_load() {\n      root._bokeh_is_loading--;\n      if (root._bokeh_is_loading === 0) {\n        console.debug(\"Bokeh: all BokehJS libraries/stylesheets loaded\");\n        run_callbacks()\n      }\n    }\n    window._bokeh_on_load = on_load\n\n    function on_error(e) {\n      const src_el = e.srcElement\n      console.error(\"failed to load \" + (src_el.href || src_el.src));\n    }\n\n    const skip = [];\n    if (window.requirejs) {\n      window.requirejs.config({'packages': {}, 'paths': {}, 'shim': {}});\n      root._bokeh_is_loading = css_urls.length + 0;\n    } else {\n      root._bokeh_is_loading = css_urls.length + js_urls.length + js_modules.length + Object.keys(js_exports).length;\n    }\n\n    const existing_stylesheets = []\n    const links = document.getElementsByTagName('link')\n    for (let i = 0; i < links.length; i++) {\n      const link = links[i]\n      if (link.href != null) {\n        existing_stylesheets.push(link.href)\n      }\n    }\n    for (let i = 0; i < css_urls.length; i++) {\n      const url = css_urls[i];\n      const escaped = encodeURI(url)\n      if (existing_stylesheets.indexOf(escaped) !== -1) {\n        on_load()\n        continue;\n      }\n      const element = document.createElement(\"link\");\n      element.onload = on_load;\n      element.onerror = on_error;\n      element.rel = \"stylesheet\";\n      element.type = \"text/css\";\n      element.href = url;\n      console.debug(\"Bokeh: injecting link tag for BokehJS stylesheet: \", url);\n      document.body.appendChild(element);\n    }    var existing_scripts = []\n    const scripts = document.getElementsByTagName('script')\n    for (let i = 0; i < scripts.length; i++) {\n      var script = scripts[i]\n      if (script.src != null) {\n        existing_scripts.push(script.src)\n      }\n    }\n    for (let i = 0; i < js_urls.length; i++) {\n      const url = js_urls[i];\n      const escaped = encodeURI(url)\n      if (skip.indexOf(escaped) !== -1 || existing_scripts.indexOf(escaped) !== -1) {\n        if (!window.requirejs) {\n          on_load();\n        }\n        continue;\n      }\n      const element = document.createElement('script');\n      element.onload = on_load;\n      element.onerror = on_error;\n      element.async = false;\n      element.src = url;\n      console.debug(\"Bokeh: injecting script tag for BokehJS library: \", url);\n      document.head.appendChild(element);\n    }\n    for (let i = 0; i < js_modules.length; i++) {\n      const url = js_modules[i];\n      const escaped = encodeURI(url)\n      if (skip.indexOf(escaped) !== -1 || existing_scripts.indexOf(escaped) !== -1) {\n        if (!window.requirejs) {\n          on_load();\n        }\n        continue;\n      }\n      var element = document.createElement('script');\n      element.onload = on_load;\n      element.onerror = on_error;\n      element.async = false;\n      element.src = url;\n      element.type = \"module\";\n      console.debug(\"Bokeh: injecting script tag for BokehJS library: \", url);\n      document.head.appendChild(element);\n    }\n    for (const name in js_exports) {\n      const url = js_exports[name];\n      const escaped = encodeURI(url)\n      if (skip.indexOf(escaped) >= 0 || root[name] != null) {\n        if (!window.requirejs) {\n          on_load();\n        }\n        continue;\n      }\n      var element = document.createElement('script');\n      element.onerror = on_error;\n      element.async = false;\n      element.type = \"module\";\n      console.debug(\"Bokeh: injecting script tag for BokehJS library: \", url);\n      element.textContent = `\n      import ${name} from \"${url}\"\n      window.${name} = ${name}\n      window._bokeh_on_load()\n      `\n      document.head.appendChild(element);\n    }\n    if (!js_urls.length && !js_modules.length) {\n      on_load()\n    }\n  };\n\n  function inject_raw_css(css) {\n    const element = document.createElement(\"style\");\n    element.appendChild(document.createTextNode(css));\n    document.body.appendChild(element);\n  }\n\n  const js_urls = [\"https://cdn.holoviz.org/panel/1.5.4/dist/bundled/reactiveesm/es-module-shims@^1.10.0/dist/es-module-shims.min.js\", \"https://cdn.bokeh.org/bokeh/release/bokeh-3.6.1.min.js\", \"https://cdn.bokeh.org/bokeh/release/bokeh-gl-3.6.1.min.js\", \"https://cdn.bokeh.org/bokeh/release/bokeh-widgets-3.6.1.min.js\", \"https://cdn.bokeh.org/bokeh/release/bokeh-tables-3.6.1.min.js\", \"https://cdn.holoviz.org/panel/1.5.4/dist/panel.min.js\"];\n  const js_modules = [];\n  const js_exports = {};\n  const css_urls = [];\n  const inline_js = [    function(Bokeh) {\n      Bokeh.set_log_level(\"info\");\n    },\nfunction(Bokeh) {} // ensure no trailing comma for IE\n  ];\n\n  function run_inline_js() {\n    if ((root.Bokeh !== undefined) || (force === true)) {\n      for (let i = 0; i < inline_js.length; i++) {\n        try {\n          inline_js[i].call(root, root.Bokeh);\n        } catch(e) {\n          if (!reloading) {\n            throw e;\n          }\n        }\n      }\n      // Cache old bokeh versions\n      if (Bokeh != undefined && !reloading) {\n        var NewBokeh = root.Bokeh;\n        if (Bokeh.versions === undefined) {\n          Bokeh.versions = new Map();\n        }\n        if (NewBokeh.version !== Bokeh.version) {\n          Bokeh.versions.set(NewBokeh.version, NewBokeh)\n        }\n        root.Bokeh = Bokeh;\n      }\n    } else if (Date.now() < root._bokeh_timeout) {\n      setTimeout(run_inline_js, 100);\n    } else if (!root._bokeh_failed_load) {\n      console.log(\"Bokeh: BokehJS failed to load within specified timeout.\");\n      root._bokeh_failed_load = true;\n    }\n    root._bokeh_is_initializing = false\n  }\n\n  function load_or_wait() {\n    // Implement a backoff loop that tries to ensure we do not load multiple\n    // versions of Bokeh and its dependencies at the same time.\n    // In recent versions we use the root._bokeh_is_initializing flag\n    // to determine whether there is an ongoing attempt to initialize\n    // bokeh, however for backward compatibility we also try to ensure\n    // that we do not start loading a newer (Panel>=1.0 and Bokeh>3) version\n    // before older versions are fully initialized.\n    if (root._bokeh_is_initializing && Date.now() > root._bokeh_timeout) {\n      // If the timeout and bokeh was not successfully loaded we reset\n      // everything and try loading again\n      root._bokeh_timeout = Date.now() + 5000;\n      root._bokeh_is_initializing = false;\n      root._bokeh_onload_callbacks = undefined;\n      root._bokeh_is_loading = 0\n      console.log(\"Bokeh: BokehJS was loaded multiple times but one version failed to initialize.\");\n      load_or_wait();\n    } else if (root._bokeh_is_initializing || (typeof root._bokeh_is_initializing === \"undefined\" && root._bokeh_onload_callbacks !== undefined)) {\n      setTimeout(load_or_wait, 100);\n    } else {\n      root._bokeh_is_initializing = true\n      root._bokeh_onload_callbacks = []\n      const bokeh_loaded = root.Bokeh != null && (root.Bokeh.version === py_version || (root.Bokeh.versions !== undefined && root.Bokeh.versions.has(py_version)));\n      if (!reloading && !bokeh_loaded) {\n        if (root.Bokeh) {\n          root.Bokeh = undefined;\n        }\n        console.debug(\"Bokeh: BokehJS not loaded, scheduling load and callback at\", now());\n      }\n      load_libs(css_urls, js_urls, js_modules, js_exports, function() {\n        console.debug(\"Bokeh: BokehJS plotting callback run at\", now());\n        run_inline_js();\n      });\n    }\n  }\n  // Give older versions of the autoload script a head-start to ensure\n  // they initialize before we start loading newer version.\n  setTimeout(load_or_wait, 100)\n}(window));"
          },
          "metadata": {}
        },
        {
          "output_type": "display_data",
          "data": {
            "application/vnd.holoviews_load.v0+json": "\nif ((window.PyViz === undefined) || (window.PyViz instanceof HTMLElement)) {\n  window.PyViz = {comms: {}, comm_status:{}, kernels:{}, receivers: {}, plot_index: []}\n}\n\n\n    function JupyterCommManager() {\n    }\n\n    JupyterCommManager.prototype.register_target = function(plot_id, comm_id, msg_handler) {\n      if (window.comm_manager || ((window.Jupyter !== undefined) && (Jupyter.notebook.kernel != null))) {\n        var comm_manager = window.comm_manager || Jupyter.notebook.kernel.comm_manager;\n        comm_manager.register_target(comm_id, function(comm) {\n          comm.on_msg(msg_handler);\n        });\n      } else if ((plot_id in window.PyViz.kernels) && (window.PyViz.kernels[plot_id])) {\n        window.PyViz.kernels[plot_id].registerCommTarget(comm_id, function(comm) {\n          comm.onMsg = msg_handler;\n        });\n      } else if (typeof google != 'undefined' && google.colab.kernel != null) {\n        google.colab.kernel.comms.registerTarget(comm_id, (comm) => {\n          var messages = comm.messages[Symbol.asyncIterator]();\n          function processIteratorResult(result) {\n            var message = result.value;\n            console.log(message)\n            var content = {data: message.data, comm_id};\n            var buffers = []\n            for (var buffer of message.buffers || []) {\n              buffers.push(new DataView(buffer))\n            }\n            var metadata = message.metadata || {};\n            var msg = {content, buffers, metadata}\n            msg_handler(msg);\n            return messages.next().then(processIteratorResult);\n          }\n          return messages.next().then(processIteratorResult);\n        })\n      }\n    }\n\n    JupyterCommManager.prototype.get_client_comm = function(plot_id, comm_id, msg_handler) {\n      if (comm_id in window.PyViz.comms) {\n        return window.PyViz.comms[comm_id];\n      } else if (window.comm_manager || ((window.Jupyter !== undefined) && (Jupyter.notebook.kernel != null))) {\n        var comm_manager = window.comm_manager || Jupyter.notebook.kernel.comm_manager;\n        var comm = comm_manager.new_comm(comm_id, {}, {}, {}, comm_id);\n        if (msg_handler) {\n          comm.on_msg(msg_handler);\n        }\n      } else if ((plot_id in window.PyViz.kernels) && (window.PyViz.kernels[plot_id])) {\n        var comm = window.PyViz.kernels[plot_id].connectToComm(comm_id);\n        comm.open();\n        if (msg_handler) {\n          comm.onMsg = msg_handler;\n        }\n      } else if (typeof google != 'undefined' && google.colab.kernel != null) {\n        var comm_promise = google.colab.kernel.comms.open(comm_id)\n        comm_promise.then((comm) => {\n          window.PyViz.comms[comm_id] = comm;\n          if (msg_handler) {\n            var messages = comm.messages[Symbol.asyncIterator]();\n            function processIteratorResult(result) {\n              var message = result.value;\n              var content = {data: message.data};\n              var metadata = message.metadata || {comm_id};\n              var msg = {content, metadata}\n              msg_handler(msg);\n              return messages.next().then(processIteratorResult);\n            }\n            return messages.next().then(processIteratorResult);\n          }\n        }) \n        var sendClosure = (data, metadata, buffers, disposeOnDone) => {\n          return comm_promise.then((comm) => {\n            comm.send(data, metadata, buffers, disposeOnDone);\n          });\n        };\n        var comm = {\n          send: sendClosure\n        };\n      }\n      window.PyViz.comms[comm_id] = comm;\n      return comm;\n    }\n    window.PyViz.comm_manager = new JupyterCommManager();\n    \n\n\nvar JS_MIME_TYPE = 'application/javascript';\nvar HTML_MIME_TYPE = 'text/html';\nvar EXEC_MIME_TYPE = 'application/vnd.holoviews_exec.v0+json';\nvar CLASS_NAME = 'output';\n\n/**\n * Render data to the DOM node\n */\nfunction render(props, node) {\n  var div = document.createElement(\"div\");\n  var script = document.createElement(\"script\");\n  node.appendChild(div);\n  node.appendChild(script);\n}\n\n/**\n * Handle when a new output is added\n */\nfunction handle_add_output(event, handle) {\n  var output_area = handle.output_area;\n  var output = handle.output;\n  if ((output.data == undefined) || (!output.data.hasOwnProperty(EXEC_MIME_TYPE))) {\n    return\n  }\n  var id = output.metadata[EXEC_MIME_TYPE][\"id\"];\n  var toinsert = output_area.element.find(\".\" + CLASS_NAME.split(' ')[0]);\n  if (id !== undefined) {\n    var nchildren = toinsert.length;\n    var html_node = toinsert[nchildren-1].children[0];\n    html_node.innerHTML = output.data[HTML_MIME_TYPE];\n    var scripts = [];\n    var nodelist = html_node.querySelectorAll(\"script\");\n    for (var i in nodelist) {\n      if (nodelist.hasOwnProperty(i)) {\n        scripts.push(nodelist[i])\n      }\n    }\n\n    scripts.forEach( function (oldScript) {\n      var newScript = document.createElement(\"script\");\n      var attrs = [];\n      var nodemap = oldScript.attributes;\n      for (var j in nodemap) {\n        if (nodemap.hasOwnProperty(j)) {\n          attrs.push(nodemap[j])\n        }\n      }\n      attrs.forEach(function(attr) { newScript.setAttribute(attr.name, attr.value) });\n      newScript.appendChild(document.createTextNode(oldScript.innerHTML));\n      oldScript.parentNode.replaceChild(newScript, oldScript);\n    });\n    if (JS_MIME_TYPE in output.data) {\n      toinsert[nchildren-1].children[1].textContent = output.data[JS_MIME_TYPE];\n    }\n    output_area._hv_plot_id = id;\n    if ((window.Bokeh !== undefined) && (id in Bokeh.index)) {\n      window.PyViz.plot_index[id] = Bokeh.index[id];\n    } else {\n      window.PyViz.plot_index[id] = null;\n    }\n  } else if (output.metadata[EXEC_MIME_TYPE][\"server_id\"] !== undefined) {\n    var bk_div = document.createElement(\"div\");\n    bk_div.innerHTML = output.data[HTML_MIME_TYPE];\n    var script_attrs = bk_div.children[0].attributes;\n    for (var i = 0; i < script_attrs.length; i++) {\n      toinsert[toinsert.length - 1].childNodes[1].setAttribute(script_attrs[i].name, script_attrs[i].value);\n    }\n    // store reference to server id on output_area\n    output_area._bokeh_server_id = output.metadata[EXEC_MIME_TYPE][\"server_id\"];\n  }\n}\n\n/**\n * Handle when an output is cleared or removed\n */\nfunction handle_clear_output(event, handle) {\n  var id = handle.cell.output_area._hv_plot_id;\n  var server_id = handle.cell.output_area._bokeh_server_id;\n  if (((id === undefined) || !(id in PyViz.plot_index)) && (server_id !== undefined)) { return; }\n  var comm = window.PyViz.comm_manager.get_client_comm(\"hv-extension-comm\", \"hv-extension-comm\", function () {});\n  if (server_id !== null) {\n    comm.send({event_type: 'server_delete', 'id': server_id});\n    return;\n  } else if (comm !== null) {\n    comm.send({event_type: 'delete', 'id': id});\n  }\n  delete PyViz.plot_index[id];\n  if ((window.Bokeh !== undefined) & (id in window.Bokeh.index)) {\n    var doc = window.Bokeh.index[id].model.document\n    doc.clear();\n    const i = window.Bokeh.documents.indexOf(doc);\n    if (i > -1) {\n      window.Bokeh.documents.splice(i, 1);\n    }\n  }\n}\n\n/**\n * Handle kernel restart event\n */\nfunction handle_kernel_cleanup(event, handle) {\n  delete PyViz.comms[\"hv-extension-comm\"];\n  window.PyViz.plot_index = {}\n}\n\n/**\n * Handle update_display_data messages\n */\nfunction handle_update_output(event, handle) {\n  handle_clear_output(event, {cell: {output_area: handle.output_area}})\n  handle_add_output(event, handle)\n}\n\nfunction register_renderer(events, OutputArea) {\n  function append_mime(data, metadata, element) {\n    // create a DOM node to render to\n    var toinsert = this.create_output_subarea(\n    metadata,\n    CLASS_NAME,\n    EXEC_MIME_TYPE\n    );\n    this.keyboard_manager.register_events(toinsert);\n    // Render to node\n    var props = {data: data, metadata: metadata[EXEC_MIME_TYPE]};\n    render(props, toinsert[0]);\n    element.append(toinsert);\n    return toinsert\n  }\n\n  events.on('output_added.OutputArea', handle_add_output);\n  events.on('output_updated.OutputArea', handle_update_output);\n  events.on('clear_output.CodeCell', handle_clear_output);\n  events.on('delete.Cell', handle_clear_output);\n  events.on('kernel_ready.Kernel', handle_kernel_cleanup);\n\n  OutputArea.prototype.register_mime_type(EXEC_MIME_TYPE, append_mime, {\n    safe: true,\n    index: 0\n  });\n}\n\nif (window.Jupyter !== undefined) {\n  try {\n    var events = require('base/js/events');\n    var OutputArea = require('notebook/js/outputarea').OutputArea;\n    if (OutputArea.prototype.mime_types().indexOf(EXEC_MIME_TYPE) == -1) {\n      register_renderer(events, OutputArea);\n    }\n  } catch(err) {\n  }\n}\n",
            "application/javascript": [
              "\n",
              "if ((window.PyViz === undefined) || (window.PyViz instanceof HTMLElement)) {\n",
              "  window.PyViz = {comms: {}, comm_status:{}, kernels:{}, receivers: {}, plot_index: []}\n",
              "}\n",
              "\n",
              "\n",
              "    function JupyterCommManager() {\n",
              "    }\n",
              "\n",
              "    JupyterCommManager.prototype.register_target = function(plot_id, comm_id, msg_handler) {\n",
              "      if (window.comm_manager || ((window.Jupyter !== undefined) && (Jupyter.notebook.kernel != null))) {\n",
              "        var comm_manager = window.comm_manager || Jupyter.notebook.kernel.comm_manager;\n",
              "        comm_manager.register_target(comm_id, function(comm) {\n",
              "          comm.on_msg(msg_handler);\n",
              "        });\n",
              "      } else if ((plot_id in window.PyViz.kernels) && (window.PyViz.kernels[plot_id])) {\n",
              "        window.PyViz.kernels[plot_id].registerCommTarget(comm_id, function(comm) {\n",
              "          comm.onMsg = msg_handler;\n",
              "        });\n",
              "      } else if (typeof google != 'undefined' && google.colab.kernel != null) {\n",
              "        google.colab.kernel.comms.registerTarget(comm_id, (comm) => {\n",
              "          var messages = comm.messages[Symbol.asyncIterator]();\n",
              "          function processIteratorResult(result) {\n",
              "            var message = result.value;\n",
              "            console.log(message)\n",
              "            var content = {data: message.data, comm_id};\n",
              "            var buffers = []\n",
              "            for (var buffer of message.buffers || []) {\n",
              "              buffers.push(new DataView(buffer))\n",
              "            }\n",
              "            var metadata = message.metadata || {};\n",
              "            var msg = {content, buffers, metadata}\n",
              "            msg_handler(msg);\n",
              "            return messages.next().then(processIteratorResult);\n",
              "          }\n",
              "          return messages.next().then(processIteratorResult);\n",
              "        })\n",
              "      }\n",
              "    }\n",
              "\n",
              "    JupyterCommManager.prototype.get_client_comm = function(plot_id, comm_id, msg_handler) {\n",
              "      if (comm_id in window.PyViz.comms) {\n",
              "        return window.PyViz.comms[comm_id];\n",
              "      } else if (window.comm_manager || ((window.Jupyter !== undefined) && (Jupyter.notebook.kernel != null))) {\n",
              "        var comm_manager = window.comm_manager || Jupyter.notebook.kernel.comm_manager;\n",
              "        var comm = comm_manager.new_comm(comm_id, {}, {}, {}, comm_id);\n",
              "        if (msg_handler) {\n",
              "          comm.on_msg(msg_handler);\n",
              "        }\n",
              "      } else if ((plot_id in window.PyViz.kernels) && (window.PyViz.kernels[plot_id])) {\n",
              "        var comm = window.PyViz.kernels[plot_id].connectToComm(comm_id);\n",
              "        comm.open();\n",
              "        if (msg_handler) {\n",
              "          comm.onMsg = msg_handler;\n",
              "        }\n",
              "      } else if (typeof google != 'undefined' && google.colab.kernel != null) {\n",
              "        var comm_promise = google.colab.kernel.comms.open(comm_id)\n",
              "        comm_promise.then((comm) => {\n",
              "          window.PyViz.comms[comm_id] = comm;\n",
              "          if (msg_handler) {\n",
              "            var messages = comm.messages[Symbol.asyncIterator]();\n",
              "            function processIteratorResult(result) {\n",
              "              var message = result.value;\n",
              "              var content = {data: message.data};\n",
              "              var metadata = message.metadata || {comm_id};\n",
              "              var msg = {content, metadata}\n",
              "              msg_handler(msg);\n",
              "              return messages.next().then(processIteratorResult);\n",
              "            }\n",
              "            return messages.next().then(processIteratorResult);\n",
              "          }\n",
              "        }) \n",
              "        var sendClosure = (data, metadata, buffers, disposeOnDone) => {\n",
              "          return comm_promise.then((comm) => {\n",
              "            comm.send(data, metadata, buffers, disposeOnDone);\n",
              "          });\n",
              "        };\n",
              "        var comm = {\n",
              "          send: sendClosure\n",
              "        };\n",
              "      }\n",
              "      window.PyViz.comms[comm_id] = comm;\n",
              "      return comm;\n",
              "    }\n",
              "    window.PyViz.comm_manager = new JupyterCommManager();\n",
              "    \n",
              "\n",
              "\n",
              "var JS_MIME_TYPE = 'application/javascript';\n",
              "var HTML_MIME_TYPE = 'text/html';\n",
              "var EXEC_MIME_TYPE = 'application/vnd.holoviews_exec.v0+json';\n",
              "var CLASS_NAME = 'output';\n",
              "\n",
              "/**\n",
              " * Render data to the DOM node\n",
              " */\n",
              "function render(props, node) {\n",
              "  var div = document.createElement(\"div\");\n",
              "  var script = document.createElement(\"script\");\n",
              "  node.appendChild(div);\n",
              "  node.appendChild(script);\n",
              "}\n",
              "\n",
              "/**\n",
              " * Handle when a new output is added\n",
              " */\n",
              "function handle_add_output(event, handle) {\n",
              "  var output_area = handle.output_area;\n",
              "  var output = handle.output;\n",
              "  if ((output.data == undefined) || (!output.data.hasOwnProperty(EXEC_MIME_TYPE))) {\n",
              "    return\n",
              "  }\n",
              "  var id = output.metadata[EXEC_MIME_TYPE][\"id\"];\n",
              "  var toinsert = output_area.element.find(\".\" + CLASS_NAME.split(' ')[0]);\n",
              "  if (id !== undefined) {\n",
              "    var nchildren = toinsert.length;\n",
              "    var html_node = toinsert[nchildren-1].children[0];\n",
              "    html_node.innerHTML = output.data[HTML_MIME_TYPE];\n",
              "    var scripts = [];\n",
              "    var nodelist = html_node.querySelectorAll(\"script\");\n",
              "    for (var i in nodelist) {\n",
              "      if (nodelist.hasOwnProperty(i)) {\n",
              "        scripts.push(nodelist[i])\n",
              "      }\n",
              "    }\n",
              "\n",
              "    scripts.forEach( function (oldScript) {\n",
              "      var newScript = document.createElement(\"script\");\n",
              "      var attrs = [];\n",
              "      var nodemap = oldScript.attributes;\n",
              "      for (var j in nodemap) {\n",
              "        if (nodemap.hasOwnProperty(j)) {\n",
              "          attrs.push(nodemap[j])\n",
              "        }\n",
              "      }\n",
              "      attrs.forEach(function(attr) { newScript.setAttribute(attr.name, attr.value) });\n",
              "      newScript.appendChild(document.createTextNode(oldScript.innerHTML));\n",
              "      oldScript.parentNode.replaceChild(newScript, oldScript);\n",
              "    });\n",
              "    if (JS_MIME_TYPE in output.data) {\n",
              "      toinsert[nchildren-1].children[1].textContent = output.data[JS_MIME_TYPE];\n",
              "    }\n",
              "    output_area._hv_plot_id = id;\n",
              "    if ((window.Bokeh !== undefined) && (id in Bokeh.index)) {\n",
              "      window.PyViz.plot_index[id] = Bokeh.index[id];\n",
              "    } else {\n",
              "      window.PyViz.plot_index[id] = null;\n",
              "    }\n",
              "  } else if (output.metadata[EXEC_MIME_TYPE][\"server_id\"] !== undefined) {\n",
              "    var bk_div = document.createElement(\"div\");\n",
              "    bk_div.innerHTML = output.data[HTML_MIME_TYPE];\n",
              "    var script_attrs = bk_div.children[0].attributes;\n",
              "    for (var i = 0; i < script_attrs.length; i++) {\n",
              "      toinsert[toinsert.length - 1].childNodes[1].setAttribute(script_attrs[i].name, script_attrs[i].value);\n",
              "    }\n",
              "    // store reference to server id on output_area\n",
              "    output_area._bokeh_server_id = output.metadata[EXEC_MIME_TYPE][\"server_id\"];\n",
              "  }\n",
              "}\n",
              "\n",
              "/**\n",
              " * Handle when an output is cleared or removed\n",
              " */\n",
              "function handle_clear_output(event, handle) {\n",
              "  var id = handle.cell.output_area._hv_plot_id;\n",
              "  var server_id = handle.cell.output_area._bokeh_server_id;\n",
              "  if (((id === undefined) || !(id in PyViz.plot_index)) && (server_id !== undefined)) { return; }\n",
              "  var comm = window.PyViz.comm_manager.get_client_comm(\"hv-extension-comm\", \"hv-extension-comm\", function () {});\n",
              "  if (server_id !== null) {\n",
              "    comm.send({event_type: 'server_delete', 'id': server_id});\n",
              "    return;\n",
              "  } else if (comm !== null) {\n",
              "    comm.send({event_type: 'delete', 'id': id});\n",
              "  }\n",
              "  delete PyViz.plot_index[id];\n",
              "  if ((window.Bokeh !== undefined) & (id in window.Bokeh.index)) {\n",
              "    var doc = window.Bokeh.index[id].model.document\n",
              "    doc.clear();\n",
              "    const i = window.Bokeh.documents.indexOf(doc);\n",
              "    if (i > -1) {\n",
              "      window.Bokeh.documents.splice(i, 1);\n",
              "    }\n",
              "  }\n",
              "}\n",
              "\n",
              "/**\n",
              " * Handle kernel restart event\n",
              " */\n",
              "function handle_kernel_cleanup(event, handle) {\n",
              "  delete PyViz.comms[\"hv-extension-comm\"];\n",
              "  window.PyViz.plot_index = {}\n",
              "}\n",
              "\n",
              "/**\n",
              " * Handle update_display_data messages\n",
              " */\n",
              "function handle_update_output(event, handle) {\n",
              "  handle_clear_output(event, {cell: {output_area: handle.output_area}})\n",
              "  handle_add_output(event, handle)\n",
              "}\n",
              "\n",
              "function register_renderer(events, OutputArea) {\n",
              "  function append_mime(data, metadata, element) {\n",
              "    // create a DOM node to render to\n",
              "    var toinsert = this.create_output_subarea(\n",
              "    metadata,\n",
              "    CLASS_NAME,\n",
              "    EXEC_MIME_TYPE\n",
              "    );\n",
              "    this.keyboard_manager.register_events(toinsert);\n",
              "    // Render to node\n",
              "    var props = {data: data, metadata: metadata[EXEC_MIME_TYPE]};\n",
              "    render(props, toinsert[0]);\n",
              "    element.append(toinsert);\n",
              "    return toinsert\n",
              "  }\n",
              "\n",
              "  events.on('output_added.OutputArea', handle_add_output);\n",
              "  events.on('output_updated.OutputArea', handle_update_output);\n",
              "  events.on('clear_output.CodeCell', handle_clear_output);\n",
              "  events.on('delete.Cell', handle_clear_output);\n",
              "  events.on('kernel_ready.Kernel', handle_kernel_cleanup);\n",
              "\n",
              "  OutputArea.prototype.register_mime_type(EXEC_MIME_TYPE, append_mime, {\n",
              "    safe: true,\n",
              "    index: 0\n",
              "  });\n",
              "}\n",
              "\n",
              "if (window.Jupyter !== undefined) {\n",
              "  try {\n",
              "    var events = require('base/js/events');\n",
              "    var OutputArea = require('notebook/js/outputarea').OutputArea;\n",
              "    if (OutputArea.prototype.mime_types().indexOf(EXEC_MIME_TYPE) == -1) {\n",
              "      register_renderer(events, OutputArea);\n",
              "    }\n",
              "  } catch(err) {\n",
              "  }\n",
              "}\n"
            ]
          },
          "metadata": {}
        },
        {
          "output_type": "display_data",
          "data": {
            "text/html": [
              "<div id='d7ae0a42-207a-454e-aa95-562185c926c9'>\n",
              "  <div id=\"ebb9d3fb-770a-4d9a-a52a-425b749ab31f\" data-root-id=\"d7ae0a42-207a-454e-aa95-562185c926c9\" style=\"display: contents;\"></div>\n",
              "</div>\n",
              "<script type=\"application/javascript\">(function(root) {\n",
              "  var docs_json = {\"b0c0acad-954b-4ed3-95be-13ca5596bcc0\":{\"version\":\"3.6.1\",\"title\":\"Bokeh Application\",\"roots\":[{\"type\":\"object\",\"name\":\"panel.models.browser.BrowserInfo\",\"id\":\"d7ae0a42-207a-454e-aa95-562185c926c9\"},{\"type\":\"object\",\"name\":\"panel.models.comm_manager.CommManager\",\"id\":\"00cf8b01-f33e-4175-bd0c-90a94dbe1def\",\"attributes\":{\"plot_id\":\"d7ae0a42-207a-454e-aa95-562185c926c9\",\"comm_id\":\"851022582c164f879fb67b53b9a30f7d\",\"client_comm_id\":\"b1aeb5f5d95f4c049e9e9b9589450859\"}}],\"defs\":[{\"type\":\"model\",\"name\":\"ReactiveHTML1\"},{\"type\":\"model\",\"name\":\"FlexBox1\",\"properties\":[{\"name\":\"align_content\",\"kind\":\"Any\",\"default\":\"flex-start\"},{\"name\":\"align_items\",\"kind\":\"Any\",\"default\":\"flex-start\"},{\"name\":\"flex_direction\",\"kind\":\"Any\",\"default\":\"row\"},{\"name\":\"flex_wrap\",\"kind\":\"Any\",\"default\":\"wrap\"},{\"name\":\"gap\",\"kind\":\"Any\",\"default\":\"\"},{\"name\":\"justify_content\",\"kind\":\"Any\",\"default\":\"flex-start\"}]},{\"type\":\"model\",\"name\":\"FloatPanel1\",\"properties\":[{\"name\":\"config\",\"kind\":\"Any\",\"default\":{\"type\":\"map\"}},{\"name\":\"contained\",\"kind\":\"Any\",\"default\":true},{\"name\":\"position\",\"kind\":\"Any\",\"default\":\"right-top\"},{\"name\":\"offsetx\",\"kind\":\"Any\",\"default\":null},{\"name\":\"offsety\",\"kind\":\"Any\",\"default\":null},{\"name\":\"theme\",\"kind\":\"Any\",\"default\":\"primary\"},{\"name\":\"status\",\"kind\":\"Any\",\"default\":\"normalized\"}]},{\"type\":\"model\",\"name\":\"GridStack1\",\"properties\":[{\"name\":\"mode\",\"kind\":\"Any\",\"default\":\"warn\"},{\"name\":\"ncols\",\"kind\":\"Any\",\"default\":null},{\"name\":\"nrows\",\"kind\":\"Any\",\"default\":null},{\"name\":\"allow_resize\",\"kind\":\"Any\",\"default\":true},{\"name\":\"allow_drag\",\"kind\":\"Any\",\"default\":true},{\"name\":\"state\",\"kind\":\"Any\",\"default\":[]}]},{\"type\":\"model\",\"name\":\"drag1\",\"properties\":[{\"name\":\"slider_width\",\"kind\":\"Any\",\"default\":5},{\"name\":\"slider_color\",\"kind\":\"Any\",\"default\":\"black\"},{\"name\":\"value\",\"kind\":\"Any\",\"default\":50}]},{\"type\":\"model\",\"name\":\"click1\",\"properties\":[{\"name\":\"terminal_output\",\"kind\":\"Any\",\"default\":\"\"},{\"name\":\"debug_name\",\"kind\":\"Any\",\"default\":\"\"},{\"name\":\"clears\",\"kind\":\"Any\",\"default\":0}]},{\"type\":\"model\",\"name\":\"FastWrapper1\",\"properties\":[{\"name\":\"object\",\"kind\":\"Any\",\"default\":null},{\"name\":\"style\",\"kind\":\"Any\",\"default\":null}]},{\"type\":\"model\",\"name\":\"NotificationAreaBase1\",\"properties\":[{\"name\":\"js_events\",\"kind\":\"Any\",\"default\":{\"type\":\"map\"}},{\"name\":\"position\",\"kind\":\"Any\",\"default\":\"bottom-right\"},{\"name\":\"_clear\",\"kind\":\"Any\",\"default\":0}]},{\"type\":\"model\",\"name\":\"NotificationArea1\",\"properties\":[{\"name\":\"js_events\",\"kind\":\"Any\",\"default\":{\"type\":\"map\"}},{\"name\":\"notifications\",\"kind\":\"Any\",\"default\":[]},{\"name\":\"position\",\"kind\":\"Any\",\"default\":\"bottom-right\"},{\"name\":\"_clear\",\"kind\":\"Any\",\"default\":0},{\"name\":\"types\",\"kind\":\"Any\",\"default\":[{\"type\":\"map\",\"entries\":[[\"type\",\"warning\"],[\"background\",\"#ffc107\"],[\"icon\",{\"type\":\"map\",\"entries\":[[\"className\",\"fas fa-exclamation-triangle\"],[\"tagName\",\"i\"],[\"color\",\"white\"]]}]]},{\"type\":\"map\",\"entries\":[[\"type\",\"info\"],[\"background\",\"#007bff\"],[\"icon\",{\"type\":\"map\",\"entries\":[[\"className\",\"fas fa-info-circle\"],[\"tagName\",\"i\"],[\"color\",\"white\"]]}]]}]}]},{\"type\":\"model\",\"name\":\"Notification\",\"properties\":[{\"name\":\"background\",\"kind\":\"Any\",\"default\":null},{\"name\":\"duration\",\"kind\":\"Any\",\"default\":3000},{\"name\":\"icon\",\"kind\":\"Any\",\"default\":null},{\"name\":\"message\",\"kind\":\"Any\",\"default\":\"\"},{\"name\":\"notification_type\",\"kind\":\"Any\",\"default\":null},{\"name\":\"_destroyed\",\"kind\":\"Any\",\"default\":false}]},{\"type\":\"model\",\"name\":\"TemplateActions1\",\"properties\":[{\"name\":\"open_modal\",\"kind\":\"Any\",\"default\":0},{\"name\":\"close_modal\",\"kind\":\"Any\",\"default\":0}]},{\"type\":\"model\",\"name\":\"BootstrapTemplateActions1\",\"properties\":[{\"name\":\"open_modal\",\"kind\":\"Any\",\"default\":0},{\"name\":\"close_modal\",\"kind\":\"Any\",\"default\":0}]},{\"type\":\"model\",\"name\":\"TemplateEditor1\",\"properties\":[{\"name\":\"layout\",\"kind\":\"Any\",\"default\":[]}]},{\"type\":\"model\",\"name\":\"MaterialTemplateActions1\",\"properties\":[{\"name\":\"open_modal\",\"kind\":\"Any\",\"default\":0},{\"name\":\"close_modal\",\"kind\":\"Any\",\"default\":0}]},{\"type\":\"model\",\"name\":\"ReactiveESM1\",\"properties\":[{\"name\":\"esm_constants\",\"kind\":\"Any\",\"default\":{\"type\":\"map\"}}]},{\"type\":\"model\",\"name\":\"JSComponent1\",\"properties\":[{\"name\":\"esm_constants\",\"kind\":\"Any\",\"default\":{\"type\":\"map\"}}]},{\"type\":\"model\",\"name\":\"ReactComponent1\",\"properties\":[{\"name\":\"esm_constants\",\"kind\":\"Any\",\"default\":{\"type\":\"map\"}}]},{\"type\":\"model\",\"name\":\"AnyWidgetComponent1\",\"properties\":[{\"name\":\"esm_constants\",\"kind\":\"Any\",\"default\":{\"type\":\"map\"}}]},{\"type\":\"model\",\"name\":\"request_value1\",\"properties\":[{\"name\":\"fill\",\"kind\":\"Any\",\"default\":\"none\"},{\"name\":\"_synced\",\"kind\":\"Any\",\"default\":null},{\"name\":\"_request_sync\",\"kind\":\"Any\",\"default\":0}]}]}};\n",
              "  var render_items = [{\"docid\":\"b0c0acad-954b-4ed3-95be-13ca5596bcc0\",\"roots\":{\"d7ae0a42-207a-454e-aa95-562185c926c9\":\"ebb9d3fb-770a-4d9a-a52a-425b749ab31f\"},\"root_ids\":[\"d7ae0a42-207a-454e-aa95-562185c926c9\"]}];\n",
              "  var docs = Object.values(docs_json)\n",
              "  if (!docs) {\n",
              "    return\n",
              "  }\n",
              "  const py_version = docs[0].version.replace('rc', '-rc.').replace('.dev', '-dev.')\n",
              "  async function embed_document(root) {\n",
              "    var Bokeh = get_bokeh(root)\n",
              "    await Bokeh.embed.embed_items_notebook(docs_json, render_items);\n",
              "    for (const render_item of render_items) {\n",
              "      for (const root_id of render_item.root_ids) {\n",
              "\tconst id_el = document.getElementById(root_id)\n",
              "\tif (id_el.children.length && id_el.children[0].hasAttribute('data-root-id')) {\n",
              "\t  const root_el = id_el.children[0]\n",
              "\t  root_el.id = root_el.id + '-rendered'\n",
              "\t  for (const child of root_el.children) {\n",
              "            // Ensure JupyterLab does not capture keyboard shortcuts\n",
              "            // see: https://jupyterlab.readthedocs.io/en/4.1.x/extension/notebook.html#keyboard-interaction-model\n",
              "\t    child.setAttribute('data-lm-suppress-shortcuts', 'true')\n",
              "\t  }\n",
              "\t}\n",
              "      }\n",
              "    }\n",
              "  }\n",
              "  function get_bokeh(root) {\n",
              "    if (root.Bokeh === undefined) {\n",
              "      return null\n",
              "    } else if (root.Bokeh.version !== py_version) {\n",
              "      if (root.Bokeh.versions === undefined || !root.Bokeh.versions.has(py_version)) {\n",
              "\treturn null\n",
              "      }\n",
              "      return root.Bokeh.versions.get(py_version);\n",
              "    } else if (root.Bokeh.version === py_version) {\n",
              "      return root.Bokeh\n",
              "    }\n",
              "    return null\n",
              "  }\n",
              "  function is_loaded(root) {\n",
              "    var Bokeh = get_bokeh(root)\n",
              "    return (Bokeh != null && Bokeh.Panel !== undefined)\n",
              "  }\n",
              "  if (is_loaded(root)) {\n",
              "    embed_document(root);\n",
              "  } else {\n",
              "    var attempts = 0;\n",
              "    var timer = setInterval(function(root) {\n",
              "      if (is_loaded(root)) {\n",
              "        clearInterval(timer);\n",
              "        embed_document(root);\n",
              "      } else if (document.readyState == \"complete\") {\n",
              "        attempts++;\n",
              "        if (attempts > 200) {\n",
              "          clearInterval(timer);\n",
              "\t  var Bokeh = get_bokeh(root)\n",
              "\t  if (Bokeh == null || Bokeh.Panel == null) {\n",
              "            console.warn(\"Panel: ERROR: Unable to run Panel code because Bokeh or Panel library is missing\");\n",
              "\t  } else {\n",
              "\t    console.warn(\"Panel: WARNING: Attempting to render but not all required libraries could be resolved.\")\n",
              "\t    embed_document(root)\n",
              "\t  }\n",
              "        }\n",
              "      }\n",
              "    }, 25, root)\n",
              "  }\n",
              "})(window);</script>"
            ],
            "application/vnd.holoviews_exec.v0+json": ""
          },
          "metadata": {
            "application/vnd.holoviews_exec.v0+json": {
              "id": "d7ae0a42-207a-454e-aa95-562185c926c9"
            }
          }
        }
      ],
      "source": [
        "import panel as pn\n",
        "import panel.widgets as pnw\n",
        "pn.extension()\n",
        "from bokeh.plotting import figure\n",
        "from bokeh.models import ColumnDataSource, Plot, Grid, Range1d\n",
        "from bokeh.models.glyphs import Text, Rect\n",
        "from bokeh.layouts import gridplot\n",
        "\n",
        "def view_alignment(aln, fontsize=\"9pt\"):\n",
        "    \"\"\"Bokeh sequence alignment view\"\"\"\n",
        "\n",
        "    #make sequence and id lists from the aln object\n",
        "    seqs = [rec.seq for rec in (aln)]\n",
        "    ids = [rec.id for rec in aln]\n",
        "    text = [i for s in list(seqs) for i in s]\n",
        "    colors = get_colors(seqs)\n",
        "    N = len(seqs[0])\n",
        "    S = len(seqs)\n",
        "    width = .4\n",
        "\n",
        "    x = np.arange(0.5,N+0.5)\n",
        "    y = np.arange(0,S,1)\n",
        "    #creates a 2D grid of coords from the 1D arrays\n",
        "    xx, yy = np.meshgrid(x, y)\n",
        "    #flattens the arrays\n",
        "    gx = xx.ravel()\n",
        "    gy = yy.flatten()\n",
        "    #use recty for rect coords with an offset\n",
        "    recty = gy+.5\n",
        "    h= 1/S\n",
        "    #now we can create the ColumnDataSource with all the arrays\n",
        "    source = ColumnDataSource(dict(x=gx, y=gy, recty=recty, text=text, colors=colors))\n",
        "    x_range = Range1d(0,N+1, bounds='auto')\n",
        "    if N>100:\n",
        "        viewlen=100\n",
        "    else:\n",
        "        viewlen=N\n",
        "    #view_range is for the close up view\n",
        "    view_range = (0,viewlen)\n",
        "    tools=\"xpan, xwheel_zoom, reset, save\"\n",
        "\n",
        "    #sequence text view with ability to scroll along x axis\n",
        "    p = figure(title=None, x_range=view_range, y_range=ids, tools=\"xpan,reset\",\n",
        "                min_border=0, toolbar_location='below')#, lod_factor=1)\n",
        "    glyph = Text(x=\"x\", y=\"y\", text=\"text\", text_align='center',text_color=\"black\",\n",
        "                text_font=\"monospace\",text_font_size=fontsize)\n",
        "    rects = Rect(x=\"x\", y=\"recty\",  width=1, height=1, fill_color=\"colors\",\n",
        "                line_color=None, fill_alpha=0.4)\n",
        "    p.add_glyph(source, glyph)\n",
        "    p.add_glyph(source, rects)\n",
        "\n",
        "    p.grid.visible = False\n",
        "    p.xaxis.major_label_text_font_style = \"bold\"\n",
        "    p.yaxis.minor_tick_line_width = 0\n",
        "    p.yaxis.major_tick_line_width = 0\n",
        "\n",
        "    p = gridplot([[p]], toolbar_location='below')\n",
        "    return p\n",
        "\n",
        "# Mapping Function for nucleotide sequences\n",
        "def get_colors(seqs):\n",
        "    \"\"\"make colors for bases in sequence\"\"\"\n",
        "    text = [i for s in list(seqs) for i in s]\n",
        "    clrs =  {'A':'red','T':'green','G':'orange','C':'blue','-':'white'}\n",
        "    colors = [clrs[i] for i in text]\n",
        "    return colors"
      ]
    },
    {
      "cell_type": "code",
      "execution_count": 61,
      "metadata": {
        "execution": {
          "iopub.execute_input": "2023-05-06T19:10:21.358409Z",
          "iopub.status.busy": "2023-05-06T19:10:21.357671Z",
          "iopub.status.idle": "2023-05-06T19:10:21.407154Z",
          "shell.execute_reply": "2023-05-06T19:10:21.406408Z",
          "shell.execute_reply.started": "2021-10-22T17:50:08.683385Z"
        },
        "papermill": {
          "duration": 0.132154,
          "end_time": "2023-05-06T19:10:21.407317",
          "exception": false,
          "start_time": "2023-05-06T19:10:21.275163",
          "status": "completed"
        },
        "tags": [],
        "colab": {
          "base_uri": "https://localhost:8080/",
          "height": 647
        },
        "id": "79yJiyEABaz_",
        "outputId": "bb938918-5c33-427a-fd43-4fd8a2800892"
      },
      "outputs": [
        {
          "output_type": "display_data",
          "data": {
            "text/html": [
              "<script type=\"esms-options\">{\"shimMode\": true}</script><style>*[data-root-id],\n",
              "*[data-root-id] > * {\n",
              "  box-sizing: border-box;\n",
              "  font-family: var(--jp-ui-font-family);\n",
              "  font-size: var(--jp-ui-font-size1);\n",
              "  color: var(--vscode-editor-foreground, var(--jp-ui-font-color1));\n",
              "}\n",
              "\n",
              "/* Override VSCode background color */\n",
              ".cell-output-ipywidget-background:has(\n",
              "    > .cell-output-ipywidget-background > .lm-Widget > *[data-root-id]\n",
              "  ),\n",
              ".cell-output-ipywidget-background:has(> .lm-Widget > *[data-root-id]) {\n",
              "  background-color: transparent !important;\n",
              "}\n",
              "</style>"
            ]
          },
          "metadata": {}
        },
        {
          "output_type": "display_data",
          "data": {
            "application/javascript": [
              "(function(root) {\n",
              "  function now() {\n",
              "    return new Date();\n",
              "  }\n",
              "\n",
              "  const force = true;\n",
              "  const py_version = '3.6.1'.replace('rc', '-rc.').replace('.dev', '-dev.');\n",
              "  const reloading = false;\n",
              "  const Bokeh = root.Bokeh;\n",
              "\n",
              "  // Set a timeout for this load but only if we are not already initializing\n",
              "  if (typeof (root._bokeh_timeout) === \"undefined\" || (force || !root._bokeh_is_initializing)) {\n",
              "    root._bokeh_timeout = Date.now() + 5000;\n",
              "    root._bokeh_failed_load = false;\n",
              "  }\n",
              "\n",
              "  function run_callbacks() {\n",
              "    try {\n",
              "      root._bokeh_onload_callbacks.forEach(function(callback) {\n",
              "        if (callback != null)\n",
              "          callback();\n",
              "      });\n",
              "    } finally {\n",
              "      delete root._bokeh_onload_callbacks;\n",
              "    }\n",
              "    console.debug(\"Bokeh: all callbacks have finished\");\n",
              "  }\n",
              "\n",
              "  function load_libs(css_urls, js_urls, js_modules, js_exports, callback) {\n",
              "    if (css_urls == null) css_urls = [];\n",
              "    if (js_urls == null) js_urls = [];\n",
              "    if (js_modules == null) js_modules = [];\n",
              "    if (js_exports == null) js_exports = {};\n",
              "\n",
              "    root._bokeh_onload_callbacks.push(callback);\n",
              "\n",
              "    if (root._bokeh_is_loading > 0) {\n",
              "      // Don't load bokeh if it is still initializing\n",
              "      console.debug(\"Bokeh: BokehJS is being loaded, scheduling callback at\", now());\n",
              "      return null;\n",
              "    } else if (js_urls.length === 0 && js_modules.length === 0 && Object.keys(js_exports).length === 0) {\n",
              "      // There is nothing to load\n",
              "      run_callbacks();\n",
              "      return null;\n",
              "    }\n",
              "\n",
              "    function on_load() {\n",
              "      root._bokeh_is_loading--;\n",
              "      if (root._bokeh_is_loading === 0) {\n",
              "        console.debug(\"Bokeh: all BokehJS libraries/stylesheets loaded\");\n",
              "        run_callbacks()\n",
              "      }\n",
              "    }\n",
              "    window._bokeh_on_load = on_load\n",
              "\n",
              "    function on_error(e) {\n",
              "      const src_el = e.srcElement\n",
              "      console.error(\"failed to load \" + (src_el.href || src_el.src));\n",
              "    }\n",
              "\n",
              "    const skip = [];\n",
              "    if (window.requirejs) {\n",
              "      window.requirejs.config({'packages': {}, 'paths': {}, 'shim': {}});\n",
              "      root._bokeh_is_loading = css_urls.length + 0;\n",
              "    } else {\n",
              "      root._bokeh_is_loading = css_urls.length + js_urls.length + js_modules.length + Object.keys(js_exports).length;\n",
              "    }\n",
              "\n",
              "    const existing_stylesheets = []\n",
              "    const links = document.getElementsByTagName('link')\n",
              "    for (let i = 0; i < links.length; i++) {\n",
              "      const link = links[i]\n",
              "      if (link.href != null) {\n",
              "        existing_stylesheets.push(link.href)\n",
              "      }\n",
              "    }\n",
              "    for (let i = 0; i < css_urls.length; i++) {\n",
              "      const url = css_urls[i];\n",
              "      const escaped = encodeURI(url)\n",
              "      if (existing_stylesheets.indexOf(escaped) !== -1) {\n",
              "        on_load()\n",
              "        continue;\n",
              "      }\n",
              "      const element = document.createElement(\"link\");\n",
              "      element.onload = on_load;\n",
              "      element.onerror = on_error;\n",
              "      element.rel = \"stylesheet\";\n",
              "      element.type = \"text/css\";\n",
              "      element.href = url;\n",
              "      console.debug(\"Bokeh: injecting link tag for BokehJS stylesheet: \", url);\n",
              "      document.body.appendChild(element);\n",
              "    }    var existing_scripts = []\n",
              "    const scripts = document.getElementsByTagName('script')\n",
              "    for (let i = 0; i < scripts.length; i++) {\n",
              "      var script = scripts[i]\n",
              "      if (script.src != null) {\n",
              "        existing_scripts.push(script.src)\n",
              "      }\n",
              "    }\n",
              "    for (let i = 0; i < js_urls.length; i++) {\n",
              "      const url = js_urls[i];\n",
              "      const escaped = encodeURI(url)\n",
              "      if (skip.indexOf(escaped) !== -1 || existing_scripts.indexOf(escaped) !== -1) {\n",
              "        if (!window.requirejs) {\n",
              "          on_load();\n",
              "        }\n",
              "        continue;\n",
              "      }\n",
              "      const element = document.createElement('script');\n",
              "      element.onload = on_load;\n",
              "      element.onerror = on_error;\n",
              "      element.async = false;\n",
              "      element.src = url;\n",
              "      console.debug(\"Bokeh: injecting script tag for BokehJS library: \", url);\n",
              "      document.head.appendChild(element);\n",
              "    }\n",
              "    for (let i = 0; i < js_modules.length; i++) {\n",
              "      const url = js_modules[i];\n",
              "      const escaped = encodeURI(url)\n",
              "      if (skip.indexOf(escaped) !== -1 || existing_scripts.indexOf(escaped) !== -1) {\n",
              "        if (!window.requirejs) {\n",
              "          on_load();\n",
              "        }\n",
              "        continue;\n",
              "      }\n",
              "      var element = document.createElement('script');\n",
              "      element.onload = on_load;\n",
              "      element.onerror = on_error;\n",
              "      element.async = false;\n",
              "      element.src = url;\n",
              "      element.type = \"module\";\n",
              "      console.debug(\"Bokeh: injecting script tag for BokehJS library: \", url);\n",
              "      document.head.appendChild(element);\n",
              "    }\n",
              "    for (const name in js_exports) {\n",
              "      const url = js_exports[name];\n",
              "      const escaped = encodeURI(url)\n",
              "      if (skip.indexOf(escaped) >= 0 || root[name] != null) {\n",
              "        if (!window.requirejs) {\n",
              "          on_load();\n",
              "        }\n",
              "        continue;\n",
              "      }\n",
              "      var element = document.createElement('script');\n",
              "      element.onerror = on_error;\n",
              "      element.async = false;\n",
              "      element.type = \"module\";\n",
              "      console.debug(\"Bokeh: injecting script tag for BokehJS library: \", url);\n",
              "      element.textContent = `\n",
              "      import ${name} from \"${url}\"\n",
              "      window.${name} = ${name}\n",
              "      window._bokeh_on_load()\n",
              "      `\n",
              "      document.head.appendChild(element);\n",
              "    }\n",
              "    if (!js_urls.length && !js_modules.length) {\n",
              "      on_load()\n",
              "    }\n",
              "  };\n",
              "\n",
              "  function inject_raw_css(css) {\n",
              "    const element = document.createElement(\"style\");\n",
              "    element.appendChild(document.createTextNode(css));\n",
              "    document.body.appendChild(element);\n",
              "  }\n",
              "\n",
              "  const js_urls = [\"https://cdn.holoviz.org/panel/1.5.4/dist/bundled/reactiveesm/es-module-shims@^1.10.0/dist/es-module-shims.min.js\", \"https://cdn.bokeh.org/bokeh/release/bokeh-3.6.1.min.js\", \"https://cdn.bokeh.org/bokeh/release/bokeh-gl-3.6.1.min.js\", \"https://cdn.bokeh.org/bokeh/release/bokeh-widgets-3.6.1.min.js\", \"https://cdn.bokeh.org/bokeh/release/bokeh-tables-3.6.1.min.js\", \"https://cdn.holoviz.org/panel/1.5.4/dist/panel.min.js\"];\n",
              "  const js_modules = [];\n",
              "  const js_exports = {};\n",
              "  const css_urls = [];\n",
              "  const inline_js = [    function(Bokeh) {\n",
              "      Bokeh.set_log_level(\"info\");\n",
              "    },\n",
              "function(Bokeh) {} // ensure no trailing comma for IE\n",
              "  ];\n",
              "\n",
              "  function run_inline_js() {\n",
              "    if ((root.Bokeh !== undefined) || (force === true)) {\n",
              "      for (let i = 0; i < inline_js.length; i++) {\n",
              "        try {\n",
              "          inline_js[i].call(root, root.Bokeh);\n",
              "        } catch(e) {\n",
              "          if (!reloading) {\n",
              "            throw e;\n",
              "          }\n",
              "        }\n",
              "      }\n",
              "      // Cache old bokeh versions\n",
              "      if (Bokeh != undefined && !reloading) {\n",
              "        var NewBokeh = root.Bokeh;\n",
              "        if (Bokeh.versions === undefined) {\n",
              "          Bokeh.versions = new Map();\n",
              "        }\n",
              "        if (NewBokeh.version !== Bokeh.version) {\n",
              "          Bokeh.versions.set(NewBokeh.version, NewBokeh)\n",
              "        }\n",
              "        root.Bokeh = Bokeh;\n",
              "      }\n",
              "    } else if (Date.now() < root._bokeh_timeout) {\n",
              "      setTimeout(run_inline_js, 100);\n",
              "    } else if (!root._bokeh_failed_load) {\n",
              "      console.log(\"Bokeh: BokehJS failed to load within specified timeout.\");\n",
              "      root._bokeh_failed_load = true;\n",
              "    }\n",
              "    root._bokeh_is_initializing = false\n",
              "  }\n",
              "\n",
              "  function load_or_wait() {\n",
              "    // Implement a backoff loop that tries to ensure we do not load multiple\n",
              "    // versions of Bokeh and its dependencies at the same time.\n",
              "    // In recent versions we use the root._bokeh_is_initializing flag\n",
              "    // to determine whether there is an ongoing attempt to initialize\n",
              "    // bokeh, however for backward compatibility we also try to ensure\n",
              "    // that we do not start loading a newer (Panel>=1.0 and Bokeh>3) version\n",
              "    // before older versions are fully initialized.\n",
              "    if (root._bokeh_is_initializing && Date.now() > root._bokeh_timeout) {\n",
              "      // If the timeout and bokeh was not successfully loaded we reset\n",
              "      // everything and try loading again\n",
              "      root._bokeh_timeout = Date.now() + 5000;\n",
              "      root._bokeh_is_initializing = false;\n",
              "      root._bokeh_onload_callbacks = undefined;\n",
              "      root._bokeh_is_loading = 0\n",
              "      console.log(\"Bokeh: BokehJS was loaded multiple times but one version failed to initialize.\");\n",
              "      load_or_wait();\n",
              "    } else if (root._bokeh_is_initializing || (typeof root._bokeh_is_initializing === \"undefined\" && root._bokeh_onload_callbacks !== undefined)) {\n",
              "      setTimeout(load_or_wait, 100);\n",
              "    } else {\n",
              "      root._bokeh_is_initializing = true\n",
              "      root._bokeh_onload_callbacks = []\n",
              "      const bokeh_loaded = root.Bokeh != null && (root.Bokeh.version === py_version || (root.Bokeh.versions !== undefined && root.Bokeh.versions.has(py_version)));\n",
              "      if (!reloading && !bokeh_loaded) {\n",
              "        if (root.Bokeh) {\n",
              "          root.Bokeh = undefined;\n",
              "        }\n",
              "        console.debug(\"Bokeh: BokehJS not loaded, scheduling load and callback at\", now());\n",
              "      }\n",
              "      load_libs(css_urls, js_urls, js_modules, js_exports, function() {\n",
              "        console.debug(\"Bokeh: BokehJS plotting callback run at\", now());\n",
              "        run_inline_js();\n",
              "      });\n",
              "    }\n",
              "  }\n",
              "  // Give older versions of the autoload script a head-start to ensure\n",
              "  // they initialize before we start loading newer version.\n",
              "  setTimeout(load_or_wait, 100)\n",
              "}(window));"
            ],
            "application/vnd.holoviews_load.v0+json": "(function(root) {\n  function now() {\n    return new Date();\n  }\n\n  const force = true;\n  const py_version = '3.6.1'.replace('rc', '-rc.').replace('.dev', '-dev.');\n  const reloading = false;\n  const Bokeh = root.Bokeh;\n\n  // Set a timeout for this load but only if we are not already initializing\n  if (typeof (root._bokeh_timeout) === \"undefined\" || (force || !root._bokeh_is_initializing)) {\n    root._bokeh_timeout = Date.now() + 5000;\n    root._bokeh_failed_load = false;\n  }\n\n  function run_callbacks() {\n    try {\n      root._bokeh_onload_callbacks.forEach(function(callback) {\n        if (callback != null)\n          callback();\n      });\n    } finally {\n      delete root._bokeh_onload_callbacks;\n    }\n    console.debug(\"Bokeh: all callbacks have finished\");\n  }\n\n  function load_libs(css_urls, js_urls, js_modules, js_exports, callback) {\n    if (css_urls == null) css_urls = [];\n    if (js_urls == null) js_urls = [];\n    if (js_modules == null) js_modules = [];\n    if (js_exports == null) js_exports = {};\n\n    root._bokeh_onload_callbacks.push(callback);\n\n    if (root._bokeh_is_loading > 0) {\n      // Don't load bokeh if it is still initializing\n      console.debug(\"Bokeh: BokehJS is being loaded, scheduling callback at\", now());\n      return null;\n    } else if (js_urls.length === 0 && js_modules.length === 0 && Object.keys(js_exports).length === 0) {\n      // There is nothing to load\n      run_callbacks();\n      return null;\n    }\n\n    function on_load() {\n      root._bokeh_is_loading--;\n      if (root._bokeh_is_loading === 0) {\n        console.debug(\"Bokeh: all BokehJS libraries/stylesheets loaded\");\n        run_callbacks()\n      }\n    }\n    window._bokeh_on_load = on_load\n\n    function on_error(e) {\n      const src_el = e.srcElement\n      console.error(\"failed to load \" + (src_el.href || src_el.src));\n    }\n\n    const skip = [];\n    if (window.requirejs) {\n      window.requirejs.config({'packages': {}, 'paths': {}, 'shim': {}});\n      root._bokeh_is_loading = css_urls.length + 0;\n    } else {\n      root._bokeh_is_loading = css_urls.length + js_urls.length + js_modules.length + Object.keys(js_exports).length;\n    }\n\n    const existing_stylesheets = []\n    const links = document.getElementsByTagName('link')\n    for (let i = 0; i < links.length; i++) {\n      const link = links[i]\n      if (link.href != null) {\n        existing_stylesheets.push(link.href)\n      }\n    }\n    for (let i = 0; i < css_urls.length; i++) {\n      const url = css_urls[i];\n      const escaped = encodeURI(url)\n      if (existing_stylesheets.indexOf(escaped) !== -1) {\n        on_load()\n        continue;\n      }\n      const element = document.createElement(\"link\");\n      element.onload = on_load;\n      element.onerror = on_error;\n      element.rel = \"stylesheet\";\n      element.type = \"text/css\";\n      element.href = url;\n      console.debug(\"Bokeh: injecting link tag for BokehJS stylesheet: \", url);\n      document.body.appendChild(element);\n    }    var existing_scripts = []\n    const scripts = document.getElementsByTagName('script')\n    for (let i = 0; i < scripts.length; i++) {\n      var script = scripts[i]\n      if (script.src != null) {\n        existing_scripts.push(script.src)\n      }\n    }\n    for (let i = 0; i < js_urls.length; i++) {\n      const url = js_urls[i];\n      const escaped = encodeURI(url)\n      if (skip.indexOf(escaped) !== -1 || existing_scripts.indexOf(escaped) !== -1) {\n        if (!window.requirejs) {\n          on_load();\n        }\n        continue;\n      }\n      const element = document.createElement('script');\n      element.onload = on_load;\n      element.onerror = on_error;\n      element.async = false;\n      element.src = url;\n      console.debug(\"Bokeh: injecting script tag for BokehJS library: \", url);\n      document.head.appendChild(element);\n    }\n    for (let i = 0; i < js_modules.length; i++) {\n      const url = js_modules[i];\n      const escaped = encodeURI(url)\n      if (skip.indexOf(escaped) !== -1 || existing_scripts.indexOf(escaped) !== -1) {\n        if (!window.requirejs) {\n          on_load();\n        }\n        continue;\n      }\n      var element = document.createElement('script');\n      element.onload = on_load;\n      element.onerror = on_error;\n      element.async = false;\n      element.src = url;\n      element.type = \"module\";\n      console.debug(\"Bokeh: injecting script tag for BokehJS library: \", url);\n      document.head.appendChild(element);\n    }\n    for (const name in js_exports) {\n      const url = js_exports[name];\n      const escaped = encodeURI(url)\n      if (skip.indexOf(escaped) >= 0 || root[name] != null) {\n        if (!window.requirejs) {\n          on_load();\n        }\n        continue;\n      }\n      var element = document.createElement('script');\n      element.onerror = on_error;\n      element.async = false;\n      element.type = \"module\";\n      console.debug(\"Bokeh: injecting script tag for BokehJS library: \", url);\n      element.textContent = `\n      import ${name} from \"${url}\"\n      window.${name} = ${name}\n      window._bokeh_on_load()\n      `\n      document.head.appendChild(element);\n    }\n    if (!js_urls.length && !js_modules.length) {\n      on_load()\n    }\n  };\n\n  function inject_raw_css(css) {\n    const element = document.createElement(\"style\");\n    element.appendChild(document.createTextNode(css));\n    document.body.appendChild(element);\n  }\n\n  const js_urls = [\"https://cdn.holoviz.org/panel/1.5.4/dist/bundled/reactiveesm/es-module-shims@^1.10.0/dist/es-module-shims.min.js\", \"https://cdn.bokeh.org/bokeh/release/bokeh-3.6.1.min.js\", \"https://cdn.bokeh.org/bokeh/release/bokeh-gl-3.6.1.min.js\", \"https://cdn.bokeh.org/bokeh/release/bokeh-widgets-3.6.1.min.js\", \"https://cdn.bokeh.org/bokeh/release/bokeh-tables-3.6.1.min.js\", \"https://cdn.holoviz.org/panel/1.5.4/dist/panel.min.js\"];\n  const js_modules = [];\n  const js_exports = {};\n  const css_urls = [];\n  const inline_js = [    function(Bokeh) {\n      Bokeh.set_log_level(\"info\");\n    },\nfunction(Bokeh) {} // ensure no trailing comma for IE\n  ];\n\n  function run_inline_js() {\n    if ((root.Bokeh !== undefined) || (force === true)) {\n      for (let i = 0; i < inline_js.length; i++) {\n        try {\n          inline_js[i].call(root, root.Bokeh);\n        } catch(e) {\n          if (!reloading) {\n            throw e;\n          }\n        }\n      }\n      // Cache old bokeh versions\n      if (Bokeh != undefined && !reloading) {\n        var NewBokeh = root.Bokeh;\n        if (Bokeh.versions === undefined) {\n          Bokeh.versions = new Map();\n        }\n        if (NewBokeh.version !== Bokeh.version) {\n          Bokeh.versions.set(NewBokeh.version, NewBokeh)\n        }\n        root.Bokeh = Bokeh;\n      }\n    } else if (Date.now() < root._bokeh_timeout) {\n      setTimeout(run_inline_js, 100);\n    } else if (!root._bokeh_failed_load) {\n      console.log(\"Bokeh: BokehJS failed to load within specified timeout.\");\n      root._bokeh_failed_load = true;\n    }\n    root._bokeh_is_initializing = false\n  }\n\n  function load_or_wait() {\n    // Implement a backoff loop that tries to ensure we do not load multiple\n    // versions of Bokeh and its dependencies at the same time.\n    // In recent versions we use the root._bokeh_is_initializing flag\n    // to determine whether there is an ongoing attempt to initialize\n    // bokeh, however for backward compatibility we also try to ensure\n    // that we do not start loading a newer (Panel>=1.0 and Bokeh>3) version\n    // before older versions are fully initialized.\n    if (root._bokeh_is_initializing && Date.now() > root._bokeh_timeout) {\n      // If the timeout and bokeh was not successfully loaded we reset\n      // everything and try loading again\n      root._bokeh_timeout = Date.now() + 5000;\n      root._bokeh_is_initializing = false;\n      root._bokeh_onload_callbacks = undefined;\n      root._bokeh_is_loading = 0\n      console.log(\"Bokeh: BokehJS was loaded multiple times but one version failed to initialize.\");\n      load_or_wait();\n    } else if (root._bokeh_is_initializing || (typeof root._bokeh_is_initializing === \"undefined\" && root._bokeh_onload_callbacks !== undefined)) {\n      setTimeout(load_or_wait, 100);\n    } else {\n      root._bokeh_is_initializing = true\n      root._bokeh_onload_callbacks = []\n      const bokeh_loaded = root.Bokeh != null && (root.Bokeh.version === py_version || (root.Bokeh.versions !== undefined && root.Bokeh.versions.has(py_version)));\n      if (!reloading && !bokeh_loaded) {\n        if (root.Bokeh) {\n          root.Bokeh = undefined;\n        }\n        console.debug(\"Bokeh: BokehJS not loaded, scheduling load and callback at\", now());\n      }\n      load_libs(css_urls, js_urls, js_modules, js_exports, function() {\n        console.debug(\"Bokeh: BokehJS plotting callback run at\", now());\n        run_inline_js();\n      });\n    }\n  }\n  // Give older versions of the autoload script a head-start to ensure\n  // they initialize before we start loading newer version.\n  setTimeout(load_or_wait, 100)\n}(window));"
          },
          "metadata": {}
        },
        {
          "output_type": "display_data",
          "data": {
            "application/vnd.holoviews_load.v0+json": "\nif ((window.PyViz === undefined) || (window.PyViz instanceof HTMLElement)) {\n  window.PyViz = {comms: {}, comm_status:{}, kernels:{}, receivers: {}, plot_index: []}\n}\n\n\n    function JupyterCommManager() {\n    }\n\n    JupyterCommManager.prototype.register_target = function(plot_id, comm_id, msg_handler) {\n      if (window.comm_manager || ((window.Jupyter !== undefined) && (Jupyter.notebook.kernel != null))) {\n        var comm_manager = window.comm_manager || Jupyter.notebook.kernel.comm_manager;\n        comm_manager.register_target(comm_id, function(comm) {\n          comm.on_msg(msg_handler);\n        });\n      } else if ((plot_id in window.PyViz.kernels) && (window.PyViz.kernels[plot_id])) {\n        window.PyViz.kernels[plot_id].registerCommTarget(comm_id, function(comm) {\n          comm.onMsg = msg_handler;\n        });\n      } else if (typeof google != 'undefined' && google.colab.kernel != null) {\n        google.colab.kernel.comms.registerTarget(comm_id, (comm) => {\n          var messages = comm.messages[Symbol.asyncIterator]();\n          function processIteratorResult(result) {\n            var message = result.value;\n            console.log(message)\n            var content = {data: message.data, comm_id};\n            var buffers = []\n            for (var buffer of message.buffers || []) {\n              buffers.push(new DataView(buffer))\n            }\n            var metadata = message.metadata || {};\n            var msg = {content, buffers, metadata}\n            msg_handler(msg);\n            return messages.next().then(processIteratorResult);\n          }\n          return messages.next().then(processIteratorResult);\n        })\n      }\n    }\n\n    JupyterCommManager.prototype.get_client_comm = function(plot_id, comm_id, msg_handler) {\n      if (comm_id in window.PyViz.comms) {\n        return window.PyViz.comms[comm_id];\n      } else if (window.comm_manager || ((window.Jupyter !== undefined) && (Jupyter.notebook.kernel != null))) {\n        var comm_manager = window.comm_manager || Jupyter.notebook.kernel.comm_manager;\n        var comm = comm_manager.new_comm(comm_id, {}, {}, {}, comm_id);\n        if (msg_handler) {\n          comm.on_msg(msg_handler);\n        }\n      } else if ((plot_id in window.PyViz.kernels) && (window.PyViz.kernels[plot_id])) {\n        var comm = window.PyViz.kernels[plot_id].connectToComm(comm_id);\n        comm.open();\n        if (msg_handler) {\n          comm.onMsg = msg_handler;\n        }\n      } else if (typeof google != 'undefined' && google.colab.kernel != null) {\n        var comm_promise = google.colab.kernel.comms.open(comm_id)\n        comm_promise.then((comm) => {\n          window.PyViz.comms[comm_id] = comm;\n          if (msg_handler) {\n            var messages = comm.messages[Symbol.asyncIterator]();\n            function processIteratorResult(result) {\n              var message = result.value;\n              var content = {data: message.data};\n              var metadata = message.metadata || {comm_id};\n              var msg = {content, metadata}\n              msg_handler(msg);\n              return messages.next().then(processIteratorResult);\n            }\n            return messages.next().then(processIteratorResult);\n          }\n        }) \n        var sendClosure = (data, metadata, buffers, disposeOnDone) => {\n          return comm_promise.then((comm) => {\n            comm.send(data, metadata, buffers, disposeOnDone);\n          });\n        };\n        var comm = {\n          send: sendClosure\n        };\n      }\n      window.PyViz.comms[comm_id] = comm;\n      return comm;\n    }\n    window.PyViz.comm_manager = new JupyterCommManager();\n    \n\n\nvar JS_MIME_TYPE = 'application/javascript';\nvar HTML_MIME_TYPE = 'text/html';\nvar EXEC_MIME_TYPE = 'application/vnd.holoviews_exec.v0+json';\nvar CLASS_NAME = 'output';\n\n/**\n * Render data to the DOM node\n */\nfunction render(props, node) {\n  var div = document.createElement(\"div\");\n  var script = document.createElement(\"script\");\n  node.appendChild(div);\n  node.appendChild(script);\n}\n\n/**\n * Handle when a new output is added\n */\nfunction handle_add_output(event, handle) {\n  var output_area = handle.output_area;\n  var output = handle.output;\n  if ((output.data == undefined) || (!output.data.hasOwnProperty(EXEC_MIME_TYPE))) {\n    return\n  }\n  var id = output.metadata[EXEC_MIME_TYPE][\"id\"];\n  var toinsert = output_area.element.find(\".\" + CLASS_NAME.split(' ')[0]);\n  if (id !== undefined) {\n    var nchildren = toinsert.length;\n    var html_node = toinsert[nchildren-1].children[0];\n    html_node.innerHTML = output.data[HTML_MIME_TYPE];\n    var scripts = [];\n    var nodelist = html_node.querySelectorAll(\"script\");\n    for (var i in nodelist) {\n      if (nodelist.hasOwnProperty(i)) {\n        scripts.push(nodelist[i])\n      }\n    }\n\n    scripts.forEach( function (oldScript) {\n      var newScript = document.createElement(\"script\");\n      var attrs = [];\n      var nodemap = oldScript.attributes;\n      for (var j in nodemap) {\n        if (nodemap.hasOwnProperty(j)) {\n          attrs.push(nodemap[j])\n        }\n      }\n      attrs.forEach(function(attr) { newScript.setAttribute(attr.name, attr.value) });\n      newScript.appendChild(document.createTextNode(oldScript.innerHTML));\n      oldScript.parentNode.replaceChild(newScript, oldScript);\n    });\n    if (JS_MIME_TYPE in output.data) {\n      toinsert[nchildren-1].children[1].textContent = output.data[JS_MIME_TYPE];\n    }\n    output_area._hv_plot_id = id;\n    if ((window.Bokeh !== undefined) && (id in Bokeh.index)) {\n      window.PyViz.plot_index[id] = Bokeh.index[id];\n    } else {\n      window.PyViz.plot_index[id] = null;\n    }\n  } else if (output.metadata[EXEC_MIME_TYPE][\"server_id\"] !== undefined) {\n    var bk_div = document.createElement(\"div\");\n    bk_div.innerHTML = output.data[HTML_MIME_TYPE];\n    var script_attrs = bk_div.children[0].attributes;\n    for (var i = 0; i < script_attrs.length; i++) {\n      toinsert[toinsert.length - 1].childNodes[1].setAttribute(script_attrs[i].name, script_attrs[i].value);\n    }\n    // store reference to server id on output_area\n    output_area._bokeh_server_id = output.metadata[EXEC_MIME_TYPE][\"server_id\"];\n  }\n}\n\n/**\n * Handle when an output is cleared or removed\n */\nfunction handle_clear_output(event, handle) {\n  var id = handle.cell.output_area._hv_plot_id;\n  var server_id = handle.cell.output_area._bokeh_server_id;\n  if (((id === undefined) || !(id in PyViz.plot_index)) && (server_id !== undefined)) { return; }\n  var comm = window.PyViz.comm_manager.get_client_comm(\"hv-extension-comm\", \"hv-extension-comm\", function () {});\n  if (server_id !== null) {\n    comm.send({event_type: 'server_delete', 'id': server_id});\n    return;\n  } else if (comm !== null) {\n    comm.send({event_type: 'delete', 'id': id});\n  }\n  delete PyViz.plot_index[id];\n  if ((window.Bokeh !== undefined) & (id in window.Bokeh.index)) {\n    var doc = window.Bokeh.index[id].model.document\n    doc.clear();\n    const i = window.Bokeh.documents.indexOf(doc);\n    if (i > -1) {\n      window.Bokeh.documents.splice(i, 1);\n    }\n  }\n}\n\n/**\n * Handle kernel restart event\n */\nfunction handle_kernel_cleanup(event, handle) {\n  delete PyViz.comms[\"hv-extension-comm\"];\n  window.PyViz.plot_index = {}\n}\n\n/**\n * Handle update_display_data messages\n */\nfunction handle_update_output(event, handle) {\n  handle_clear_output(event, {cell: {output_area: handle.output_area}})\n  handle_add_output(event, handle)\n}\n\nfunction register_renderer(events, OutputArea) {\n  function append_mime(data, metadata, element) {\n    // create a DOM node to render to\n    var toinsert = this.create_output_subarea(\n    metadata,\n    CLASS_NAME,\n    EXEC_MIME_TYPE\n    );\n    this.keyboard_manager.register_events(toinsert);\n    // Render to node\n    var props = {data: data, metadata: metadata[EXEC_MIME_TYPE]};\n    render(props, toinsert[0]);\n    element.append(toinsert);\n    return toinsert\n  }\n\n  events.on('output_added.OutputArea', handle_add_output);\n  events.on('output_updated.OutputArea', handle_update_output);\n  events.on('clear_output.CodeCell', handle_clear_output);\n  events.on('delete.Cell', handle_clear_output);\n  events.on('kernel_ready.Kernel', handle_kernel_cleanup);\n\n  OutputArea.prototype.register_mime_type(EXEC_MIME_TYPE, append_mime, {\n    safe: true,\n    index: 0\n  });\n}\n\nif (window.Jupyter !== undefined) {\n  try {\n    var events = require('base/js/events');\n    var OutputArea = require('notebook/js/outputarea').OutputArea;\n    if (OutputArea.prototype.mime_types().indexOf(EXEC_MIME_TYPE) == -1) {\n      register_renderer(events, OutputArea);\n    }\n  } catch(err) {\n  }\n}\n",
            "application/javascript": [
              "\n",
              "if ((window.PyViz === undefined) || (window.PyViz instanceof HTMLElement)) {\n",
              "  window.PyViz = {comms: {}, comm_status:{}, kernels:{}, receivers: {}, plot_index: []}\n",
              "}\n",
              "\n",
              "\n",
              "    function JupyterCommManager() {\n",
              "    }\n",
              "\n",
              "    JupyterCommManager.prototype.register_target = function(plot_id, comm_id, msg_handler) {\n",
              "      if (window.comm_manager || ((window.Jupyter !== undefined) && (Jupyter.notebook.kernel != null))) {\n",
              "        var comm_manager = window.comm_manager || Jupyter.notebook.kernel.comm_manager;\n",
              "        comm_manager.register_target(comm_id, function(comm) {\n",
              "          comm.on_msg(msg_handler);\n",
              "        });\n",
              "      } else if ((plot_id in window.PyViz.kernels) && (window.PyViz.kernels[plot_id])) {\n",
              "        window.PyViz.kernels[plot_id].registerCommTarget(comm_id, function(comm) {\n",
              "          comm.onMsg = msg_handler;\n",
              "        });\n",
              "      } else if (typeof google != 'undefined' && google.colab.kernel != null) {\n",
              "        google.colab.kernel.comms.registerTarget(comm_id, (comm) => {\n",
              "          var messages = comm.messages[Symbol.asyncIterator]();\n",
              "          function processIteratorResult(result) {\n",
              "            var message = result.value;\n",
              "            console.log(message)\n",
              "            var content = {data: message.data, comm_id};\n",
              "            var buffers = []\n",
              "            for (var buffer of message.buffers || []) {\n",
              "              buffers.push(new DataView(buffer))\n",
              "            }\n",
              "            var metadata = message.metadata || {};\n",
              "            var msg = {content, buffers, metadata}\n",
              "            msg_handler(msg);\n",
              "            return messages.next().then(processIteratorResult);\n",
              "          }\n",
              "          return messages.next().then(processIteratorResult);\n",
              "        })\n",
              "      }\n",
              "    }\n",
              "\n",
              "    JupyterCommManager.prototype.get_client_comm = function(plot_id, comm_id, msg_handler) {\n",
              "      if (comm_id in window.PyViz.comms) {\n",
              "        return window.PyViz.comms[comm_id];\n",
              "      } else if (window.comm_manager || ((window.Jupyter !== undefined) && (Jupyter.notebook.kernel != null))) {\n",
              "        var comm_manager = window.comm_manager || Jupyter.notebook.kernel.comm_manager;\n",
              "        var comm = comm_manager.new_comm(comm_id, {}, {}, {}, comm_id);\n",
              "        if (msg_handler) {\n",
              "          comm.on_msg(msg_handler);\n",
              "        }\n",
              "      } else if ((plot_id in window.PyViz.kernels) && (window.PyViz.kernels[plot_id])) {\n",
              "        var comm = window.PyViz.kernels[plot_id].connectToComm(comm_id);\n",
              "        comm.open();\n",
              "        if (msg_handler) {\n",
              "          comm.onMsg = msg_handler;\n",
              "        }\n",
              "      } else if (typeof google != 'undefined' && google.colab.kernel != null) {\n",
              "        var comm_promise = google.colab.kernel.comms.open(comm_id)\n",
              "        comm_promise.then((comm) => {\n",
              "          window.PyViz.comms[comm_id] = comm;\n",
              "          if (msg_handler) {\n",
              "            var messages = comm.messages[Symbol.asyncIterator]();\n",
              "            function processIteratorResult(result) {\n",
              "              var message = result.value;\n",
              "              var content = {data: message.data};\n",
              "              var metadata = message.metadata || {comm_id};\n",
              "              var msg = {content, metadata}\n",
              "              msg_handler(msg);\n",
              "              return messages.next().then(processIteratorResult);\n",
              "            }\n",
              "            return messages.next().then(processIteratorResult);\n",
              "          }\n",
              "        }) \n",
              "        var sendClosure = (data, metadata, buffers, disposeOnDone) => {\n",
              "          return comm_promise.then((comm) => {\n",
              "            comm.send(data, metadata, buffers, disposeOnDone);\n",
              "          });\n",
              "        };\n",
              "        var comm = {\n",
              "          send: sendClosure\n",
              "        };\n",
              "      }\n",
              "      window.PyViz.comms[comm_id] = comm;\n",
              "      return comm;\n",
              "    }\n",
              "    window.PyViz.comm_manager = new JupyterCommManager();\n",
              "    \n",
              "\n",
              "\n",
              "var JS_MIME_TYPE = 'application/javascript';\n",
              "var HTML_MIME_TYPE = 'text/html';\n",
              "var EXEC_MIME_TYPE = 'application/vnd.holoviews_exec.v0+json';\n",
              "var CLASS_NAME = 'output';\n",
              "\n",
              "/**\n",
              " * Render data to the DOM node\n",
              " */\n",
              "function render(props, node) {\n",
              "  var div = document.createElement(\"div\");\n",
              "  var script = document.createElement(\"script\");\n",
              "  node.appendChild(div);\n",
              "  node.appendChild(script);\n",
              "}\n",
              "\n",
              "/**\n",
              " * Handle when a new output is added\n",
              " */\n",
              "function handle_add_output(event, handle) {\n",
              "  var output_area = handle.output_area;\n",
              "  var output = handle.output;\n",
              "  if ((output.data == undefined) || (!output.data.hasOwnProperty(EXEC_MIME_TYPE))) {\n",
              "    return\n",
              "  }\n",
              "  var id = output.metadata[EXEC_MIME_TYPE][\"id\"];\n",
              "  var toinsert = output_area.element.find(\".\" + CLASS_NAME.split(' ')[0]);\n",
              "  if (id !== undefined) {\n",
              "    var nchildren = toinsert.length;\n",
              "    var html_node = toinsert[nchildren-1].children[0];\n",
              "    html_node.innerHTML = output.data[HTML_MIME_TYPE];\n",
              "    var scripts = [];\n",
              "    var nodelist = html_node.querySelectorAll(\"script\");\n",
              "    for (var i in nodelist) {\n",
              "      if (nodelist.hasOwnProperty(i)) {\n",
              "        scripts.push(nodelist[i])\n",
              "      }\n",
              "    }\n",
              "\n",
              "    scripts.forEach( function (oldScript) {\n",
              "      var newScript = document.createElement(\"script\");\n",
              "      var attrs = [];\n",
              "      var nodemap = oldScript.attributes;\n",
              "      for (var j in nodemap) {\n",
              "        if (nodemap.hasOwnProperty(j)) {\n",
              "          attrs.push(nodemap[j])\n",
              "        }\n",
              "      }\n",
              "      attrs.forEach(function(attr) { newScript.setAttribute(attr.name, attr.value) });\n",
              "      newScript.appendChild(document.createTextNode(oldScript.innerHTML));\n",
              "      oldScript.parentNode.replaceChild(newScript, oldScript);\n",
              "    });\n",
              "    if (JS_MIME_TYPE in output.data) {\n",
              "      toinsert[nchildren-1].children[1].textContent = output.data[JS_MIME_TYPE];\n",
              "    }\n",
              "    output_area._hv_plot_id = id;\n",
              "    if ((window.Bokeh !== undefined) && (id in Bokeh.index)) {\n",
              "      window.PyViz.plot_index[id] = Bokeh.index[id];\n",
              "    } else {\n",
              "      window.PyViz.plot_index[id] = null;\n",
              "    }\n",
              "  } else if (output.metadata[EXEC_MIME_TYPE][\"server_id\"] !== undefined) {\n",
              "    var bk_div = document.createElement(\"div\");\n",
              "    bk_div.innerHTML = output.data[HTML_MIME_TYPE];\n",
              "    var script_attrs = bk_div.children[0].attributes;\n",
              "    for (var i = 0; i < script_attrs.length; i++) {\n",
              "      toinsert[toinsert.length - 1].childNodes[1].setAttribute(script_attrs[i].name, script_attrs[i].value);\n",
              "    }\n",
              "    // store reference to server id on output_area\n",
              "    output_area._bokeh_server_id = output.metadata[EXEC_MIME_TYPE][\"server_id\"];\n",
              "  }\n",
              "}\n",
              "\n",
              "/**\n",
              " * Handle when an output is cleared or removed\n",
              " */\n",
              "function handle_clear_output(event, handle) {\n",
              "  var id = handle.cell.output_area._hv_plot_id;\n",
              "  var server_id = handle.cell.output_area._bokeh_server_id;\n",
              "  if (((id === undefined) || !(id in PyViz.plot_index)) && (server_id !== undefined)) { return; }\n",
              "  var comm = window.PyViz.comm_manager.get_client_comm(\"hv-extension-comm\", \"hv-extension-comm\", function () {});\n",
              "  if (server_id !== null) {\n",
              "    comm.send({event_type: 'server_delete', 'id': server_id});\n",
              "    return;\n",
              "  } else if (comm !== null) {\n",
              "    comm.send({event_type: 'delete', 'id': id});\n",
              "  }\n",
              "  delete PyViz.plot_index[id];\n",
              "  if ((window.Bokeh !== undefined) & (id in window.Bokeh.index)) {\n",
              "    var doc = window.Bokeh.index[id].model.document\n",
              "    doc.clear();\n",
              "    const i = window.Bokeh.documents.indexOf(doc);\n",
              "    if (i > -1) {\n",
              "      window.Bokeh.documents.splice(i, 1);\n",
              "    }\n",
              "  }\n",
              "}\n",
              "\n",
              "/**\n",
              " * Handle kernel restart event\n",
              " */\n",
              "function handle_kernel_cleanup(event, handle) {\n",
              "  delete PyViz.comms[\"hv-extension-comm\"];\n",
              "  window.PyViz.plot_index = {}\n",
              "}\n",
              "\n",
              "/**\n",
              " * Handle update_display_data messages\n",
              " */\n",
              "function handle_update_output(event, handle) {\n",
              "  handle_clear_output(event, {cell: {output_area: handle.output_area}})\n",
              "  handle_add_output(event, handle)\n",
              "}\n",
              "\n",
              "function register_renderer(events, OutputArea) {\n",
              "  function append_mime(data, metadata, element) {\n",
              "    // create a DOM node to render to\n",
              "    var toinsert = this.create_output_subarea(\n",
              "    metadata,\n",
              "    CLASS_NAME,\n",
              "    EXEC_MIME_TYPE\n",
              "    );\n",
              "    this.keyboard_manager.register_events(toinsert);\n",
              "    // Render to node\n",
              "    var props = {data: data, metadata: metadata[EXEC_MIME_TYPE]};\n",
              "    render(props, toinsert[0]);\n",
              "    element.append(toinsert);\n",
              "    return toinsert\n",
              "  }\n",
              "\n",
              "  events.on('output_added.OutputArea', handle_add_output);\n",
              "  events.on('output_updated.OutputArea', handle_update_output);\n",
              "  events.on('clear_output.CodeCell', handle_clear_output);\n",
              "  events.on('delete.Cell', handle_clear_output);\n",
              "  events.on('kernel_ready.Kernel', handle_kernel_cleanup);\n",
              "\n",
              "  OutputArea.prototype.register_mime_type(EXEC_MIME_TYPE, append_mime, {\n",
              "    safe: true,\n",
              "    index: 0\n",
              "  });\n",
              "}\n",
              "\n",
              "if (window.Jupyter !== undefined) {\n",
              "  try {\n",
              "    var events = require('base/js/events');\n",
              "    var OutputArea = require('notebook/js/outputarea').OutputArea;\n",
              "    if (OutputArea.prototype.mime_types().indexOf(EXEC_MIME_TYPE) == -1) {\n",
              "      register_renderer(events, OutputArea);\n",
              "    }\n",
              "  } catch(err) {\n",
              "  }\n",
              "}\n"
            ]
          },
          "metadata": {}
        },
        {
          "output_type": "display_data",
          "data": {},
          "metadata": {}
        },
        {
          "output_type": "execute_result",
          "data": {
            "text/html": [
              "<div id='9850b0d2-4d55-48c4-b07a-5d2c8ba45184'>\n",
              "  <div id=\"cc0dedbd-9f59-48d4-8881-e3cd842fe4ac\" data-root-id=\"9850b0d2-4d55-48c4-b07a-5d2c8ba45184\" style=\"display: contents;\"></div>\n",
              "</div>\n",
              "<script type=\"application/javascript\">(function(root) {\n",
              "  var docs_json = {\"1c384dfb-aef6-43b2-9ea3-50f981eded29\":{\"version\":\"3.6.1\",\"title\":\"Bokeh Application\",\"roots\":[{\"type\":\"object\",\"name\":\"Row\",\"id\":\"9850b0d2-4d55-48c4-b07a-5d2c8ba45184\",\"attributes\":{\"name\":\"Row00128\",\"stylesheets\":[\"\\n:host(.pn-loading):before, .pn-loading:before {\\n  background-color: #c3c3c3;\\n  mask-size: auto calc(min(50%, 400px));\\n  -webkit-mask-size: auto calc(min(50%, 400px));\\n}\",{\"type\":\"object\",\"name\":\"ImportedStyleSheet\",\"id\":\"33d395df-c14b-4cca-b4e1-9325005f283f\",\"attributes\":{\"url\":\"https://cdn.holoviz.org/panel/1.5.4/dist/css/loading.css\"}},{\"type\":\"object\",\"name\":\"ImportedStyleSheet\",\"id\":\"55060b62-0d08-4a09-9978-630749ec1819\",\"attributes\":{\"url\":\"https://cdn.holoviz.org/panel/1.5.4/dist/css/listpanel.css\"}},{\"type\":\"object\",\"name\":\"ImportedStyleSheet\",\"id\":\"5386db01-f557-42e1-b180-12930106796e\",\"attributes\":{\"url\":\"https://cdn.holoviz.org/panel/1.5.4/dist/bundled/theme/default.css\"}},{\"type\":\"object\",\"name\":\"ImportedStyleSheet\",\"id\":\"4a116a6e-a4ea-4d56-9a7e-dc8db021d007\",\"attributes\":{\"url\":\"https://cdn.holoviz.org/panel/1.5.4/dist/bundled/theme/native.css\"}}],\"margin\":0,\"align\":\"start\",\"children\":[{\"type\":\"object\",\"name\":\"GridPlot\",\"id\":\"63f69014-efb1-4a24-8790-43eb55ada392\",\"attributes\":{\"rows\":null,\"cols\":null,\"toolbar\":{\"type\":\"object\",\"name\":\"Toolbar\",\"id\":\"47aebe4d-bb90-4c87-9126-07566e5d7f46\",\"attributes\":{\"tools\":[{\"type\":\"object\",\"name\":\"ToolProxy\",\"id\":\"eba6fa7a-7383-4053-8fc6-4e8fc7113409\",\"attributes\":{\"tools\":[{\"type\":\"object\",\"name\":\"PanTool\",\"id\":\"bab94ca1-101e-4aa8-85a6-e6bd71f12b58\",\"attributes\":{\"dimensions\":\"width\"}}]}},{\"type\":\"object\",\"name\":\"ToolProxy\",\"id\":\"ca9a1fef-4ad7-4f4e-9587-51002c6c7bce\",\"attributes\":{\"tools\":[{\"type\":\"object\",\"name\":\"ResetTool\",\"id\":\"438b632f-f972-485a-8872-2a4f6b670c41\"}]}}]}},\"toolbar_location\":\"below\",\"children\":[[{\"type\":\"object\",\"name\":\"Figure\",\"id\":\"a0a9ba83-e53c-4b68-868b-3bfd05710976\",\"attributes\":{\"x_range\":{\"type\":\"object\",\"name\":\"Range1d\",\"id\":\"a1f67fa5-68bc-412f-a1ee-ac6102fd44a3\",\"attributes\":{\"end\":33}},\"y_range\":{\"type\":\"object\",\"name\":\"FactorRange\",\"id\":\"031ece33-1b41-4cd1-83d9-7d88a27987ce\",\"attributes\":{\"factors\":[\"seq1_n\",\"seq2_n\",\"seq3_n\"]}},\"x_scale\":{\"type\":\"object\",\"name\":\"LinearScale\",\"id\":\"e61e9003-5ee0-4692-a048-cd621bfc372f\"},\"y_scale\":{\"type\":\"object\",\"name\":\"CategoricalScale\",\"id\":\"5cc5ebeb-b7ef-426c-85ed-27fcc2c6ae9d\"},\"title\":null,\"renderers\":[{\"type\":\"object\",\"name\":\"GlyphRenderer\",\"id\":\"3e768e8c-351a-4dfe-913e-10094417bebe\",\"attributes\":{\"data_source\":{\"type\":\"object\",\"name\":\"ColumnDataSource\",\"id\":\"0af9de1a-eeda-4d01-a08c-cef19eaa4e77\",\"attributes\":{\"selected\":{\"type\":\"object\",\"name\":\"Selection\",\"id\":\"18ca5baf-aa23-4b17-a4b8-022924f42a68\",\"attributes\":{\"indices\":[],\"line_indices\":[]}},\"selection_policy\":{\"type\":\"object\",\"name\":\"UnionRenderers\",\"id\":\"85d111cd-4109-41bc-a838-8d53d469934a\"},\"data\":{\"type\":\"map\",\"entries\":[[\"x\",{\"type\":\"ndarray\",\"array\":{\"type\":\"bytes\",\"data\":\"AAAAAAAA4D8AAAAAAAD4PwAAAAAAAARAAAAAAAAADEAAAAAAAAASQAAAAAAAABZAAAAAAAAAGkAAAAAAAAAeQAAAAAAAACFAAAAAAAAAI0AAAAAAAAAlQAAAAAAAACdAAAAAAAAAKUAAAAAAAAArQAAAAAAAAC1AAAAAAAAAL0AAAAAAAIAwQAAAAAAAgDFAAAAAAACAMkAAAAAAAIAzQAAAAAAAgDRAAAAAAACANUAAAAAAAIA2QAAAAAAAgDdAAAAAAACAOEAAAAAAAIA5QAAAAAAAgDpAAAAAAACAO0AAAAAAAIA8QAAAAAAAgD1AAAAAAACAPkAAAAAAAIA/QAAAAAAAQEBAAAAAAAAA4D8AAAAAAAD4PwAAAAAAAARAAAAAAAAADEAAAAAAAAASQAAAAAAAABZAAAAAAAAAGkAAAAAAAAAeQAAAAAAAACFAAAAAAAAAI0AAAAAAAAAlQAAAAAAAACdAAAAAAAAAKUAAAAAAAAArQAAAAAAAAC1AAAAAAAAAL0AAAAAAAIAwQAAAAAAAgDFAAAAAAACAMkAAAAAAAIAzQAAAAAAAgDRAAAAAAACANUAAAAAAAIA2QAAAAAAAgDdAAAAAAACAOEAAAAAAAIA5QAAAAAAAgDpAAAAAAACAO0AAAAAAAIA8QAAAAAAAgD1AAAAAAACAPkAAAAAAAIA/QAAAAAAAQEBAAAAAAAAA4D8AAAAAAAD4PwAAAAAAAARAAAAAAAAADEAAAAAAAAASQAAAAAAAABZAAAAAAAAAGkAAAAAAAAAeQAAAAAAAACFAAAAAAAAAI0AAAAAAAAAlQAAAAAAAACdAAAAAAAAAKUAAAAAAAAArQAAAAAAAAC1AAAAAAAAAL0AAAAAAAIAwQAAAAAAAgDFAAAAAAACAMkAAAAAAAIAzQAAAAAAAgDRAAAAAAACANUAAAAAAAIA2QAAAAAAAgDdAAAAAAACAOEAAAAAAAIA5QAAAAAAAgDpAAAAAAACAO0AAAAAAAIA8QAAAAAAAgD1AAAAAAACAPkAAAAAAAIA/QAAAAAAAQEBA\"},\"shape\":[99],\"dtype\":\"float64\",\"order\":\"little\"}],[\"y\",{\"type\":\"ndarray\",\"array\":{\"type\":\"bytes\",\"data\":\"AAAAAAAAAAAAAAAAAAAAAAAAAAAAAAAAAAAAAAAAAAAAAAAAAAAAAAAAAAAAAAAAAAAAAAAAAAAAAAAAAAAAAAAAAAAAAAAAAAAAAAAAAAAAAAAAAAAAAAAAAAAAAAAAAAAAAAAAAAAAAAAAAAAAAAAAAAAAAAAAAAAAAAAAAAAAAAAAAQAAAAEAAAABAAAAAQAAAAEAAAABAAAAAQAAAAEAAAABAAAAAQAAAAEAAAABAAAAAQAAAAEAAAABAAAAAQAAAAEAAAABAAAAAQAAAAEAAAABAAAAAQAAAAEAAAABAAAAAQAAAAEAAAABAAAAAQAAAAEAAAABAAAAAQAAAAEAAAABAAAAAgAAAAIAAAACAAAAAgAAAAIAAAACAAAAAgAAAAIAAAACAAAAAgAAAAIAAAACAAAAAgAAAAIAAAACAAAAAgAAAAIAAAACAAAAAgAAAAIAAAACAAAAAgAAAAIAAAACAAAAAgAAAAIAAAACAAAAAgAAAAIAAAACAAAAAgAAAAIAAAACAAAA\"},\"shape\":[99],\"dtype\":\"int32\",\"order\":\"little\"}],[\"recty\",{\"type\":\"ndarray\",\"array\":{\"type\":\"bytes\",\"data\":\"AAAAAAAA4D8AAAAAAADgPwAAAAAAAOA/AAAAAAAA4D8AAAAAAADgPwAAAAAAAOA/AAAAAAAA4D8AAAAAAADgPwAAAAAAAOA/AAAAAAAA4D8AAAAAAADgPwAAAAAAAOA/AAAAAAAA4D8AAAAAAADgPwAAAAAAAOA/AAAAAAAA4D8AAAAAAADgPwAAAAAAAOA/AAAAAAAA4D8AAAAAAADgPwAAAAAAAOA/AAAAAAAA4D8AAAAAAADgPwAAAAAAAOA/AAAAAAAA4D8AAAAAAADgPwAAAAAAAOA/AAAAAAAA4D8AAAAAAADgPwAAAAAAAOA/AAAAAAAA4D8AAAAAAADgPwAAAAAAAOA/AAAAAAAA+D8AAAAAAAD4PwAAAAAAAPg/AAAAAAAA+D8AAAAAAAD4PwAAAAAAAPg/AAAAAAAA+D8AAAAAAAD4PwAAAAAAAPg/AAAAAAAA+D8AAAAAAAD4PwAAAAAAAPg/AAAAAAAA+D8AAAAAAAD4PwAAAAAAAPg/AAAAAAAA+D8AAAAAAAD4PwAAAAAAAPg/AAAAAAAA+D8AAAAAAAD4PwAAAAAAAPg/AAAAAAAA+D8AAAAAAAD4PwAAAAAAAPg/AAAAAAAA+D8AAAAAAAD4PwAAAAAAAPg/AAAAAAAA+D8AAAAAAAD4PwAAAAAAAPg/AAAAAAAA+D8AAAAAAAD4PwAAAAAAAPg/AAAAAAAABEAAAAAAAAAEQAAAAAAAAARAAAAAAAAABEAAAAAAAAAEQAAAAAAAAARAAAAAAAAABEAAAAAAAAAEQAAAAAAAAARAAAAAAAAABEAAAAAAAAAEQAAAAAAAAARAAAAAAAAABEAAAAAAAAAEQAAAAAAAAARAAAAAAAAABEAAAAAAAAAEQAAAAAAAAARAAAAAAAAABEAAAAAAAAAEQAAAAAAAAARAAAAAAAAABEAAAAAAAAAEQAAAAAAAAARAAAAAAAAABEAAAAAAAAAEQAAAAAAAAARAAAAAAAAABEAAAAAAAAAEQAAAAAAAAARAAAAAAAAABEAAAAAAAAAEQAAAAAAAAARA\"},\"shape\":[99],\"dtype\":\"float64\",\"order\":\"little\"}],[\"text\",[\"A\",\"C\",\"C\",\"G\",\"G\",\"T\",\"C\",\"A\",\"G\",\"G\",\"G\",\"C\",\"G\",\"A\",\"C\",\"G\",\"G\",\"G\",\"T\",\"T\",\"T\",\"G\",\"C\",\"G\",\"C\",\"C\",\"C\",\"T\",\"T\",\"T\",\"G\",\"A\",\"T\",\"A\",\"C\",\"C\",\"G\",\"G\",\"T\",\"C\",\"A\",\"T\",\"T\",\"T\",\"C\",\"G\",\"A\",\"C\",\"G\",\"G\",\"G\",\"T\",\"T\",\"T\",\"G\",\"C\",\"G\",\"G\",\"C\",\"C\",\"T\",\"T\",\"T\",\"G\",\"C\",\"T\",\"C\",\"C\",\"A\",\"G\",\"G\",\"T\",\"C\",\"A\",\"G\",\"C\",\"T\",\"C\",\"G\",\"A\",\"C\",\"G\",\"G\",\"G\",\"T\",\"T\",\"G\",\"G\",\"C\",\"G\",\"G\",\"C\",\"C\",\"T\",\"T\",\"T\",\"G\",\"C\",\"T\"]],[\"colors\",[\"red\",\"blue\",\"blue\",\"orange\",\"orange\",\"green\",\"blue\",\"red\",\"orange\",\"orange\",\"orange\",\"blue\",\"orange\",\"red\",\"blue\",\"orange\",\"orange\",\"orange\",\"green\",\"green\",\"green\",\"orange\",\"blue\",\"orange\",\"blue\",\"blue\",\"blue\",\"green\",\"green\",\"green\",\"orange\",\"red\",\"green\",\"red\",\"blue\",\"blue\",\"orange\",\"orange\",\"green\",\"blue\",\"red\",\"green\",\"green\",\"green\",\"blue\",\"orange\",\"red\",\"blue\",\"orange\",\"orange\",\"orange\",\"green\",\"green\",\"green\",\"orange\",\"blue\",\"orange\",\"orange\",\"blue\",\"blue\",\"green\",\"green\",\"green\",\"orange\",\"blue\",\"green\",\"blue\",\"blue\",\"red\",\"orange\",\"orange\",\"green\",\"blue\",\"red\",\"orange\",\"blue\",\"green\",\"blue\",\"orange\",\"red\",\"blue\",\"orange\",\"orange\",\"orange\",\"green\",\"green\",\"orange\",\"orange\",\"blue\",\"orange\",\"orange\",\"blue\",\"blue\",\"green\",\"green\",\"green\",\"orange\",\"blue\",\"green\"]]]}}},\"view\":{\"type\":\"object\",\"name\":\"CDSView\",\"id\":\"7edeb50e-b099-4758-a02b-2b1f80066742\",\"attributes\":{\"filter\":{\"type\":\"object\",\"name\":\"AllIndices\",\"id\":\"d5f6438a-8cb9-41b8-ab53-7d08a1d2951e\"}}},\"glyph\":{\"type\":\"object\",\"name\":\"Text\",\"id\":\"5bd08a46-575c-4b01-9447-2b8027666d3a\",\"attributes\":{\"x\":{\"type\":\"field\",\"field\":\"x\"},\"y\":{\"type\":\"field\",\"field\":\"y\"},\"text\":{\"type\":\"field\",\"field\":\"text\"},\"text_color\":{\"type\":\"value\",\"value\":\"black\"},\"text_font\":{\"type\":\"field\",\"field\":\"monospace\"},\"text_font_size\":{\"type\":\"value\",\"value\":\"9pt\"},\"text_align\":{\"type\":\"value\",\"value\":\"center\"}}}}},{\"type\":\"object\",\"name\":\"GlyphRenderer\",\"id\":\"fdb820f3-9297-4473-af38-9b3404690020\",\"attributes\":{\"data_source\":{\"id\":\"0af9de1a-eeda-4d01-a08c-cef19eaa4e77\"},\"view\":{\"type\":\"object\",\"name\":\"CDSView\",\"id\":\"24b8d733-71b9-4f2e-a0d4-181165f04108\",\"attributes\":{\"filter\":{\"type\":\"object\",\"name\":\"AllIndices\",\"id\":\"2917e5fe-6159-4854-9e20-98daab79f40e\"}}},\"glyph\":{\"type\":\"object\",\"name\":\"Rect\",\"id\":\"aec0be9d-4713-467b-9569-735f757ec790\",\"attributes\":{\"x\":{\"type\":\"field\",\"field\":\"x\"},\"y\":{\"type\":\"field\",\"field\":\"recty\"},\"width\":{\"type\":\"value\",\"value\":1},\"height\":{\"type\":\"value\",\"value\":1},\"line_color\":{\"type\":\"value\",\"value\":null},\"fill_color\":{\"type\":\"field\",\"field\":\"colors\"},\"fill_alpha\":{\"type\":\"value\",\"value\":0.4}}}}}],\"toolbar\":{\"type\":\"object\",\"name\":\"Toolbar\",\"id\":\"1b5c4289-e31a-4389-8af4-75814d139f55\",\"attributes\":{\"tools\":[{\"id\":\"bab94ca1-101e-4aa8-85a6-e6bd71f12b58\"},{\"id\":\"438b632f-f972-485a-8872-2a4f6b670c41\"}]}},\"toolbar_location\":null,\"left\":[{\"type\":\"object\",\"name\":\"CategoricalAxis\",\"id\":\"34258198-cbf1-4c2b-8ce0-589d2e3a10cb\",\"attributes\":{\"ticker\":{\"type\":\"object\",\"name\":\"CategoricalTicker\",\"id\":\"db992ae3-290d-41b9-83f7-64de8f08f4fc\"},\"formatter\":{\"type\":\"object\",\"name\":\"CategoricalTickFormatter\",\"id\":\"b2ac9866-7862-422e-a569-9f66addeb375\"},\"major_label_policy\":{\"type\":\"object\",\"name\":\"AllLabels\",\"id\":\"551658ee-d471-4275-9c7e-db17d184dd32\"},\"major_tick_line_width\":0,\"minor_tick_line_width\":0}}],\"below\":[{\"type\":\"object\",\"name\":\"LinearAxis\",\"id\":\"6863310c-a1fe-4c09-b48c-4124999e6697\",\"attributes\":{\"ticker\":{\"type\":\"object\",\"name\":\"BasicTicker\",\"id\":\"37836981-09c4-4f38-808a-edb16e20112a\",\"attributes\":{\"mantissas\":[1,2,5]}},\"formatter\":{\"type\":\"object\",\"name\":\"BasicTickFormatter\",\"id\":\"f9fd1165-3d64-4ba4-916e-69a41de0912b\"},\"major_label_policy\":{\"type\":\"object\",\"name\":\"AllLabels\",\"id\":\"ee6bc4e2-91fe-4321-ad91-68e10b3736e5\"},\"major_label_text_font_style\":\"bold\"}}],\"center\":[{\"type\":\"object\",\"name\":\"Grid\",\"id\":\"67140733-5acf-4bcf-a2e0-becb98fcd5e2\",\"attributes\":{\"visible\":false,\"axis\":{\"id\":\"6863310c-a1fe-4c09-b48c-4124999e6697\"}}},{\"type\":\"object\",\"name\":\"Grid\",\"id\":\"0c6be8f7-3867-4dda-a27c-e610f851008e\",\"attributes\":{\"visible\":false,\"dimension\":1,\"axis\":{\"id\":\"34258198-cbf1-4c2b-8ce0-589d2e3a10cb\"}}}],\"min_border\":0}},0,0]]}}]}},{\"type\":\"object\",\"name\":\"panel.models.comm_manager.CommManager\",\"id\":\"cfa23e0e-da39-4561-85db-9766b04e19d8\",\"attributes\":{\"plot_id\":\"9850b0d2-4d55-48c4-b07a-5d2c8ba45184\",\"comm_id\":\"e9f964b558244003b610761c974315b6\",\"client_comm_id\":\"4f1b92faa1404d0399b65386953b2322\"}}],\"defs\":[{\"type\":\"model\",\"name\":\"ReactiveHTML1\"},{\"type\":\"model\",\"name\":\"FlexBox1\",\"properties\":[{\"name\":\"align_content\",\"kind\":\"Any\",\"default\":\"flex-start\"},{\"name\":\"align_items\",\"kind\":\"Any\",\"default\":\"flex-start\"},{\"name\":\"flex_direction\",\"kind\":\"Any\",\"default\":\"row\"},{\"name\":\"flex_wrap\",\"kind\":\"Any\",\"default\":\"wrap\"},{\"name\":\"gap\",\"kind\":\"Any\",\"default\":\"\"},{\"name\":\"justify_content\",\"kind\":\"Any\",\"default\":\"flex-start\"}]},{\"type\":\"model\",\"name\":\"FloatPanel1\",\"properties\":[{\"name\":\"config\",\"kind\":\"Any\",\"default\":{\"type\":\"map\"}},{\"name\":\"contained\",\"kind\":\"Any\",\"default\":true},{\"name\":\"position\",\"kind\":\"Any\",\"default\":\"right-top\"},{\"name\":\"offsetx\",\"kind\":\"Any\",\"default\":null},{\"name\":\"offsety\",\"kind\":\"Any\",\"default\":null},{\"name\":\"theme\",\"kind\":\"Any\",\"default\":\"primary\"},{\"name\":\"status\",\"kind\":\"Any\",\"default\":\"normalized\"}]},{\"type\":\"model\",\"name\":\"GridStack1\",\"properties\":[{\"name\":\"mode\",\"kind\":\"Any\",\"default\":\"warn\"},{\"name\":\"ncols\",\"kind\":\"Any\",\"default\":null},{\"name\":\"nrows\",\"kind\":\"Any\",\"default\":null},{\"name\":\"allow_resize\",\"kind\":\"Any\",\"default\":true},{\"name\":\"allow_drag\",\"kind\":\"Any\",\"default\":true},{\"name\":\"state\",\"kind\":\"Any\",\"default\":[]}]},{\"type\":\"model\",\"name\":\"drag1\",\"properties\":[{\"name\":\"slider_width\",\"kind\":\"Any\",\"default\":5},{\"name\":\"slider_color\",\"kind\":\"Any\",\"default\":\"black\"},{\"name\":\"value\",\"kind\":\"Any\",\"default\":50}]},{\"type\":\"model\",\"name\":\"click1\",\"properties\":[{\"name\":\"terminal_output\",\"kind\":\"Any\",\"default\":\"\"},{\"name\":\"debug_name\",\"kind\":\"Any\",\"default\":\"\"},{\"name\":\"clears\",\"kind\":\"Any\",\"default\":0}]},{\"type\":\"model\",\"name\":\"FastWrapper1\",\"properties\":[{\"name\":\"object\",\"kind\":\"Any\",\"default\":null},{\"name\":\"style\",\"kind\":\"Any\",\"default\":null}]},{\"type\":\"model\",\"name\":\"NotificationAreaBase1\",\"properties\":[{\"name\":\"js_events\",\"kind\":\"Any\",\"default\":{\"type\":\"map\"}},{\"name\":\"position\",\"kind\":\"Any\",\"default\":\"bottom-right\"},{\"name\":\"_clear\",\"kind\":\"Any\",\"default\":0}]},{\"type\":\"model\",\"name\":\"NotificationArea1\",\"properties\":[{\"name\":\"js_events\",\"kind\":\"Any\",\"default\":{\"type\":\"map\"}},{\"name\":\"notifications\",\"kind\":\"Any\",\"default\":[]},{\"name\":\"position\",\"kind\":\"Any\",\"default\":\"bottom-right\"},{\"name\":\"_clear\",\"kind\":\"Any\",\"default\":0},{\"name\":\"types\",\"kind\":\"Any\",\"default\":[{\"type\":\"map\",\"entries\":[[\"type\",\"warning\"],[\"background\",\"#ffc107\"],[\"icon\",{\"type\":\"map\",\"entries\":[[\"className\",\"fas fa-exclamation-triangle\"],[\"tagName\",\"i\"],[\"color\",\"white\"]]}]]},{\"type\":\"map\",\"entries\":[[\"type\",\"info\"],[\"background\",\"#007bff\"],[\"icon\",{\"type\":\"map\",\"entries\":[[\"className\",\"fas fa-info-circle\"],[\"tagName\",\"i\"],[\"color\",\"white\"]]}]]}]}]},{\"type\":\"model\",\"name\":\"Notification\",\"properties\":[{\"name\":\"background\",\"kind\":\"Any\",\"default\":null},{\"name\":\"duration\",\"kind\":\"Any\",\"default\":3000},{\"name\":\"icon\",\"kind\":\"Any\",\"default\":null},{\"name\":\"message\",\"kind\":\"Any\",\"default\":\"\"},{\"name\":\"notification_type\",\"kind\":\"Any\",\"default\":null},{\"name\":\"_destroyed\",\"kind\":\"Any\",\"default\":false}]},{\"type\":\"model\",\"name\":\"TemplateActions1\",\"properties\":[{\"name\":\"open_modal\",\"kind\":\"Any\",\"default\":0},{\"name\":\"close_modal\",\"kind\":\"Any\",\"default\":0}]},{\"type\":\"model\",\"name\":\"BootstrapTemplateActions1\",\"properties\":[{\"name\":\"open_modal\",\"kind\":\"Any\",\"default\":0},{\"name\":\"close_modal\",\"kind\":\"Any\",\"default\":0}]},{\"type\":\"model\",\"name\":\"TemplateEditor1\",\"properties\":[{\"name\":\"layout\",\"kind\":\"Any\",\"default\":[]}]},{\"type\":\"model\",\"name\":\"MaterialTemplateActions1\",\"properties\":[{\"name\":\"open_modal\",\"kind\":\"Any\",\"default\":0},{\"name\":\"close_modal\",\"kind\":\"Any\",\"default\":0}]},{\"type\":\"model\",\"name\":\"ReactiveESM1\",\"properties\":[{\"name\":\"esm_constants\",\"kind\":\"Any\",\"default\":{\"type\":\"map\"}}]},{\"type\":\"model\",\"name\":\"JSComponent1\",\"properties\":[{\"name\":\"esm_constants\",\"kind\":\"Any\",\"default\":{\"type\":\"map\"}}]},{\"type\":\"model\",\"name\":\"ReactComponent1\",\"properties\":[{\"name\":\"esm_constants\",\"kind\":\"Any\",\"default\":{\"type\":\"map\"}}]},{\"type\":\"model\",\"name\":\"AnyWidgetComponent1\",\"properties\":[{\"name\":\"esm_constants\",\"kind\":\"Any\",\"default\":{\"type\":\"map\"}}]},{\"type\":\"model\",\"name\":\"request_value1\",\"properties\":[{\"name\":\"fill\",\"kind\":\"Any\",\"default\":\"none\"},{\"name\":\"_synced\",\"kind\":\"Any\",\"default\":null},{\"name\":\"_request_sync\",\"kind\":\"Any\",\"default\":0}]}]}};\n",
              "  var render_items = [{\"docid\":\"1c384dfb-aef6-43b2-9ea3-50f981eded29\",\"roots\":{\"9850b0d2-4d55-48c4-b07a-5d2c8ba45184\":\"cc0dedbd-9f59-48d4-8881-e3cd842fe4ac\"},\"root_ids\":[\"9850b0d2-4d55-48c4-b07a-5d2c8ba45184\"]}];\n",
              "  var docs = Object.values(docs_json)\n",
              "  if (!docs) {\n",
              "    return\n",
              "  }\n",
              "  const py_version = docs[0].version.replace('rc', '-rc.').replace('.dev', '-dev.')\n",
              "  async function embed_document(root) {\n",
              "    var Bokeh = get_bokeh(root)\n",
              "    await Bokeh.embed.embed_items_notebook(docs_json, render_items);\n",
              "    for (const render_item of render_items) {\n",
              "      for (const root_id of render_item.root_ids) {\n",
              "\tconst id_el = document.getElementById(root_id)\n",
              "\tif (id_el.children.length && id_el.children[0].hasAttribute('data-root-id')) {\n",
              "\t  const root_el = id_el.children[0]\n",
              "\t  root_el.id = root_el.id + '-rendered'\n",
              "\t  for (const child of root_el.children) {\n",
              "            // Ensure JupyterLab does not capture keyboard shortcuts\n",
              "            // see: https://jupyterlab.readthedocs.io/en/4.1.x/extension/notebook.html#keyboard-interaction-model\n",
              "\t    child.setAttribute('data-lm-suppress-shortcuts', 'true')\n",
              "\t  }\n",
              "\t}\n",
              "      }\n",
              "    }\n",
              "  }\n",
              "  function get_bokeh(root) {\n",
              "    if (root.Bokeh === undefined) {\n",
              "      return null\n",
              "    } else if (root.Bokeh.version !== py_version) {\n",
              "      if (root.Bokeh.versions === undefined || !root.Bokeh.versions.has(py_version)) {\n",
              "\treturn null\n",
              "      }\n",
              "      return root.Bokeh.versions.get(py_version);\n",
              "    } else if (root.Bokeh.version === py_version) {\n",
              "      return root.Bokeh\n",
              "    }\n",
              "    return null\n",
              "  }\n",
              "  function is_loaded(root) {\n",
              "    var Bokeh = get_bokeh(root)\n",
              "    return (Bokeh != null && Bokeh.Panel !== undefined)\n",
              "  }\n",
              "  if (is_loaded(root)) {\n",
              "    embed_document(root);\n",
              "  } else {\n",
              "    var attempts = 0;\n",
              "    var timer = setInterval(function(root) {\n",
              "      if (is_loaded(root)) {\n",
              "        clearInterval(timer);\n",
              "        embed_document(root);\n",
              "      } else if (document.readyState == \"complete\") {\n",
              "        attempts++;\n",
              "        if (attempts > 200) {\n",
              "          clearInterval(timer);\n",
              "\t  var Bokeh = get_bokeh(root)\n",
              "\t  if (Bokeh == null || Bokeh.Panel == null) {\n",
              "            console.warn(\"Panel: ERROR: Unable to run Panel code because Bokeh or Panel library is missing\");\n",
              "\t  } else {\n",
              "\t    console.warn(\"Panel: WARNING: Attempting to render but not all required libraries could be resolved.\")\n",
              "\t    embed_document(root)\n",
              "\t  }\n",
              "        }\n",
              "      }\n",
              "    }, 25, root)\n",
              "  }\n",
              "})(window);</script>"
            ],
            "application/vnd.holoviews_exec.v0+json": "",
            "text/plain": [
              "Bokeh(GridPlot)"
            ]
          },
          "metadata": {
            "application/vnd.holoviews_exec.v0+json": {
              "id": "9850b0d2-4d55-48c4-b07a-5d2c8ba45184"
            }
          },
          "execution_count": 61
        }
      ],
      "source": [
        "p = view_alignment(align_n, fontsize=\"9pt\")\n",
        "pn.pane.Bokeh(p)"
      ]
    },
    {
      "cell_type": "code",
      "execution_count": 62,
      "metadata": {
        "execution": {
          "iopub.execute_input": "2023-05-06T19:10:21.881537Z",
          "iopub.status.busy": "2023-05-06T19:10:21.880810Z",
          "iopub.status.idle": "2023-05-06T19:10:21.891409Z",
          "shell.execute_reply": "2023-05-06T19:10:21.892122Z",
          "shell.execute_reply.started": "2021-10-22T17:50:08.748724Z"
        },
        "papermill": {
          "duration": 0.095176,
          "end_time": "2023-05-06T19:10:21.892351",
          "exception": false,
          "start_time": "2023-05-06T19:10:21.797175",
          "status": "completed"
        },
        "tags": [],
        "colab": {
          "base_uri": "https://localhost:8080/"
        },
        "id": "wQGnZJM-Baz_",
        "outputId": "d0aee121-d04c-4dc5-a374-46d43caf97ba"
      },
      "outputs": [
        {
          "output_type": "stream",
          "name": "stdout",
          "text": [
            "ID: gi|45478711|ref|NC_005816.1|\n",
            "Name: gi|45478711|ref|NC_005816.1|\n",
            "Description: gi|45478711|ref|NC_005816.1| Yersinia pestis biovar Microtus str. 91001 plasmid pPCP1, complete sequence\n",
            "Number of features: 0\n",
            "Seq('TGTAACGAACGGTGCAATAGTGATCCACACCCAACGCCTGAAATCAGATCCAGG...CTG')\n",
            "Length of Nucleotide Sequence: 9609\n"
          ]
        }
      ],
      "source": [
        "# File which we want to align\n",
        "# Description is included so we can compare results\n",
        "file_fasta = 'genbank/NC_005816.fna'\n",
        "\n",
        "record = SeqIO.read(open(file_fasta),format='fasta')\n",
        "print(record)\n",
        "print(f'Length of Nucleotide Sequence: {len(record)}')"
      ]
    },
    {
      "cell_type": "code",
      "execution_count": 63,
      "metadata": {
        "execution": {
          "iopub.execute_input": "2023-05-06T19:10:22.213454Z",
          "iopub.status.busy": "2023-05-06T19:10:22.212422Z",
          "iopub.status.idle": "2023-05-06T19:11:23.300268Z",
          "shell.execute_reply": "2023-05-06T19:11:23.300840Z",
          "shell.execute_reply.started": "2021-10-22T17:50:08.764141Z"
        },
        "papermill": {
          "duration": 61.171907,
          "end_time": "2023-05-06T19:11:23.301103",
          "exception": false,
          "start_time": "2023-05-06T19:10:22.129196",
          "status": "completed"
        },
        "tags": [],
        "id": "5yEOnsdwBaz_"
      },
      "outputs": [],
      "source": [
        "if(blast_id):\n",
        "\n",
        "    # BLAST query instance\n",
        "    result_handle = NCBIWWW.qblast('blastn','nt',record.format('fasta'))\n",
        "\n",
        "    # Read the file (call only once)\n",
        "    with open(\"NC_005816_blast.xml\", \"w\") as save_to:\n",
        "        save_to.write(result_handle.read())\n",
        "        result_handle.close()"
      ]
    },
    {
      "cell_type": "code",
      "execution_count": 64,
      "metadata": {
        "execution": {
          "iopub.execute_input": "2023-05-06T19:11:23.622134Z",
          "iopub.status.busy": "2023-05-06T19:11:23.621177Z",
          "iopub.status.idle": "2023-05-06T19:11:23.627520Z",
          "shell.execute_reply": "2023-05-06T19:11:23.628229Z",
          "shell.execute_reply.started": "2021-10-22T17:50:08.770387Z"
        },
        "papermill": {
          "duration": 0.090123,
          "end_time": "2023-05-06T19:11:23.628425",
          "exception": false,
          "start_time": "2023-05-06T19:11:23.538302",
          "status": "completed"
        },
        "tags": [],
        "id": "B6wr3RGrBaz_"
      },
      "outputs": [],
      "source": [
        "if(blast_id):\n",
        "    result_handle = open('genbank/NC_005816_blast.xml','r')\n",
        "    blast_records = NCBIXML.parse(result_handle)"
      ]
    },
    {
      "cell_type": "code",
      "execution_count": 65,
      "metadata": {
        "execution": {
          "iopub.execute_input": "2023-05-06T19:11:23.790784Z",
          "iopub.status.busy": "2023-05-06T19:11:23.789838Z",
          "iopub.status.idle": "2023-05-06T19:11:23.847771Z",
          "shell.execute_reply": "2023-05-06T19:11:23.847213Z",
          "shell.execute_reply.started": "2021-10-22T17:50:08.785714Z"
        },
        "papermill": {
          "duration": 0.139998,
          "end_time": "2023-05-06T19:11:23.847933",
          "exception": false,
          "start_time": "2023-05-06T19:11:23.707935",
          "status": "completed"
        },
        "tags": [],
        "colab": {
          "base_uri": "https://localhost:8080/"
        },
        "id": "Wu3gHkoyBaz_",
        "outputId": "5589a24d-a5ab-4eba-d3ce-7d0f4f4d5352"
      },
      "outputs": [
        {
          "output_type": "stream",
          "name": "stdout",
          "text": [
            "\n",
            "Alignment #0\n",
            "***** Alignment *****\n",
            "sequence: gi|45357364|gb|AE017046.1| Yersinia pestis biovar Microtus str. 91001 plasmid pPCP1, complete sequence\n",
            "length: 9609\n",
            "e value: 0.0\n",
            "\n",
            "Alignment #1\n",
            "***** Alignment *****\n",
            "sequence: gi|311902116|gb|HM807366.1| Yersinia pestis strain C790 plasmid pPCP1, complete sequence\n",
            "length: 9610\n",
            "e value: 0.0\n",
            "\n",
            "Alignment #2\n",
            "***** Alignment *****\n",
            "sequence: gi|262363963|gb|CP001588.1| Yersinia pestis D106004 plasmid pPCY1, complete sequence\n",
            "length: 9611\n",
            "e value: 0.0\n",
            "\n",
            "Alignment #3\n",
            "***** Alignment *****\n",
            "sequence: gi|1518099693|gb|CP033698.1| Yersinia pestis strain FDAARGOS_601 plasmid unnamed2, complete sequence\n",
            "length: 19216\n",
            "e value: 0.0\n",
            "***** Alignment *****\n",
            "sequence: gi|1518099693|gb|CP033698.1| Yersinia pestis strain FDAARGOS_601 plasmid unnamed2, complete sequence\n",
            "length: 19216\n",
            "e value: 0.0\n",
            "***** Alignment *****\n",
            "sequence: gi|1518099693|gb|CP033698.1| Yersinia pestis strain FDAARGOS_601 plasmid unnamed2, complete sequence\n",
            "length: 19216\n",
            "e value: 0.0\n",
            "\n",
            "Alignment #4\n",
            "***** Alignment *****\n",
            "sequence: gi|1046916732|gb|CP016276.1| Yersinia pestis strain Cadman plasmid pPCP1, complete sequence\n",
            "length: 9612\n",
            "e value: 0.0\n"
          ]
        }
      ],
      "source": [
        "if(blast_id):\n",
        "\n",
        "    e_thresh = 0.00; # display only perfect matches\n",
        "    len_id = 5 # show only 5 results\n",
        "    for blast_record in blast_records: # go through all blast records\n",
        "\n",
        "        jj=-1\n",
        "        for alignment in blast_record.alignments:\n",
        "            jj+=1;\n",
        "            if(jj < len_id):\n",
        "                print(f'\\nAlignment #{jj}')\n",
        "                for hsp in alignment.hsps:\n",
        "                    if(hsp.expect <= e_thresh):\n",
        "                        print('***** Alignment *****')\n",
        "                        print(f'sequence: {alignment.title}')\n",
        "                        print(f'length: {alignment.length}')\n",
        "                        print(f'e value: {hsp.expect}')"
      ]
    },
    {
      "cell_type": "code",
      "execution_count": 66,
      "metadata": {
        "execution": {
          "iopub.execute_input": "2023-05-06T19:11:24.221891Z",
          "iopub.status.busy": "2023-05-06T19:11:24.221170Z",
          "iopub.status.idle": "2023-05-06T19:11:24.228713Z",
          "shell.execute_reply": "2023-05-06T19:11:24.227925Z",
          "shell.execute_reply.started": "2021-10-31T12:02:28.811025Z"
        },
        "papermill": {
          "duration": 0.089964,
          "end_time": "2023-05-06T19:11:24.228922",
          "exception": false,
          "start_time": "2023-05-06T19:11:24.138958",
          "status": "completed"
        },
        "tags": [],
        "id": "EjwkO39DBaz_"
      },
      "outputs": [],
      "source": [
        "def read_blast(result_handle,hit_id=0,show_top=5):\n",
        "\n",
        "    blast_qresult = SearchIO.read(result_handle,\"blast-xml\")\n",
        "    print(blast_qresult[0:show_top])\n",
        "\n",
        "    #fetch the id, description, evalue, bitscore & alignment\n",
        "    print(f'Showing BLAST query result #{hit_id}')\n",
        "    seqid = blast_qresult[hit_id]\n",
        "    details = seqid[hit_id]\n",
        "\n",
        "    print(f'\\nSequence ID: {seqid.id}')\n",
        "    print(f'Description: {seqid.description}')\n",
        "    print(f'e-value: {details.evalue}')\n",
        "    print(f'Bit Score: {details.bitscore}')\n",
        "\n",
        "    print('\\nShowing Alignment:')\n",
        "    print(f\"\\nalignment:\\n{details.aln}\")"
      ]
    },
    {
      "cell_type": "code",
      "execution_count": 67,
      "metadata": {
        "execution": {
          "iopub.execute_input": "2023-05-06T19:11:24.404635Z",
          "iopub.status.busy": "2023-05-06T19:11:24.403942Z",
          "iopub.status.idle": "2023-05-06T19:12:43.316730Z",
          "shell.execute_reply": "2023-05-06T19:12:43.317334Z",
          "shell.execute_reply.started": "2021-10-22T17:50:08.819365Z"
        },
        "papermill": {
          "duration": 79.005922,
          "end_time": "2023-05-06T19:12:43.317536",
          "exception": false,
          "start_time": "2023-05-06T19:11:24.311614",
          "status": "completed"
        },
        "tags": [],
        "colab": {
          "base_uri": "https://localhost:8080/"
        },
        "id": "KinwBXGRBaz_",
        "outputId": "ee226edf-2fa9-43cf-f242-619a116001ff"
      },
      "outputs": [
        {
          "output_type": "stream",
          "name": "stdout",
          "text": [
            "Program: blastp (2.16.1+)\n",
            "  Query: unnamed (2701)\n",
            "         protein product\n",
            " Target: pdb\n",
            "   Hits: ----  -----  ----------------------------------------------------------\n",
            "            #  # HSP  ID + description\n",
            "         ----  -----  ----------------------------------------------------------\n",
            "            0      1  pdb|7D4F|A  Chain A, RNA-directed RNA polymerase [Sever...\n",
            "            1      1  pdb|6YYT|A  Chain A, nsp12 [Severe acute respiratory sy...\n",
            "            2      1  pdb|6XEZ|A  Chain A, RNA-directed RNA polymerase [Sever...\n",
            "            3      1  pdb|7BW4|A  Chain A, RNA-directed RNA polymerase [Sever...\n",
            "            4      1  pdb|6XQB|A  Chain A, RNA-directed RNA polymerase [Sever...\n",
            "Showing BLAST query result #0\n",
            "\n",
            "Sequence ID: pdb|7D4F|A\n",
            "Description: Chain A, RNA-directed RNA polymerase [Severe acute respiratory syndrome coronavirus 2]\n",
            "e-value: 0.0\n",
            "Bit Score: 1938.7\n",
            "\n",
            "Showing Alignment:\n",
            "\n",
            "alignment:\n",
            "Alignment with 2 rows and 926 columns\n",
            "FKRVCGVSAARLTPCGTGTSTDVVYRAFDIYNDKVAGFAKFLKT...LQA unnamed\n",
            "LNRVCGVSAARLTPCGTGTSTDVVYRAFDIYNDKVAGFAKFLKT...LQG pdb|7D4F|A\n"
          ]
        }
      ],
      "source": [
        "# read file\n",
        "if(blast_id):\n",
        "    c19_protein = SeqIO.read(\"protein.fasta\", \"fasta\")\n",
        "    result_handle = NCBIWWW.qblast(\"blastp\",\"pdb\",c19_protein.seq)\n",
        "    read_blast(result_handle) # read qblast result & show first hit only"
      ]
    },
    {
      "cell_type": "code",
      "execution_count": 68,
      "metadata": {
        "execution": {
          "iopub.execute_input": "2023-05-06T19:12:43.801801Z",
          "iopub.status.busy": "2023-05-06T19:12:43.800959Z",
          "iopub.status.idle": "2023-05-06T19:12:43.804366Z",
          "shell.execute_reply": "2023-05-06T19:12:43.804893Z",
          "shell.execute_reply.started": "2021-10-22T17:50:08.830288Z"
        },
        "papermill": {
          "duration": 0.08853,
          "end_time": "2023-05-06T19:12:43.805094",
          "exception": false,
          "start_time": "2023-05-06T19:12:43.716564",
          "status": "completed"
        },
        "tags": [],
        "colab": {
          "base_uri": "https://localhost:8080/"
        },
        "id": "PdkcJzfeBa0A",
        "outputId": "1917998a-e2e2-4bce-8853-1c7207ce5311"
      },
      "outputs": [
        {
          "output_type": "stream",
          "name": "stdout",
          "text": [
            "Alignment with 7 rows and 52 columns\n",
            "AEPNAATNYATEAMDSLKTQAIDLISQTWPVVTTVVVAGLVIRL...SKA COATB_BPIKE/30-81\n",
            "AEPNAATNYATEAMDSLKTQAIDLISQTWPVVTTVVVAGLVIKL...SRA Q9T0Q8_BPIKE/1-52\n",
            "DGTSTATSYATEAMNSLKTQATDLIDQTWPVVTSVAVAGLAIRL...SKA COATB_BPI22/32-83\n",
            "AEGDDP---AKAAFNSLQASATEYIGYAWAMVVVIVGATIGIKL...SKA COATB_BPM13/24-72\n",
            "AEGDDP---AKAAFDSLQASATEYIGYAWAMVVVIVGATIGIKL...SKA COATB_BPZJ2/1-49\n",
            "AEGDDP---AKAAFDSLQASATEYIGYAWAMVVVIVGATIGIKL...SKA Q9T0Q9_BPFD/1-49\n",
            "FAADDATSQAKAAFDSLTAQATEMSGYAWALVVLVVGATVGIKL...SRA COATB_BPIF1/22-73 \n",
            "\n"
          ]
        }
      ],
      "source": [
        "# Recall Alignment\n",
        "print(alin2,'\\n')"
      ]
    },
    {
      "cell_type": "code",
      "execution_count": 69,
      "metadata": {
        "execution": {
          "iopub.execute_input": "2023-05-06T19:12:43.971906Z",
          "iopub.status.busy": "2023-05-06T19:12:43.971069Z",
          "iopub.status.idle": "2023-05-06T19:12:43.975259Z",
          "shell.execute_reply": "2023-05-06T19:12:43.974612Z",
          "shell.execute_reply.started": "2021-10-22T17:50:08.844453Z"
        },
        "papermill": {
          "duration": 0.090473,
          "end_time": "2023-05-06T19:12:43.975411",
          "exception": false,
          "start_time": "2023-05-06T19:12:43.884938",
          "status": "completed"
        },
        "tags": [],
        "colab": {
          "base_uri": "https://localhost:8080/"
        },
        "id": "GphPDHRvBa0A",
        "outputId": "8342c767-eb36-4840-a0b0-66498860bcb2"
      },
      "outputs": [
        {
          "output_type": "stream",
          "name": "stdout",
          "text": [
            "Alignment with 7 rows and 52 columns\n",
            "AEPNAATNYATEAMDSLKTQAIDLISQTWPVVTTVVVAGLVIRL...SKA COATB_BPIKE/30-81\n",
            "AEPNAATNYATEAMDSLKTQAIDLISQTWPVVTTVVVAGLVIKL...SRA Q9T0Q8_BPIKE/1-52\n",
            "DGTSTATSYATEAMNSLKTQATDLIDQTWPVVTSVAVAGLAIRL...SKA COATB_BPI22/32-83\n",
            "AEGDDP---AKAAFNSLQASATEYIGYAWAMVVVIVGATIGIKL...SKA COATB_BPM13/24-72\n",
            "AEGDDP---AKAAFDSLQASATEYIGYAWAMVVVIVGATIGIKL...SKA COATB_BPZJ2/1-49\n",
            "AEGDDP---AKAAFDSLQASATEYIGYAWAMVVVIVGATIGIKL...SKA Q9T0Q9_BPFD/1-49\n",
            "FAADDATSQAKAAFDSLTAQATEMSGYAWALVVLVVGATVGIKL...SRA COATB_BPIF1/22-73 \n",
            "\n",
            "Distance Matrix\n",
            "COATB_BPIKE/30-81   0.000000\n",
            "Q9T0Q8_BPIKE/1-52   0.057692    0.000000\n",
            "COATB_BPI22/32-83   0.230769    0.288462    0.000000\n",
            "COATB_BPM13/24-72   0.596154    0.596154    0.615385    0.000000\n",
            "COATB_BPZJ2/1-49    0.576923    0.576923    0.634615    0.038462    0.000000\n",
            "Q9T0Q9_BPFD/1-49    0.576923    0.576923    0.634615    0.019231    0.019231    0.000000\n",
            "COATB_BPIF1/22-73   0.576923    0.519231    0.576923    0.346154    0.326923    0.326923    0.000000\n",
            "    COATB_BPIKE/30-81   Q9T0Q8_BPIKE/1-52   COATB_BPI22/32-83   COATB_BPM13/24-72   COATB_BPZJ2/1-49    Q9T0Q9_BPFD/1-49    COATB_BPIF1/22-73\n"
          ]
        }
      ],
      "source": [
        "# Recall Alignment\n",
        "print(alin2,'\\n')\n",
        "\n",
        "''' Calculate Distance Matrix'''\n",
        "# From raw MSE alignment\n",
        "# The ‘identity’ model can be used both for DNA and protein sequences\n",
        "\n",
        "print('Distance Matrix')\n",
        "calculator = DistanceCalculator('identity') # create calculator\n",
        "dist_mat = calculator.get_distance(alin2) # get the distance matrix of a given alignment object\n",
        "print(dist_mat)"
      ]
    },
    {
      "cell_type": "code",
      "execution_count": 70,
      "metadata": {
        "execution": {
          "iopub.execute_input": "2023-05-06T19:12:44.144445Z",
          "iopub.status.busy": "2023-05-06T19:12:44.143696Z",
          "iopub.status.idle": "2023-05-06T19:12:44.147825Z",
          "shell.execute_reply": "2023-05-06T19:12:44.147213Z",
          "shell.execute_reply.started": "2021-10-22T17:50:08.861143Z"
        },
        "papermill": {
          "duration": 0.092188,
          "end_time": "2023-05-06T19:12:44.147989",
          "exception": false,
          "start_time": "2023-05-06T19:12:44.055801",
          "status": "completed"
        },
        "tags": [],
        "colab": {
          "base_uri": "https://localhost:8080/"
        },
        "id": "TH5Sz1H8Ba0A",
        "outputId": "1c8c25a8-4f7b-4e9b-abe5-6f5d7f8f54eb"
      },
      "outputs": [
        {
          "output_type": "stream",
          "name": "stdout",
          "text": [
            "Tree(rooted=False)\n",
            "    Clade(branch_length=0, name='Inner5')\n",
            "        Clade(branch_length=0.007211538461538464, name='Inner4')\n",
            "            Clade(branch_length=0.012019230769230754, name='COATB_BPZJ2/1-49')\n",
            "            Clade(branch_length=0.17307692307692302, name='Inner3')\n",
            "                Clade(branch_length=0.14503205128205127, name='COATB_BPIF1/22-73')\n",
            "                Clade(branch_length=0.2876602564102564, name='Inner2')\n",
            "                    Clade(branch_length=0.08052884615384609, name='Inner1')\n",
            "                        Clade(branch_length=0.028846153846153855, name='COATB_BPIKE/30-81')\n",
            "                        Clade(branch_length=0.028846153846153855, name='Q9T0Q8_BPIKE/1-52')\n",
            "                    Clade(branch_length=0.15024038461538464, name='COATB_BPI22/32-83')\n",
            "        Clade(branch_length=0.0168269230769231, name='COATB_BPM13/24-72')\n",
            "        Clade(branch_length=0.002403846153846173, name='Q9T0Q9_BPFD/1-49')\n"
          ]
        }
      ],
      "source": [
        "''' Distance Tree Constructor '''\n",
        "# 'nj' / 'upgma' tree construction approaches\n",
        "\n",
        "constructor = DistanceTreeConstructor(calculator,'nj') # initialise\n",
        "tree = constructor.build_tree(alin2) # main algorithm\n",
        "print(tree)"
      ]
    },
    {
      "cell_type": "code",
      "execution_count": 71,
      "metadata": {
        "execution": {
          "iopub.execute_input": "2023-05-06T19:12:44.329267Z",
          "iopub.status.busy": "2023-05-06T19:12:44.328529Z",
          "iopub.status.idle": "2023-05-06T19:12:44.623945Z",
          "shell.execute_reply": "2023-05-06T19:12:44.623384Z",
          "shell.execute_reply.started": "2021-10-22T17:50:08.878021Z"
        },
        "papermill": {
          "duration": 0.395825,
          "end_time": "2023-05-06T19:12:44.624097",
          "exception": false,
          "start_time": "2023-05-06T19:12:44.228272",
          "status": "completed"
        },
        "tags": [],
        "colab": {
          "base_uri": "https://localhost:8080/",
          "height": 550
        },
        "id": "nEllz5BEBa0A",
        "outputId": "12fa420c-ed74-4c07-9946-9853a735bcbd"
      },
      "outputs": [
        {
          "output_type": "display_data",
          "data": {
            "text/plain": [
              "<Figure size 1200x600 with 1 Axes>"
            ],
            "image/png": "[encoded data removed]"
          },
          "metadata": {}
        }
      ],
      "source": [
        "# Plot Tree\n",
        "fig,axes = plt.subplots(1,1,figsize=(12,6))\n",
        "treep = Phylogeny.from_tree(tree)\n",
        "Phylo.draw(treep,axes=axes)"
      ]
    },
    {
      "cell_type": "markdown",
      "metadata": {
        "papermill": {
          "duration": 0.082661,
          "end_time": "2023-05-06T19:12:44.787949",
          "exception": false,
          "start_time": "2023-05-06T19:12:44.705288",
          "status": "completed"
        },
        "tags": [],
        "id": "jNbbn-S_Ba0A"
      },
      "source": [
        "<div style=\"color:white;display:fill;border-radius:8px;font-size:100%; letter-spacing:1.0px;\"><p style=\"padding: 5px;color:white;text-align:left;\"><b><span style='color:#E888BB'>PARSIMONY BASED APPROACH</span></b></p></div>\n",
        "\n"
      ]
    },
    {
      "cell_type": "code",
      "execution_count": 72,
      "metadata": {
        "execution": {
          "iopub.execute_input": "2023-05-06T19:12:44.959786Z",
          "iopub.status.busy": "2023-05-06T19:12:44.959112Z",
          "iopub.status.idle": "2023-05-06T19:12:44.962473Z",
          "shell.execute_reply": "2023-05-06T19:12:44.961857Z",
          "shell.execute_reply.started": "2021-10-22T17:50:09.231118Z"
        },
        "papermill": {
          "duration": 0.093759,
          "end_time": "2023-05-06T19:12:44.962619",
          "exception": false,
          "start_time": "2023-05-06T19:12:44.868860",
          "status": "completed"
        },
        "tags": [],
        "id": "R4qxIJ_9Ba0A"
      },
      "outputs": [],
      "source": [
        "''' Create a starting tree '''\n",
        "\n",
        "# sub_alin2 =  \"/kaggle/working/sub_alin2.fasta\"\n",
        "sub_alin2 = AlignIO.read(\"sub_alin2.fasta\", \"fasta\")\n",
        "\n",
        "calculator = DistanceCalculator('identity') # create calculator\n",
        "dist_mat = calculator.get_distance(sub_alin2) # get the distance matrix of a given alignment object\n",
        "constructor = DistanceTreeConstructor(calculator,'nj') # initialise\n",
        "tree_0 = constructor.build_tree(sub_alin2) # main algorithm"
      ]
    },
    {
      "cell_type": "code",
      "execution_count": 73,
      "metadata": {
        "execution": {
          "iopub.execute_input": "2023-05-06T19:12:45.129407Z",
          "iopub.status.busy": "2023-05-06T19:12:45.128770Z",
          "iopub.status.idle": "2023-05-06T19:12:45.132655Z",
          "shell.execute_reply": "2023-05-06T19:12:45.132150Z",
          "shell.execute_reply.started": "2021-10-22T17:50:09.244126Z"
        },
        "papermill": {
          "duration": 0.089392,
          "end_time": "2023-05-06T19:12:45.132820",
          "exception": false,
          "start_time": "2023-05-06T19:12:45.043428",
          "status": "completed"
        },
        "tags": [],
        "colab": {
          "base_uri": "https://localhost:8080/"
        },
        "id": "ZwuUh7EZBa0B",
        "outputId": "14e3c55d-6446-4c96-e3a4-0cc9899eb9e7"
      },
      "outputs": [
        {
          "output_type": "stream",
          "name": "stdout",
          "text": [
            "Alignment with 7 rows and 52 columns\n",
            "AEPNAATNYATEAMDSLKTQAIDLISQTWPVVTTVVVAGLVIRL...SKA COATB_BPIKE/30-81\n",
            "AEPNAATNYATEAMDSLKTQAIDLISQTWPVVTTVVVAGLVIKL...SRA Q9T0Q8_BPIKE/1-52\n",
            "DGTSTATSYATEAMNSLKTQATDLIDQTWPVVTSVAVAGLAIRL...SKA COATB_BPI22/32-83\n",
            "AEGDDP---AKAAFNSLQASATEYIGYAWAMVVVIVGATIGIKL...SKA COATB_BPM13/24-72\n",
            "AEGDDP---AKAAFDSLQASATEYIGYAWAMVVVIVGATIGIKL...SKA COATB_BPZJ2/1-49\n",
            "AEGDDP---AKAAFDSLQASATEYIGYAWAMVVVIVGATIGIKL...SKA Q9T0Q9_BPFD/1-49\n",
            "FAADDATSQAKAAFDSLTAQATEMSGYAWALVVLVVGATVGIKL...SRA COATB_BPIF1/22-73 \n",
            "\n"
          ]
        }
      ],
      "source": [
        "# Recall Alignment\n",
        "print(alin2,'\\n')"
      ]
    },
    {
      "cell_type": "code",
      "execution_count": 74,
      "metadata": {
        "execution": {
          "iopub.execute_input": "2023-05-06T19:12:45.315004Z",
          "iopub.status.busy": "2023-05-06T19:12:45.309841Z",
          "iopub.status.idle": "2023-05-06T19:12:45.328579Z",
          "shell.execute_reply": "2023-05-06T19:12:45.329210Z",
          "shell.execute_reply.started": "2021-10-22T17:50:09.258757Z"
        },
        "papermill": {
          "duration": 0.116183,
          "end_time": "2023-05-06T19:12:45.329392",
          "exception": false,
          "start_time": "2023-05-06T19:12:45.213209",
          "status": "completed"
        },
        "tags": [],
        "colab": {
          "base_uri": "https://localhost:8080/"
        },
        "id": "qmDp7ZZBBa0B",
        "outputId": "35c41b3d-29ee-4d38-ad17-70af924b33e0"
      },
      "outputs": [
        {
          "output_type": "stream",
          "name": "stdout",
          "text": [
            "Tree(rooted=True)\n",
            "    Clade(branch_length=0)\n",
            "        Clade(branch_length=0.1672676282051282, name='Inner2')\n",
            "            Clade(branch_length=0.15024038461538464, name='COATB_BPI22/32-83')\n",
            "            Clade(branch_length=0.08052884615384609, name='Inner1')\n",
            "                Clade(branch_length=0.028846153846153855, name='Q9T0Q8_BPIKE/1-52')\n",
            "                Clade(branch_length=0.028846153846153855, name='COATB_BPIKE/30-81')\n",
            "        Clade(branch_length=0.1203926282051282, name='Inner3')\n",
            "            Clade(branch_length=0.17307692307692302, name='Inner4')\n",
            "                Clade(branch_length=0.007211538461538464, name='Inner5')\n",
            "                    Clade(branch_length=0.002403846153846173, name='Q9T0Q9_BPFD/1-49')\n",
            "                    Clade(branch_length=0.0168269230769231, name='COATB_BPM13/24-72')\n",
            "                Clade(branch_length=0.012019230769230754, name='COATB_BPZJ2/1-49')\n",
            "            Clade(branch_length=0.14503205128205127, name='COATB_BPIF1/22-73')\n"
          ]
        }
      ],
      "source": [
        "from Bio.Phylo.TreeConstruction import ParsimonyScorer, NNITreeSearcher,ParsimonyTreeConstructor\n",
        "\n",
        "scorer = ParsimonyScorer()\n",
        "searcher = NNITreeSearcher(scorer)\n",
        "constructor = ParsimonyTreeConstructor(searcher,tree_0)\n",
        "pars_tree = constructor.build_tree(alin2)\n",
        "print(pars_tree)"
      ]
    },
    {
      "cell_type": "code",
      "execution_count": 75,
      "metadata": {
        "execution": {
          "iopub.execute_input": "2023-05-06T19:12:45.528857Z",
          "iopub.status.busy": "2023-05-06T19:12:45.527166Z",
          "iopub.status.idle": "2023-05-06T19:12:45.774816Z",
          "shell.execute_reply": "2023-05-06T19:12:45.774262Z",
          "shell.execute_reply.started": "2021-10-22T17:50:09.294306Z"
        },
        "papermill": {
          "duration": 0.364012,
          "end_time": "2023-05-06T19:12:45.774974",
          "exception": false,
          "start_time": "2023-05-06T19:12:45.410962",
          "status": "completed"
        },
        "tags": [],
        "colab": {
          "base_uri": "https://localhost:8080/",
          "height": 550
        },
        "id": "-QlzItgGBa0B",
        "outputId": "f9d511a4-070a-47a8-ece0-5d1af3db99f6"
      },
      "outputs": [
        {
          "output_type": "display_data",
          "data": {
            "text/plain": [
              "<Figure size 1200x600 with 1 Axes>"
            ],
            "image/png": "[encoded data removed]"
          },
          "metadata": {}
        }
      ],
      "source": [
        "# Plot Tree\n",
        "fig,axes = plt.subplots(1,1,figsize=(12,6))\n",
        "treep = Phylogeny.from_tree(pars_tree)\n",
        "Phylo.draw(treep,axes=axes)"
      ]
    },
    {
      "cell_type": "code",
      "execution_count": 76,
      "metadata": {
        "execution": {
          "iopub.execute_input": "2023-05-06T19:12:46.113675Z",
          "iopub.status.busy": "2023-05-06T19:12:46.112983Z",
          "iopub.status.idle": "2023-05-06T19:12:46.116946Z",
          "shell.execute_reply": "2023-05-06T19:12:46.116408Z",
          "shell.execute_reply.started": "2021-10-22T17:50:09.598606Z"
        },
        "papermill": {
          "duration": 0.092827,
          "end_time": "2023-05-06T19:12:46.117105",
          "exception": false,
          "start_time": "2023-05-06T19:12:46.024278",
          "status": "completed"
        },
        "tags": [],
        "colab": {
          "base_uri": "https://localhost:8080/"
        },
        "id": "Doi0WDQpBa0B",
        "outputId": "f10dd010-7491-48d7-82c7-08889f1d0c5d"
      },
      "outputs": [
        {
          "output_type": "stream",
          "name": "stdout",
          "text": [
            "Tree(rooted=False, weight=1.0)\n",
            "    Clade()\n",
            "        Clade()\n",
            "            Clade()\n",
            "                Clade(name='A')\n",
            "                Clade(name='B')\n",
            "            Clade()\n",
            "                Clade(name='C')\n",
            "                Clade(name='D')\n",
            "            Clade()\n",
            "                Clade(name='E')\n",
            "                Clade(name='F')\n",
            "                Clade(name='G')\n"
          ]
        }
      ],
      "source": [
        "simple = open(\"example.dnd\", \"w\")\n",
        "simple.write('(((A,B),(C,D),(E,F,G)));')\n",
        "simple.close()\n",
        "\n",
        "tree = Phylo.read('example.dnd','newick')\n",
        "print(tree)"
      ]
    },
    {
      "cell_type": "code",
      "execution_count": 77,
      "metadata": {
        "execution": {
          "iopub.execute_input": "2023-05-06T19:12:46.287948Z",
          "iopub.status.busy": "2023-05-06T19:12:46.287231Z",
          "iopub.status.idle": "2023-05-06T19:12:46.291945Z",
          "shell.execute_reply": "2023-05-06T19:12:46.291264Z",
          "shell.execute_reply.started": "2021-10-22T17:50:09.60903Z"
        },
        "papermill": {
          "duration": 0.092207,
          "end_time": "2023-05-06T19:12:46.292101",
          "exception": false,
          "start_time": "2023-05-06T19:12:46.199894",
          "status": "completed"
        },
        "tags": [],
        "colab": {
          "base_uri": "https://localhost:8080/"
        },
        "id": "Hmc9ZBwiBa0B",
        "outputId": "68160115-06d9-4032-a8b1-006d2bdc1f88"
      },
      "outputs": [
        {
          "output_type": "stream",
          "name": "stdout",
          "text": [
            "                                                    ________________________ A\n",
            "                           ________________________|\n",
            "                          |                        |________________________ B\n",
            "                          |\n",
            "                          |                         ________________________ C\n",
            "_ ________________________|________________________|\n",
            "                          |                        |________________________ D\n",
            "                          |\n",
            "                          |                         ________________________ E\n",
            "                          |                        |\n",
            "                          |________________________|________________________ F\n",
            "                                                   |\n",
            "                                                   |________________________ G\n",
            "\n"
          ]
        }
      ],
      "source": [
        "Phylo.draw_ascii(tree)"
      ]
    },
    {
      "cell_type": "code",
      "execution_count": 80,
      "metadata": {
        "execution": {
          "iopub.execute_input": "2023-05-06T19:12:46.466107Z",
          "iopub.status.busy": "2023-05-06T19:12:46.465447Z",
          "iopub.status.idle": "2023-05-06T19:12:46.469679Z",
          "shell.execute_reply": "2023-05-06T19:12:46.469083Z",
          "shell.execute_reply.started": "2021-10-22T17:50:09.621017Z"
        },
        "papermill": {
          "duration": 0.094284,
          "end_time": "2023-05-06T19:12:46.469853",
          "exception": false,
          "start_time": "2023-05-06T19:12:46.375569",
          "status": "completed"
        },
        "tags": [],
        "colab": {
          "base_uri": "https://localhost:8080/"
        },
        "id": "z0mYnCcMBa0B",
        "outputId": "33cc5cc6-8187-4e80-8cee-63e5a5306007"
      },
      "outputs": [
        {
          "output_type": "stream",
          "name": "stdout",
          "text": [
            "Phylogeny(rooted=False)\n",
            "    Clade()\n",
            "        Clade()\n",
            "            Clade()\n",
            "                Clade(name='A')\n",
            "                Clade(name='B')\n",
            "            Clade()\n",
            "                Clade(name='C')\n",
            "                Clade(name='D')\n",
            "            Clade()\n",
            "                Clade(name='E')\n",
            "                Clade(name='F')\n",
            "                Clade(name='G')\n"
          ]
        }
      ],
      "source": [
        "Phylo.convert('example.dnd','newick',\n",
        "              'tree.xml','phyloxml')\n",
        "trees = Phylo.parse('tree.xml','phyloxml')\n",
        "for t in trees:\n",
        "    print(t)"
      ]
    },
    {
      "cell_type": "code",
      "execution_count": 81,
      "metadata": {
        "execution": {
          "iopub.execute_input": "2023-05-06T19:12:46.671076Z",
          "iopub.status.busy": "2023-05-06T19:12:46.657608Z",
          "iopub.status.idle": "2023-05-06T19:12:46.869763Z",
          "shell.execute_reply": "2023-05-06T19:12:46.869034Z",
          "shell.execute_reply.started": "2021-10-22T17:50:09.636094Z"
        },
        "papermill": {
          "duration": 0.315492,
          "end_time": "2023-05-06T19:12:46.869921",
          "exception": false,
          "start_time": "2023-05-06T19:12:46.554429",
          "status": "completed"
        },
        "tags": [],
        "colab": {
          "base_uri": "https://localhost:8080/",
          "height": 458
        },
        "id": "4vm-sQ7BBa0B",
        "outputId": "b296b438-d656-4322-ee71-b438bf383eb1"
      },
      "outputs": [
        {
          "output_type": "display_data",
          "data": {
            "text/plain": [
              "<Figure size 640x480 with 1 Axes>"
            ],
            "image/png": "[encoded data removed]"
          },
          "metadata": {}
        }
      ],
      "source": [
        "treep = Phylogeny.from_tree(tree)\n",
        "Phylo.draw(treep)"
      ]
    },
    {
      "cell_type": "code",
      "execution_count": 82,
      "metadata": {
        "execution": {
          "iopub.execute_input": "2023-05-06T19:12:47.046074Z",
          "iopub.status.busy": "2023-05-06T19:12:47.045399Z",
          "iopub.status.idle": "2023-05-06T19:12:47.269673Z",
          "shell.execute_reply": "2023-05-06T19:12:47.269043Z",
          "shell.execute_reply.started": "2021-10-22T17:50:09.895272Z"
        },
        "papermill": {
          "duration": 0.315357,
          "end_time": "2023-05-06T19:12:47.269834",
          "exception": false,
          "start_time": "2023-05-06T19:12:46.954477",
          "status": "completed"
        },
        "tags": [],
        "colab": {
          "base_uri": "https://localhost:8080/",
          "height": 458
        },
        "id": "5HJz50dtBa0B",
        "outputId": "db1ea7b3-3b89-40aa-c837-1bb3ad045174"
      },
      "outputs": [
        {
          "output_type": "display_data",
          "data": {
            "text/plain": [
              "<Figure size 640x480 with 1 Axes>"
            ],
            "image/png": "[encoded data removed]"
          },
          "metadata": {}
        }
      ],
      "source": [
        "treep.root.color = 'gray'\n",
        "mrca = treep.common_ancestor({'name':'E'},{'name':'F'})\n",
        "mrca.color = 'salmon'\n",
        "treep.clade[0,1].color = 'blue'\n",
        "Phylo.draw(treep)"
      ]
    }
  ],
  "metadata": {
    "kernelspec": {
      "display_name": "Python 3",
      "language": "python",
      "name": "python3"
    },
    "language_info": {
      "codemirror_mode": {
        "name": "ipython",
        "version": 3
      },
      "file_extension": ".py",
      "mimetype": "text/x-python",
      "name": "python",
      "nbconvert_exporter": "python",
      "pygments_lexer": "ipython3",
      "version": "3.7.9"
    },
    "papermill": {
      "default_parameters": {},
      "duration": 172.706651,
      "end_time": "2023-05-06T19:12:48.166109",
      "environment_variables": {},
      "exception": null,
      "input_path": "__notebook__.ipynb",
      "output_path": "__notebook__.ipynb",
      "parameters": {},
      "start_time": "2023-05-06T19:09:55.459458",
      "version": "2.2.2"
    },
    "colab": {
      "provenance": []
    }
  },
  "nbformat": 4,
  "nbformat_minor": 0
}